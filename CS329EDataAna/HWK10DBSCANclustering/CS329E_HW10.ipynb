{
  "nbformat": 4,
  "nbformat_minor": 0,
  "metadata": {
    "kernelspec": {
      "display_name": "Python 3",
      "language": "python",
      "name": "python3"
    },
    "language_info": {
      "codemirror_mode": {
        "name": "ipython",
        "version": 3
      },
      "file_extension": ".py",
      "mimetype": "text/x-python",
      "name": "python",
      "nbconvert_exporter": "python",
      "pygments_lexer": "ipython3",
      "version": "3.8.3"
    },
    "colab": {
      "name": "CS329E_HW10.ipynb",
      "provenance": [],
      "collapsed_sections": []
    }
  },
  "cells": [
    {
      "cell_type": "markdown",
      "metadata": {
        "id": "moZvA4B4LEIz"
      },
      "source": [
        "## C S 329E HW 10\n",
        "\n",
        "# Clustering with DBSCAN\n",
        "\n",
        "## Jeremy Ulfohn, pair 38\n",
        "\n",
        "As we discussed in lecture DBSCAN creates clusters based on the density of the points in the vicinity of the data.  Using small example data sets, we will implement both algorithms and visualize the results.\n",
        "\n",
        "Even though the example data is small and 2 dimensional, write your helper functions to not assume a 2-D data set.  Your plotting code can reference the `x` and `y` column names from the sample data directly. \n",
        "\n",
        "Note that I have added a one or two lines of code to the questions to test your implementations. "
      ]
    },
    {
      "cell_type": "code",
      "metadata": {
        "id": "LWkOPn8wLEI1"
      },
      "source": [
        "# Do not import anything else\n",
        "import pandas as pd\n",
        "import matplotlib.pyplot as plt\n",
        "import numpy as np\n",
        "%matplotlib inline\n",
        "from sklearn.cluster import KMeans\n",
        "from sklearn.cluster import DBSCAN # only on last problem"
      ],
      "execution_count": 178,
      "outputs": []
    },
    {
      "cell_type": "markdown",
      "metadata": {
        "id": "w2XUdbVZLEI2"
      },
      "source": [
        "# DBSCAN"
      ]
    },
    {
      "cell_type": "markdown",
      "metadata": {
        "id": "iPUSLpcULEI2"
      },
      "source": [
        "## Q1 Load the Density Data and try K-means\n",
        "\n",
        "Load in the data provided `data_dbscan.csv`, cluster it with k-means algorithm with $k=2$ and visualize the results with a scatter plot, where the color indicates cluster membership. Label your axes, and give the plot a title. Use the [scikit-learn implementation of K-means](https://scikit-learn.org/stable/modules/generated/sklearn.cluster.KMeans.html)."
      ]
    },
    {
      "cell_type": "code",
      "metadata": {
        "id": "OL0cu27uLEI2",
        "colab": {
          "base_uri": "https://localhost:8080/",
          "height": 295
        },
        "outputId": "52708ab5-bd79-4b06-ef6b-a273fbe9b364"
      },
      "source": [
        "df_dbscan = pd.read_csv('https://gist.githubusercontent.com/yanyanzheng96/c4bf88d73e03305cc0e1abd0a8a8e185/raw/c15f0f59d06ccbe9e708eddaf361cc33c19b1ec6/data_dbscan.csv')\n",
        "arr_dbscan = df_dbscan.to_numpy() # covert df to np.array. length 100\n",
        "\n",
        "# Call k_means with k = 2\n",
        "kmeans = KMeans(n_clusters=2, random_state=0).fit(arr_dbscan)\n",
        "cluster_centers = kmeans.cluster_centers_ # get cluster centers for the 2 clusters, form[x, y]\n",
        "\n",
        "# define and map colors for plot\n",
        "colors = ['#DF2020', '#81DF20']\n",
        "cluster_assignment = pd.Series(kmeans.fit_predict(arr_dbscan))\n",
        "\n",
        "# concatenate cluster_assignment onto df_dbscan for plotting\n",
        "df_dbscan['cluster, 0 or 1'] = cluster_assignment\n",
        "\n",
        "\n",
        "# plot\n",
        "fig, ax = plt.subplots()\n",
        "cmap = plt.get_cmap('jet', 2)\n",
        "df_dbscan.plot(kind='scatter', x='x', y='y', s=10, c='cluster, 0 or 1', colormap=cmap, ax=ax)\n",
        "# title and axis labels\n",
        "plt.title(\"K=2 Cluster Assignments\")\n",
        "plt.xlabel(\"X Value\")\n",
        "plt.ylabel(\"Y Value\")\n",
        "# plotting cluster centers not required\n",
        "\n",
        "# reset df_dbscan to original\n",
        "df_dbscan = pd.read_csv('https://gist.githubusercontent.com/yanyanzheng96/c4bf88d73e03305cc0e1abd0a8a8e185/raw/c15f0f59d06ccbe9e708eddaf361cc33c19b1ec6/data_dbscan.csv')\n",
        "\n"
      ],
      "execution_count": 179,
      "outputs": [
        {
          "output_type": "display_data",
          "data": {
            "image/png": "[encoded data removed]",
            "text/plain": [
              "<Figure size 432x288 with 2 Axes>"
            ]
          },
          "metadata": {
            "needs_background": "light"
          }
        }
      ]
    },
    {
      "cell_type": "markdown",
      "metadata": {
        "id": "kx9reS4ELEI3"
      },
      "source": [
        "## Q2.2 Write function to Implement Range Query\n",
        "\n",
        "Using the [pseudo-code](https://en.wikipedia.org/wiki/DBSCAN#Algorithm) on wikipedia, implement RangeQuery.\n",
        "\n",
        "```\n",
        "RangeQuery(DB, distFunc, Q, eps) {\n",
        "    Neighbors N := empty list\n",
        "    for each point P in database DB {                      /* Scan all points in the database */\n",
        "        if distFunc(Q, P) ≤ eps then {                     /* Compute distance and check epsilon */\n",
        "            N := N ∪ {P}                                   /* Add to result */\n",
        "        }\n",
        "    }\n",
        "    return N\n",
        "}\n",
        "```\n",
        "\n",
        "The \"DB\" parameter is a data frame, `df_data` containing all of the points in our data set, the \"distFunc\" is set as Euclidean distance thus should not be passed in, the point \"Q\", is represented by the index of the data frame, `q_index`, where `df_data.iloc[q_index]` is the actual point, and `eps` is a floating point value that indicates the radius from the point \"Q\" to search for neighbors.  The function will return the slice of `df_data` of all points within `eps` distance of \"Q\" (including \"Q\").  The indices on the slice should be preserved (do not reset_index).  "
      ]
    },
    {
      "cell_type": "code",
      "metadata": {
        "id": "cnRaeg5_LEI3"
      },
      "source": [
        "# INPUT: q_index: index of a point in the dataframe -- df_data.iloc[q_index] -- value at row\n",
        "#       eps = radius from point Q\n",
        "# OUTPUT: df -- slice of df_data with all points within eps of Q. PRESERVE index!\n",
        "def range_query( df_data, q_index, eps ):\n",
        "    # initialize list of indices of pts within eps of Q\n",
        "    list_indices = []\n",
        "\n",
        "    for index, row in df_data.iterrows():\n",
        "        a = np.array(df_data.iloc[q_index]) # <==> np.array(Q)\n",
        "        b = np.array(row)\n",
        "        euclidean = np.linalg.norm(a - b) # here is where we assume the same dimension, d\n",
        "        if euclidean <= eps: # check whether row is within eps\n",
        "            list_indices.append(index)\n",
        "\n",
        "    # return slice of df_data\n",
        "    return df_data.iloc[list_indices]\n"
      ],
      "execution_count": 180,
      "outputs": []
    },
    {
      "cell_type": "code",
      "metadata": {
        "id": "pUMftPNELEI3",
        "colab": {
          "base_uri": "https://localhost:8080/",
          "height": 295
        },
        "outputId": "398c9882-54cc-48ae-84f8-2695c255d79f"
      },
      "source": [
        "# Test it out\n",
        "df_n = range_query( df_dbscan, 0, 0.1 )\n",
        "plt.plot( df_dbscan['x'], df_dbscan['y'], '.', alpha = 0.5 )\n",
        "plt.plot( df_n['x'], df_n['y'], 'r*')\n",
        "plt.xlabel('x')\n",
        "plt.ylabel('y')\n",
        "plt.title('Testing Range Query')\n",
        "plt.show()"
      ],
      "execution_count": 181,
      "outputs": [
        {
          "output_type": "display_data",
          "data": {
            "image/png": "[encoded data removed]",
            "text/plain": [
              "<Figure size 432x288 with 1 Axes>"
            ]
          },
          "metadata": {
            "needs_background": "light"
          }
        }
      ]
    },
    {
      "cell_type": "markdown",
      "metadata": {
        "id": "UQJcIwWJLEI4"
      },
      "source": [
        "## Q2.3 Write a function to implement DBSCAN\n",
        "\n",
        "Using the [pseudo-code](https://en.wikipedia.org/wiki/DBSCAN#Algorithm) on wikipedia, implement DBSCAN. This algorithm uses set notation, I found a handy summary on-line [here](http://www.math.cmu.edu/~bkell/21110-2010s/sets.html) if you need a refresher. \n",
        "\n",
        "```\n",
        "DBSCAN(DB, distFunc, eps, minPts) {\n",
        "    C := 0                                                  /* Cluster counter */\n",
        "    for each point P in database DB {\n",
        "        if label(P) ≠ undefined then continue               /* Previously processed in inner loop */\n",
        "        Neighbors N := RangeQuery(DB, distFunc, P, eps)     /* Find neighbors */\n",
        "        if |N| < minPts then {                              /* Density check */\n",
        "            label(P) := Noise                               /* Label as Noise */\n",
        "            continue\n",
        "        }\n",
        "        C := C + 1                                          /* next cluster label */\n",
        "        label(P) := C                                       /* Label initial point */\n",
        "        SeedSet S := N \\ {P}                                /* Neighbors to expand */\n",
        "        for each point Q in S {                             /* Process every seed point Q */\n",
        "            if label(Q) = Noise then label(Q) := C          /* Change Noise to border point */\n",
        "            if label(Q) ≠ undefined then continue           /* Previously processed (e.g., border point) */\n",
        "            label(Q) := C                                   /* Label neighbor */\n",
        "            Neighbors N := RangeQuery(DB, distFunc, Q, eps) /* Find neighbors */\n",
        "            if |N| ≥ minPts then {                          /* Density check (if Q is a core point) */\n",
        "                S := S ∪ N                                  /* Add new neighbors to seed set */\n",
        "            }\n",
        "        }\n",
        "    }\n",
        "}\n",
        "```\n",
        "\n",
        "The function should accept as parameters \"DB\", a data frame of points to be clustered, `df_data`, no distance function (assuming Euclidean distance), a floating point `eps` that defines the radius, and an integer `minPts`.  The function will return a series of cluster assignments of the same length as `df_data`. If the data is classified as noise, the cluster assignment is $0$, and all of the clusters will have a label of $1-k$, were $k$ is derived in the function and represents the total number of clusters found. \n",
        "\n",
        "Don't forget that [iterrows](https://pandas.pydata.org/pandas-docs/stable/reference/api/pandas.DataFrame.iterrows.html) is a lovely way to loop through a data frame. But if you modify the dataframe within the loop, it doesn't add more iterations to the loop.  For example, if you start with a dataframe of length $n$ and add $3$ rows, then the `iterrows` will stop after $n$ rows. For the inside loop, you'll need to use a native python list to dynamically grow the `SeedSet S`.  You can use the `extend` function to merge 2 lists together. For example:\n",
        "\n",
        "```\n",
        "x = [1,2,3]\n",
        "y = [4,5,6]\n",
        "x.extend(y) # sets x to the list [1, 2, 3, 4, 5, 6]\n",
        "```\n",
        "\n",
        "If you haven't used the [continue](https://docs.python.org/3/tutorial/controlflow.html) statement before, it can be useful in these situations, check out the link. \n",
        "\n",
        "Call `dbscan` with the `df_dbscan` data frame, `eps` set to 0.23, and `min_pts` set to 6 and save the results to `s_cluster_assignments` "
      ]
    },
    {
      "cell_type": "code",
      "metadata": {
        "id": "1I6S3LqPjrTm"
      },
      "source": [
        "def sort_dict(mydict): # input dict's keys assumed unique\n",
        "    result = {}\n",
        "    for key in sorted(mydict):\n",
        "        result[key] = mydict[key]\n",
        "    return result"
      ],
      "execution_count": 182,
      "outputs": []
    },
    {
      "cell_type": "code",
      "metadata": {
        "id": "yGgW2e-QLEI4"
      },
      "source": [
        "# INPUT: int min_pts\n",
        "# OUTPUT: pd.Series of cluster assignments. len == len(df_data.index)\n",
        "#       if point is 'noise', cluster := 0 by default\n",
        "#       all others have cluster := 1 thru k, where k is total # of clusters found\n",
        "def dbscan( df_data, eps, min_pts ):\n",
        "    NOISE_LABEL = 0 # constant noise flag\n",
        "    cluster_label = 0\n",
        "    # to return; dict contains {index: cluster_label}\n",
        "    clusters_dict = {}\n",
        "\n",
        "    # outer loop through points P in DB\n",
        "    for index, row in df_data.iterrows():\n",
        "        # check if this P has already been processed\n",
        "        if index in clusters_dict.keys():\n",
        "            continue\n",
        "        \n",
        "        # get neighbors using range_query() above\n",
        "        df_neighbors = range_query(df_data, index, eps)\n",
        "\n",
        "        # check whether this point is noise by seeing whether it < min_pts parameter\n",
        "        if len(df_neighbors.index) < min_pts:\n",
        "            clusters_dict[index] = NOISE_LABEL # order (ind, cluster)\n",
        "            continue\n",
        "        \n",
        "        # move to next cluster label: 1\n",
        "        # this current P will be our current \"centroid\"\n",
        "        cluster_label += 1\n",
        "        clusters_dict[index] = cluster_label\n",
        "\n",
        "        # expandable LIST [], seed_set -- contains neighbors to expand\n",
        "        #       indices (int) correspond with those of df_neighbors!\n",
        "        seed_inds = df_neighbors.drop(index).index\n",
        "        seed_set = []\n",
        "        for s_ind in seed_inds:\n",
        "            seed_set.append(s_ind)\n",
        "        # seed_set currently contains only P's neighbors (and ~not~ P)\n",
        "\n",
        "        # loop through neighbors (Q) of this current point P\n",
        "        for item in seed_set:\n",
        "            # 1) if neighbor WAS noise, now it's in a cluster, so update (in dict)\n",
        "            # item is the INDEX of P's neighbor Q\n",
        "            if item in clusters_dict.keys(): # nest the if-stmts to avoid indexerror!\n",
        "                if clusters_dict[item] == NOISE_LABEL:\n",
        "                        clusters_dict[item] = cluster_label\n",
        "\n",
        "            # 2) if previously processed, it's a border point, so 'continue'\n",
        "            if item in clusters_dict.keys():\n",
        "                continue\n",
        "\n",
        "            # set this neighbor to current label C, then get neighbors on it\n",
        "            # at this point, only seed points are left in df_neighbors\n",
        "            clusters_dict[item] = cluster_label\n",
        "\n",
        "            df_neighbors_q = range_query(df_data, item, eps)\n",
        "\n",
        "            if len(df_neighbors_q.index) >= min_pts:\n",
        "                # find neighbors OF P's neighbor Q, and add to seed_set if valid core point\n",
        "                # same thing that we did for seed_set, but with Q\n",
        "                n_inds = df_neighbors_q.index\n",
        "                for n_ind in n_inds:\n",
        "                    # seed_set := seed_set UNION n_set. repeats don't matter w \"continue\" stmts\n",
        "                    seed_set.extend([n_ind])\n",
        "\n",
        "\n",
        "    # finally, 1) sort, 2) return the series of cluster assignments\n",
        "    return pd.Series(sort_dict(clusters_dict))\n",
        "\n",
        "    "
      ],
      "execution_count": 183,
      "outputs": []
    },
    {
      "cell_type": "code",
      "metadata": {
        "id": "k84t0MZ8LEI4",
        "colab": {
          "base_uri": "https://localhost:8080/"
        },
        "outputId": "ea7804c4-e9b3-4056-e373-60f36538eba0"
      },
      "source": [
        "# Test it out\n",
        "s_cluster_assignment = dbscan( df_dbscan, 0.23, 6)\n",
        "s_cluster_assignment.value_counts() # ANSWER: 1:49, 2:48, 0:3 [confirmed]"
      ],
      "execution_count": 184,
      "outputs": [
        {
          "output_type": "execute_result",
          "data": {
            "text/plain": [
              "1    49\n",
              "2    48\n",
              "0     3\n",
              "dtype: int64"
            ]
          },
          "metadata": {},
          "execution_count": 184
        }
      ]
    },
    {
      "cell_type": "markdown",
      "metadata": {
        "id": "s8YjaV7wLEI4"
      },
      "source": [
        "## Q2.4 Plot the Results \n",
        "\n",
        "Plot the points in the `df_dbscan` data frame using a 2-D scatter plot, with a different color for each cluster.  Use the cluster assignments from the previous problem (`s_cluster_assignments`). Label your axes, and give the plot a title."
      ]
    },
    {
      "cell_type": "code",
      "metadata": {
        "id": "ugqkYwF0LEI5",
        "colab": {
          "base_uri": "https://localhost:8080/",
          "height": 312
        },
        "outputId": "a8c449ac-1bb6-4cb6-f0ac-e8aca70e1688"
      },
      "source": [
        "# Plot each cluster\n",
        "df_dbscan['cluster'] = s_cluster_assignment\n",
        "\n",
        "fig, ax = plt.subplots()\n",
        "cmap = plt.get_cmap('jet', 3)\n",
        "df_dbscan.plot(kind='scatter', x='x', y='y', s=10, c='cluster', colormap=cmap, ax=ax)\n",
        "# title and axis labels\n",
        "plt.title(\"K=2 Discrete Cluster Assignments. 0 := Noise\")\n",
        "plt.xlabel(\"X Value\")\n",
        "plt.ylabel(\"Y Value\")"
      ],
      "execution_count": 185,
      "outputs": [
        {
          "output_type": "execute_result",
          "data": {
            "text/plain": [
              "Text(0, 0.5, 'Y Value')"
            ]
          },
          "metadata": {},
          "execution_count": 185
        },
        {
          "output_type": "display_data",
          "data": {
            "image/png": "[encoded data removed]",
            "text/plain": [
              "<Figure size 432x288 with 2 Axes>"
            ]
          },
          "metadata": {
            "needs_background": "light"
          }
        }
      ]
    },
    {
      "cell_type": "markdown",
      "metadata": {
        "id": "Pd03UENnLEI5"
      },
      "source": [
        "## Q2.5 Compare your results to the scikit-learn library\n",
        "\n",
        "Import DBSCAN from scikit-learn and compare the cluster labels from your implementation to the cluster labels generated from [scikit-learn's DBSCAN](https://scikit-learn.org/stable/modules/generated/sklearn.cluster.DBSCAN.html). Add some commentary about how you think the results compare. Use the same data and values for eps and minPts."
      ]
    },
    {
      "cell_type": "code",
      "metadata": {
        "id": "EFHBgaz7LEI5",
        "colab": {
          "base_uri": "https://localhost:8080/"
        },
        "outputId": "78b4f331-8f3e-44f2-fec7-eaf89b225a6a"
      },
      "source": [
        "# check your implementation vs scikit-learn\n",
        "from sklearn.cluster import DBSCAN\n",
        "# use same parameters. drop 'cluster' from df_dbscan, which was appended above\n",
        "clustering = DBSCAN(eps=0.23, min_samples=6).fit( df_dbscan.drop(['cluster'], axis=1) )\n",
        "sklearn_df = df_dbscan.join(pd.DataFrame(clustering.labels_+1, columns=[\"sklearn_cluster\"]))\n",
        "print(\"noise-only slice:\")\n",
        "print(sklearn_df[sklearn_df['cluster'] == 0])\n",
        "print(\"\\nfull df and value counts:\")\n",
        "print(sklearn_df)\n",
        "pd.DataFrame(clustering.labels_+1).value_counts()"
      ],
      "execution_count": 194,
      "outputs": [
        {
          "output_type": "stream",
          "name": "stdout",
          "text": [
            "noise-only slice:\n",
            "          x        y  cluster  sklearn_cluster\n",
            "33  0.98700 -0.03970        0                0\n",
            "36  0.99600  0.00596        0                0\n",
            "67 -0.00276  0.63600        0                0\n",
            "\n",
            "full df and value counts:\n",
            "          x      y  cluster  sklearn_cluster\n",
            "0   1.08000 -0.544        1                1\n",
            "1   0.84100 -0.510        1                1\n",
            "2   0.96700 -0.491        1                1\n",
            "3   1.24000 -0.487        1                1\n",
            "4   0.77000 -0.467        1                1\n",
            "..      ...    ...      ...              ...\n",
            "95 -0.00477  1.010        2                2\n",
            "96 -0.35800  1.010        2                2\n",
            "97 -0.05180  1.010        2                2\n",
            "98 -0.15400  1.090        2                2\n",
            "99  0.20800  1.150        2                2\n",
            "\n",
            "[100 rows x 4 columns]\n"
          ]
        },
        {
          "output_type": "execute_result",
          "data": {
            "text/plain": [
              "1    49\n",
              "2    48\n",
              "0     3\n",
              "dtype: int64"
            ]
          },
          "metadata": {},
          "execution_count": 194
        }
      ]
    },
    {
      "cell_type": "markdown",
      "metadata": {
        "id": "VRBsqxlVLEI5"
      },
      "source": [
        "***Commentary:*** In this case, the sklearn implementation and my from-scratch implementation yield the exact same results, as we see in the above. I think that due to DBSCAN\"s rigid nature, the results only would have differed if I had picked a different starting point for the sklearn version, but I'm not sure if even this is correct."
      ]
    }
  ]
}