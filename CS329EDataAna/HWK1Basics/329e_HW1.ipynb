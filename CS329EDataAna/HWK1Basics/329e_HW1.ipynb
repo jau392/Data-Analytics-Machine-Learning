{
  "nbformat": 4,
  "nbformat_minor": 0,
  "metadata": {
    "colab": {
      "name": "329e_HW1.ipynb",
      "provenance": [],
      "collapsed_sections": []
    },
    "kernelspec": {
      "display_name": "Python 3",
      "language": "python",
      "name": "python3"
    },
    "language_info": {
      "codemirror_mode": {
        "name": "ipython",
        "version": 3
      },
      "file_extension": ".py",
      "mimetype": "text/x-python",
      "name": "python",
      "nbconvert_exporter": "python",
      "pygments_lexer": "ipython3",
      "version": "3.8.8"
    }
  },
  "cells": [
    {
      "cell_type": "markdown",
      "metadata": {
        "id": "BoxpSMDOX1_y"
      },
      "source": [
        "# Homework 1\n",
        "\n",
        "## Pair Programming Group Number: FILL IN HERE\n",
        "## Members of Team: FILL IN HERE\n",
        "\n",
        "\n",
        "### Data maniupuation and Visualization!\n",
        "\n",
        "In our first assignment you will practice manipuating and visualizing data from a real wold data set, Melbourne Australia home sales records. \n",
        "\n",
        "### The Data\n",
        "\n",
        "Was taken from a Kaggle competition, and came with the following descriptions:\n",
        "Content & Acknowledgements\n",
        "\n",
        "```\n",
        "This data was scraped from publicly available results posted every week from Domain.com.au, I've cleaned it as best I can, now it's up to you to make data analysis magic. The dataset includes Address, Type of Real estate, Suburb, Method of Selling, Rooms, Price, Real Estate Agent, Date of Sale and distance from C.B.D.\n",
        "\n",
        "….Now with extra data including including property size, land size and council area, you may need to change your code!\n",
        "\n",
        "Some Key Details\n",
        "Suburb: Suburb\n",
        "\n",
        "Address: Address\n",
        "\n",
        "Rooms: Number of rooms\n",
        "\n",
        "Price: Price in Australian dollars\n",
        "\n",
        "Method:\n",
        "S - property sold;\n",
        "SP - property sold prior;\n",
        "PI - property passed in;\n",
        "PN - sold prior not disclosed;\n",
        "SN - sold not disclosed;\n",
        "NB - no bid;\n",
        "VB - vendor bid;\n",
        "W - withdrawn prior to auction;\n",
        "SA - sold after auction;\n",
        "SS - sold after auction price not disclosed.\n",
        "N/A - price or highest bid not available.\n",
        "\n",
        "Type:\n",
        "br - bedroom(s);\n",
        "h - house,cottage,villa, semi,terrace;\n",
        "u - unit, duplex;\n",
        "t - townhouse;\n",
        "dev site - development site;\n",
        "o res - other residential.\n",
        "\n",
        "SellerG: Real Estate Agent\n",
        "\n",
        "Date: Date sold\n",
        "\n",
        "Distance: Distance from CBD in Kilometres\n",
        "\n",
        "Regionname: General Region (West, North West, North, North east …etc)\n",
        "\n",
        "Propertycount: Number of properties that exist in the suburb.\n",
        "\n",
        "Bedroom2 : Scraped # of Bedrooms (from different source)\n",
        "\n",
        "Bathroom: Number of Bathrooms\n",
        "\n",
        "Car: Number of carspots\n",
        "\n",
        "Landsize: Land Size in Metres\n",
        "\n",
        "BuildingArea: Building Size in Metres\n",
        "\n",
        "YearBuilt: Year the house was built\n",
        "\n",
        "CouncilArea: Governing council for the area\n",
        "\n",
        "Lattitude: Self explanitory\n",
        "\n",
        "Longtitude: Self explanitory\n",
        "```\n"
      ]
    },
    {
      "cell_type": "markdown",
      "metadata": {
        "id": "Xc3WoTIgX1_z"
      },
      "source": [
        "## Q1 - Loading Data\n",
        "Run the following code section to load dataset into a pandas DataFrame named `df`. If you need to look up other\n",
        "syntax on how to read csv files you can find it [here](https://pandas.pydata.org/docs/reference/api/pandas.read_csv.html)."
      ]
    },
    {
      "cell_type": "code",
      "metadata": {
        "id": "meTTfqQNX1_0"
      },
      "source": [
        "# remember to type in your standard library import for pandas first\n",
        "import pandas as pd\n",
        "\n",
        "url = 'https://gist.githubusercontent.com/TieJean/ba718aac753c2f90e3d4e040d8f7d982/raw/2aca4164b087fa86721e877b4f1a6bd46d687035/melb_data.csv'\n",
        "\n",
        "# your code goes here - read the data from the URL\n",
        "# ~~~~~~~~~~~~~~~~~~~~~~~~~~~~~~~~~~~~~~~~~~~~~~~~~~~~~~~~~~~~~~~~~~~\n",
        "\n",
        "# import io to read CSV from a string\n",
        "import io # then import requests for request <-> response from URL\n",
        "import requests\n",
        "\n",
        "s = requests.get(url).content\n",
        "data = pd.read_csv(io.StringIO(s.decode('utf-8'))) # stored as var 'data'\n"
      ],
      "execution_count": 6,
      "outputs": []
    },
    {
      "cell_type": "markdown",
      "metadata": {
        "id": "w8oF--FrX1_0"
      },
      "source": [
        "## Q2 - How many unique suburbs are there?\n",
        "\n",
        "Are there any pandas DataFrame operations that can do this for you?\n",
        "\n",
        "[This](https://pandas.pydata.org/pandas-docs/stable/reference/api/pandas.Series.nunique.html) function might help. "
      ]
    },
    {
      "cell_type": "code",
      "metadata": {
        "id": "hLKvAS0YX1_1",
        "colab": {
          "base_uri": "https://localhost:8080/"
        },
        "outputId": "e4853735-b936-459e-b5ca-6513f24e78a9"
      },
      "source": [
        "# code goes here\n",
        "suburbsOnly = pd.DataFrame(data, columns = ['Suburb']) # get dataframe of only suburbs column\n",
        "series = suburbsOnly.squeeze() # squeeze this df into a series, then use nunique() method\n",
        "series.nunique()\n"
      ],
      "execution_count": 7,
      "outputs": [
        {
          "output_type": "execute_result",
          "data": {
            "text/plain": [
              "314"
            ]
          },
          "metadata": {},
          "execution_count": 7
        }
      ]
    },
    {
      "cell_type": "markdown",
      "metadata": {
        "id": "e6X1RCrUX1_1"
      },
      "source": [
        "## Q3 - How many unique properties are there?\n",
        "\n",
        "If you forget the names of the columns you can always type:\n",
        "\n",
        "`df.columns` \n",
        "\n",
        "in a cell by itself to see this list of column names."
      ]
    },
    {
      "cell_type": "code",
      "metadata": {
        "id": "ER7hBbf9X1_2",
        "colab": {
          "base_uri": "https://localhost:8080/"
        },
        "outputId": "c45c390b-6b36-401a-bfbc-5a26086acd58"
      },
      "source": [
        "# code goes here\n",
        "'''\n",
        "addressesOnly = pd.DataFrame(data, columns = ['Address'])\n",
        "series = addressesOnly.squeeze()\n",
        "series.nunique()\n",
        "'''\n",
        "# process: create propertycount-only df, remove duplicates, then sum\n",
        "propCounts = pd.DataFrame(data, columns = ['Propertycount'])\n",
        "noRepeats = propCounts.drop_duplicates() # removes duplicates of the same suburb\n",
        "noRepeats.sum() # sum all UNIQUE property counts\n",
        "\n",
        "\n",
        "\n",
        "\n"
      ],
      "execution_count": 8,
      "outputs": [
        {
          "output_type": "execute_result",
          "data": {
            "text/plain": [
              "Propertycount    1562070.0\n",
              "dtype: float64"
            ]
          },
          "metadata": {},
          "execution_count": 8
        }
      ]
    },
    {
      "cell_type": "markdown",
      "metadata": {
        "id": "BtVI3MNMX1_2"
      },
      "source": [
        "## Q4 - What is the mean price of a property in the Kensington suburb?\n",
        "\n",
        "You are getting the hang of reading the documentation!  Try finding the function\n",
        "for mean yourself at the [root page](https://pandas.pydata.org/pandas-docs/stable/index.html) of the documentation."
      ]
    },
    {
      "cell_type": "code",
      "metadata": {
        "id": "Z9l57TjwX1_3",
        "colab": {
          "base_uri": "https://localhost:8080/"
        },
        "outputId": "c9d483a1-c5d3-40d3-a68d-fafdeb5d2de7"
      },
      "source": [
        "# code goes here\n",
        "# create df of cases where Suburb == Kensington\n",
        "# format: df [ LIKE condition ]\n",
        "kens = data[data['Suburb'] == 'Kensington']\n",
        "kens['Price'].mean() # use mean() method\n",
        "\n"
      ],
      "execution_count": 9,
      "outputs": [
        {
          "output_type": "execute_result",
          "data": {
            "text/plain": [
              "831667.4358974359"
            ]
          },
          "metadata": {},
          "execution_count": 9
        }
      ]
    },
    {
      "cell_type": "markdown",
      "metadata": {
        "id": "-8ZCoblfX1_4"
      },
      "source": [
        "## Q5 - What percentage of properties contain a YearBuilt value?"
      ]
    },
    {
      "cell_type": "code",
      "metadata": {
        "id": "mRRvcWjQX1_4"
      },
      "source": [
        "# code goes here\n",
        "# take rows where YearBuilt is not 'NaN' (simpler than dropping said rows)\n",
        "noNA = data[data['YearBuilt'].notna()]\n",
        "lengthNNA = len(noNA.index)\n",
        "lengthTotal = len(data.index)\n",
        "percentage = ( lengthNNA / lengthTotal ) * 100"
      ],
      "execution_count": 10,
      "outputs": []
    },
    {
      "cell_type": "markdown",
      "metadata": {
        "id": "aiQCYn_IX1_4"
      },
      "source": [
        "## Q6 - Plot the Landsize as a histogram using 20 bins. Say something interesting about the graph.\n",
        "\n",
        "Matplotlib is [here](https://matplotlib.org/3.3.3/api/_as_gen/matplotlib.pyplot.hist.html) to help. \n",
        "\n",
        "In data visualization we discuss the \"Ink Ratio\" of creating graphics.  If you use the definalt bin sizes of the matplotlib histogram function, you will find that the histogram is not very informative.  Use the documentation to guide you to adjust the width of the bins in the histogram to make one _really_ wide bin on the right, and the rest of the bins equally distributed where most of the data resides. "
      ]
    },
    {
      "cell_type": "code",
      "metadata": {
        "id": "Oo6vG_lMX1_5",
        "colab": {
          "base_uri": "https://localhost:8080/",
          "height": 418
        },
        "outputId": "3b945add-b2d8-4d95-d296-0b9226d072f5"
      },
      "source": [
        "# code goes here. first import required libraries matplotlib and NumPy\n",
        "import matplotlib.pyplot as plt\n",
        "import numpy as np\n",
        "\n",
        "# first, create custom binList with very wide rightmost bin (<40,000)\n",
        "binList = [0, 100, 200, 300, 400, 500, 600, 700, 800, 900, 1000, 1100, 1200, 1300, 1400, 1500, 1600, 1700, 1800, 40000]\n",
        "plt.hist(data['Landsize'], density=True, bins=binList) # all data at left, so useless\n",
        "\n",
        "\n",
        "\n",
        "\n",
        "\n"
      ],
      "execution_count": 11,
      "outputs": [
        {
          "output_type": "execute_result",
          "data": {
            "text/plain": [
              "(array([1.65610726e-03, 1.14188891e-03, 1.06748195e-03, 8.59731840e-04,\n",
              "        7.20495064e-04, 1.23839694e-03, 1.49255930e-03, 8.11846177e-04,\n",
              "        3.49933697e-04, 1.70178282e-04, 1.22292618e-04, 5.00957713e-05,\n",
              "        3.60984235e-05, 2.28377781e-05, 2.06276705e-05, 1.69441579e-05,\n",
              "        1.62074554e-05, 1.39973479e-05, 5.03349104e-07]),\n",
              " array([    0,   100,   200,   300,   400,   500,   600,   700,   800,\n",
              "          900,  1000,  1100,  1200,  1300,  1400,  1500,  1600,  1700,\n",
              "         1800, 40000]),\n",
              " <a list of 19 Patch objects>)"
            ]
          },
          "metadata": {},
          "execution_count": 11
        },
        {
          "output_type": "display_data",
          "data": {
            "image/png": "[encoded data removed]",
            "text/plain": [
              "<Figure size 432x288 with 1 Axes>"
            ]
          },
          "metadata": {
            "needs_background": "light"
          }
        }
      ]
    },
    {
      "cell_type": "markdown",
      "metadata": {
        "id": "yd42RX90X1_5"
      },
      "source": [
        "## Q7 - Plot a scatter plot of price as a function of BuildingArea using only rows that have a valid BuildingArea value\n",
        "\n",
        "Break this down into slicing the DataFrame first, then creating the visualization.  There are both `plot` and `scatter` functions in the matplotlib library that can help here.  You'll notice there is more than one way to do a thing so much in computer science 😄\n",
        "\n",
        "If you have to change your axes and end up excluding some points to make the data more visible, then annotate the number of points excluded in the graph. "
      ]
    },
    {
      "cell_type": "code",
      "metadata": {
        "id": "8rCVjyRkX1_5",
        "colab": {
          "base_uri": "https://localhost:8080/",
          "height": 341
        },
        "outputId": "a38694c6-fd92-4d5e-ee0d-9c82327e6fad"
      },
      "source": [
        "# code goes here\n",
        "# first, create df that deselects invalid BuildingArea values\n",
        "validBA = data[data['BuildingArea'].notna()]\n",
        "x = np.log(data['BuildingArea'], dtype='float64')\n",
        "plt.scatter(x, data['Price'], s=1) # make s small to see individual points\n",
        "plt.xlabel('Log10(Building Area)')\n",
        "plt.ylabel('Price')"
      ],
      "execution_count": 12,
      "outputs": [
        {
          "output_type": "stream",
          "name": "stderr",
          "text": [
            "/usr/local/lib/python3.7/dist-packages/pandas/core/series.py:726: RuntimeWarning: divide by zero encountered in log\n",
            "  result = getattr(ufunc, method)(*inputs, **kwargs)\n"
          ]
        },
        {
          "output_type": "execute_result",
          "data": {
            "text/plain": [
              "Text(0, 0.5, 'Price')"
            ]
          },
          "metadata": {},
          "execution_count": 12
        },
        {
          "output_type": "display_data",
          "data": {
            "image/png": "[encoded data removed]",
            "text/plain": [
              "<Figure size 432x288 with 1 Axes>"
            ]
          },
          "metadata": {
            "needs_background": "light"
          }
        }
      ]
    },
    {
      "cell_type": "markdown",
      "metadata": {
        "id": "JBJ-e7kXX1_6"
      },
      "source": [
        "## Q8 - List the top 10 SellerG, and what percentage of properties they have listed \n",
        "\n",
        "I'm going to assume that the SellerG column is the name of the seller group, so \"realtor\" in US parlance.  So, that column is interpreted as the seller that listed the property.\n",
        "\n",
        "Check out the function `value_counts` in pandas documentation. "
      ]
    },
    {
      "cell_type": "code",
      "metadata": {
        "id": "UgG7EEkMX1_6",
        "colab": {
          "base_uri": "https://localhost:8080/"
        },
        "outputId": "b8641681-bbe9-4ffa-b2ce-73217485332b"
      },
      "source": [
        "# code goes here\n",
        "topTenSellers = data.SellerG.value_counts(normalize=True).mul(100) # mul(100) for %\n",
        "topTenSellers.head(10) # head has default 5 rows. use parameter of 10\n"
      ],
      "execution_count": 39,
      "outputs": [
        {
          "output_type": "execute_result",
          "data": {
            "text/plain": [
              "Nelson           11.524300\n",
              "Jellis            9.690722\n",
              "hockingstuart     8.593520\n",
              "Barry             7.444772\n",
              "Ray               5.162003\n",
              "Marshall          4.852725\n",
              "Buxton            4.653903\n",
              "Biggin            2.893962\n",
              "Brad              2.518409\n",
              "Fletchers         2.216495\n",
              "Name: SellerG, dtype: float64"
            ]
          },
          "metadata": {},
          "execution_count": 39
        }
      ]
    },
    {
      "cell_type": "markdown",
      "metadata": {
        "id": "5MBx3GOSX1_6"
      },
      "source": [
        "## Q9 - Fix a problem\n",
        "Your boss has told you that the number of rooms was calculated incorrectly systematically across the entire data set.  Add one room to the Rooms column using two methods:\n",
        "\n",
        " - a for loop, and\n",
        " - using a single statement\n",
        " \n",
        "Save those DataFrames into the variables `df1` and `df2`.  (We don't use these again, for the next questions just continue using `df`)\n",
        "\n",
        "Watch out that you don't accidentally change the original DataFrame using a shallow copy."
      ]
    },
    {
      "cell_type": "code",
      "metadata": {
        "id": "r0ShZHNWX1_6"
      },
      "source": [
        "# code goes here"
      ],
      "execution_count": null,
      "outputs": []
    },
    {
      "cell_type": "markdown",
      "metadata": {
        "id": "FygRoLlQX1_6"
      },
      "source": [
        "## Q10- What is the Address of the earliest built house in the data set?\n",
        "\n",
        "This will exercise your DataFrame slicing ability. "
      ]
    },
    {
      "cell_type": "code",
      "metadata": {
        "id": "82HQO9rUX1_7",
        "colab": {
          "base_uri": "https://localhost:8080/"
        },
        "outputId": "7287a28f-1e9a-4700-fe22-9c0472e696ce"
      },
      "source": [
        "# print address of row where yearbuilt attribute is the minimum\n",
        "print(data[data.YearBuilt == data.YearBuilt.min()].Address) # year = 1196"
      ],
      "execution_count": 43,
      "outputs": [
        {
          "output_type": "stream",
          "name": "stdout",
          "text": [
            "9968    5 Armstrong St\n",
            "Name: Address, dtype: object\n",
            "9968    1196.0\n",
            "Name: YearBuilt, dtype: float64\n"
          ]
        }
      ]
    },
    {
      "cell_type": "markdown",
      "metadata": {
        "id": "4N996VLjX1_7"
      },
      "source": [
        "## Q11 - Save a file \n",
        "\n",
        "The council member for Melbourne has asked for the information for their district.  Assume that there are legal restrcitions and we can only provide the council member the Suburb, Price, and Date from the CouncilArea \"Melbourne\" to the council person.  Export the file with only the allowed columns, and do not write and index column.\n",
        "\n",
        "The other half of `read_csv`, is `to_csv`.  Make sure you follow the documentation and only include the columns asked for in the output."
      ]
    },
    {
      "cell_type": "code",
      "metadata": {
        "id": "MM_CwR9tX1_7"
      },
      "source": [
        "# code goes here"
      ],
      "execution_count": null,
      "outputs": []
    }
  ]
}