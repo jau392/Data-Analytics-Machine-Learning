{
  "nbformat": 4,
  "nbformat_minor": 0,
  "metadata": {
    "kernelspec": {
      "display_name": "Python 3",
      "language": "python",
      "name": "python3"
    },
    "language_info": {
      "codemirror_mode": {
        "name": "ipython",
        "version": 3
      },
      "file_extension": ".py",
      "mimetype": "text/x-python",
      "name": "python",
      "nbconvert_exporter": "python",
      "pygments_lexer": "ipython3",
      "version": "3.8.8"
    },
    "colab": {
      "name": "329e_HW2.ipynb",
      "provenance": [],
      "collapsed_sections": []
    }
  },
  "cells": [
    {
      "cell_type": "markdown",
      "metadata": {
        "id": "73hjkXVznsab"
      },
      "source": [
        "# Homework 2\n",
        "\n",
        "## Pair Programming Group Number: Group 20\n",
        "## Members of Team: 2\n",
        "## Jeremy Ulfohn, Anthony Roth-Giacinto\n",
        "\n",
        "#### Practicing using numpy to do math, and more visualizations\n",
        "\n",
        "More fun using the numerical package, numpy, a touch of pandas, and exercising your math vocabulary. "
      ]
    },
    {
      "cell_type": "code",
      "metadata": {
        "colab": {
          "base_uri": "https://localhost:8080/",
          "height": 343
        },
        "id": "nzXsUemSnsad",
        "outputId": "15ad33e8-8a8b-47ed-bb95-98d797d9c4a2"
      },
      "source": [
        "# Your imports\n",
        "import pandas as pd\n",
        "import numpy as np\n",
        "import matplotlib.pyplot as plt\n",
        "\n",
        "url = 'https://gist.githubusercontent.com/yanyanzheng96/8fe13cc4b7c6a1391d4841018340a627/raw/f17479a580783a810cfe119186e63b5b28a87b4c/melb_data.csv'\n",
        "df = pd.read_csv(url)\n",
        "df.head()\n"
      ],
      "execution_count": 3,
      "outputs": [
        {
          "output_type": "execute_result",
          "data": {
            "text/html": [
              "<div>\n",
              "<style scoped>\n",
              "    .dataframe tbody tr th:only-of-type {\n",
              "        vertical-align: middle;\n",
              "    }\n",
              "\n",
              "    .dataframe tbody tr th {\n",
              "        vertical-align: top;\n",
              "    }\n",
              "\n",
              "    .dataframe thead th {\n",
              "        text-align: right;\n",
              "    }\n",
              "</style>\n",
              "<table border=\"1\" class=\"dataframe\">\n",
              "  <thead>\n",
              "    <tr style=\"text-align: right;\">\n",
              "      <th></th>\n",
              "      <th>Suburb</th>\n",
              "      <th>Address</th>\n",
              "      <th>Rooms</th>\n",
              "      <th>Type</th>\n",
              "      <th>Price</th>\n",
              "      <th>Method</th>\n",
              "      <th>SellerG</th>\n",
              "      <th>Date</th>\n",
              "      <th>Distance</th>\n",
              "      <th>Postcode</th>\n",
              "      <th>Bedroom2</th>\n",
              "      <th>Bathroom</th>\n",
              "      <th>Car</th>\n",
              "      <th>Landsize</th>\n",
              "      <th>BuildingArea</th>\n",
              "      <th>YearBuilt</th>\n",
              "      <th>CouncilArea</th>\n",
              "      <th>Lattitude</th>\n",
              "      <th>Longtitude</th>\n",
              "      <th>Regionname</th>\n",
              "      <th>Propertycount</th>\n",
              "    </tr>\n",
              "  </thead>\n",
              "  <tbody>\n",
              "    <tr>\n",
              "      <th>0</th>\n",
              "      <td>Abbotsford</td>\n",
              "      <td>85 Turner St</td>\n",
              "      <td>2</td>\n",
              "      <td>h</td>\n",
              "      <td>1480000.0</td>\n",
              "      <td>S</td>\n",
              "      <td>Biggin</td>\n",
              "      <td>3/12/2016</td>\n",
              "      <td>2.5</td>\n",
              "      <td>3067.0</td>\n",
              "      <td>2.0</td>\n",
              "      <td>1.0</td>\n",
              "      <td>1.0</td>\n",
              "      <td>202.0</td>\n",
              "      <td>NaN</td>\n",
              "      <td>NaN</td>\n",
              "      <td>Yarra</td>\n",
              "      <td>-37.7996</td>\n",
              "      <td>144.9984</td>\n",
              "      <td>Northern Metropolitan</td>\n",
              "      <td>4019.0</td>\n",
              "    </tr>\n",
              "    <tr>\n",
              "      <th>1</th>\n",
              "      <td>Abbotsford</td>\n",
              "      <td>25 Bloomburg St</td>\n",
              "      <td>2</td>\n",
              "      <td>h</td>\n",
              "      <td>1035000.0</td>\n",
              "      <td>S</td>\n",
              "      <td>Biggin</td>\n",
              "      <td>4/02/2016</td>\n",
              "      <td>2.5</td>\n",
              "      <td>3067.0</td>\n",
              "      <td>2.0</td>\n",
              "      <td>1.0</td>\n",
              "      <td>0.0</td>\n",
              "      <td>156.0</td>\n",
              "      <td>79.0</td>\n",
              "      <td>1900.0</td>\n",
              "      <td>Yarra</td>\n",
              "      <td>-37.8079</td>\n",
              "      <td>144.9934</td>\n",
              "      <td>Northern Metropolitan</td>\n",
              "      <td>4019.0</td>\n",
              "    </tr>\n",
              "    <tr>\n",
              "      <th>2</th>\n",
              "      <td>Abbotsford</td>\n",
              "      <td>5 Charles St</td>\n",
              "      <td>3</td>\n",
              "      <td>h</td>\n",
              "      <td>1465000.0</td>\n",
              "      <td>SP</td>\n",
              "      <td>Biggin</td>\n",
              "      <td>4/03/2017</td>\n",
              "      <td>2.5</td>\n",
              "      <td>3067.0</td>\n",
              "      <td>3.0</td>\n",
              "      <td>2.0</td>\n",
              "      <td>0.0</td>\n",
              "      <td>134.0</td>\n",
              "      <td>150.0</td>\n",
              "      <td>1900.0</td>\n",
              "      <td>Yarra</td>\n",
              "      <td>-37.8093</td>\n",
              "      <td>144.9944</td>\n",
              "      <td>Northern Metropolitan</td>\n",
              "      <td>4019.0</td>\n",
              "    </tr>\n",
              "    <tr>\n",
              "      <th>3</th>\n",
              "      <td>Abbotsford</td>\n",
              "      <td>40 Federation La</td>\n",
              "      <td>3</td>\n",
              "      <td>h</td>\n",
              "      <td>850000.0</td>\n",
              "      <td>PI</td>\n",
              "      <td>Biggin</td>\n",
              "      <td>4/03/2017</td>\n",
              "      <td>2.5</td>\n",
              "      <td>3067.0</td>\n",
              "      <td>3.0</td>\n",
              "      <td>2.0</td>\n",
              "      <td>1.0</td>\n",
              "      <td>94.0</td>\n",
              "      <td>NaN</td>\n",
              "      <td>NaN</td>\n",
              "      <td>Yarra</td>\n",
              "      <td>-37.7969</td>\n",
              "      <td>144.9969</td>\n",
              "      <td>Northern Metropolitan</td>\n",
              "      <td>4019.0</td>\n",
              "    </tr>\n",
              "    <tr>\n",
              "      <th>4</th>\n",
              "      <td>Abbotsford</td>\n",
              "      <td>55a Park St</td>\n",
              "      <td>4</td>\n",
              "      <td>h</td>\n",
              "      <td>1600000.0</td>\n",
              "      <td>VB</td>\n",
              "      <td>Nelson</td>\n",
              "      <td>4/06/2016</td>\n",
              "      <td>2.5</td>\n",
              "      <td>3067.0</td>\n",
              "      <td>3.0</td>\n",
              "      <td>1.0</td>\n",
              "      <td>2.0</td>\n",
              "      <td>120.0</td>\n",
              "      <td>142.0</td>\n",
              "      <td>2014.0</td>\n",
              "      <td>Yarra</td>\n",
              "      <td>-37.8072</td>\n",
              "      <td>144.9941</td>\n",
              "      <td>Northern Metropolitan</td>\n",
              "      <td>4019.0</td>\n",
              "    </tr>\n",
              "  </tbody>\n",
              "</table>\n",
              "</div>"
            ],
            "text/plain": [
              "       Suburb           Address  ...             Regionname Propertycount\n",
              "0  Abbotsford      85 Turner St  ...  Northern Metropolitan        4019.0\n",
              "1  Abbotsford   25 Bloomburg St  ...  Northern Metropolitan        4019.0\n",
              "2  Abbotsford      5 Charles St  ...  Northern Metropolitan        4019.0\n",
              "3  Abbotsford  40 Federation La  ...  Northern Metropolitan        4019.0\n",
              "4  Abbotsford       55a Park St  ...  Northern Metropolitan        4019.0\n",
              "\n",
              "[5 rows x 21 columns]"
            ]
          },
          "metadata": {},
          "execution_count": 3
        }
      ]
    },
    {
      "cell_type": "markdown",
      "metadata": {
        "id": "iqqRnbLrnsad"
      },
      "source": [
        "## Question 1 - Discrete PDF\n",
        "Create a vector of 1000 random numbers from a Normal distribution with mean 5 and standard deviation 10 and plot the discrete probability density function of that vector using a histogram.  You should use [numpy random normal](https://numpy.org/doc/stable/reference/random/generated/numpy.random.normal.html) to create the vector. Always label your axes and give your plots titles (this holds for all questions). "
      ]
    },
    {
      "cell_type": "code",
      "metadata": {
        "id": "0lCfCpqrnsae",
        "colab": {
          "base_uri": "https://localhost:8080/",
          "height": 316
        },
        "outputId": "492959aa-98fd-43a3-bdb6-f8f7792d6edd"
      },
      "source": [
        "random1000 = np.random.normal(loc=5.0, scale=10.0, size=1000) # loc = mean, scale = SD\n",
        "# axis labels and plot title required\n",
        "\n",
        "#For plotting\n",
        "%matplotlib inline\n",
        "plt.style.use('ggplot') # fig is default name of any new figure\n",
        "fig, ax0 = plt.subplots(ncols=1, nrows=1) #creating plot axes\n",
        "(values, bins, _) = ax0.hist(random1000, bins=100, density=True, label=\"Histogram of samples\")\n",
        "ax0.set_xlabel(\"Value of Random Number (Mean := 5)\")\n",
        "ax0.set_ylabel(\"Probability\")\n",
        "ax0.set_title(\"Discrete PDF Histogram\")"
      ],
      "execution_count": 2,
      "outputs": [
        {
          "output_type": "execute_result",
          "data": {
            "text/plain": [
              "Text(0.5, 1.0, 'Discrete PDF Histogram')"
            ]
          },
          "metadata": {},
          "execution_count": 2
        },
        {
          "output_type": "display_data",
          "data": {
            "image/png": "[encoded data removed]",
            "text/plain": [
              "<Figure size 432x288 with 1 Axes>"
            ]
          },
          "metadata": {}
        }
      ]
    },
    {
      "cell_type": "markdown",
      "metadata": {
        "id": "DrsLsUg_nsae"
      },
      "source": [
        "## Question 2 - Discrete CDF\n",
        "\n",
        "Create a discrete cumulative density function plot using the same vector as the last question using a line graph.\n",
        "Annotate the point, $x$, where 80% of the data < $x$ and 20% of the data is greater than $x$.  You can use the matplotlib pyplot function [plot](https://matplotlib.org/3.3.3/api/_as_gen/matplotlib.pyplot.plot.html) to draw the line, and to draw a star at the point $x$.  Use the [legend](https://matplotlib.org/3.3.3/api/_as_gen/matplotlib.pyplot.legend.html) function to annotate the graph. "
      ]
    },
    {
      "cell_type": "code",
      "metadata": {
        "id": "3BhaA6y3nsae",
        "colab": {
          "base_uri": "https://localhost:8080/",
          "height": 317
        },
        "outputId": "88dd10e9-c608-4d19-c7af-9f16cf2a502b"
      },
      "source": [
        "# CUMULATIVE df using LINE graph\n",
        "# star point x :== 80th percentile\n",
        "# sort the data:\n",
        "data = random1000\n",
        "data_sorted = np.sort(data)\n",
        "\n",
        "# calculate the proportional values of samples\n",
        "# np.arrange() creates evenly-spaced values within the given interval\n",
        "p = 1. * np.arange(len(data)) / (len(data) - 1)\n",
        "\n",
        "# plot the sorted data:\n",
        "fig = plt.figure()\n",
        "ax2 = fig.add_subplot(121) # 121 <==> 1 X 2 grid, 1st subplot\n",
        "ax2.plot(data_sorted, p)\n",
        "ax2.set_xlabel('$value$') # add required labels\n",
        "ax2.set_ylabel('$p$')\n",
        "ax2.set_title('Discrete CDF of Vector Data')\n",
        "ax2.annotate(xy=[12, 0.77], s=\"*\")\n",
        "# annotate in a star at point x := p == 0.8\n",
        "import matplotlib.lines as mlines\n",
        "\n",
        "blue_line = mlines.Line2D([], [], color='blue', marker='*',\n",
        "                          markersize=10, label='80th Percentile')\n",
        "ax2.legend(handles=[blue_line])"
      ],
      "execution_count": null,
      "outputs": [
        {
          "output_type": "execute_result",
          "data": {
            "text/plain": [
              "<matplotlib.legend.Legend at 0x7fb8d9a97750>"
            ]
          },
          "metadata": {},
          "execution_count": 33
        },
        {
          "output_type": "display_data",
          "data": {
            "image/png": "[encoded data removed]",
            "text/plain": [
              "<Figure size 432x288 with 1 Axes>"
            ]
          },
          "metadata": {}
        }
      ]
    },
    {
      "cell_type": "markdown",
      "metadata": {
        "id": "uG-sjt5gnsae"
      },
      "source": [
        "## Question 3 - Univariate Analysis\n",
        "\n",
        "Load in the data from melb_data.csv into a pandas DataFrame.  Create a box and whisker graph comparing the prices in the suburbs:\n",
        "  - Reservoir         \n",
        "  - Richmond          \n",
        "  - Bentleigh East\n",
        "  \n",
        "You should use the [boxplot](https://pandas.pydata.org/pandas-docs/stable/reference/api/pandas.DataFrame.boxplot.html) function, with the parameter `by`. "
      ]
    },
    {
      "cell_type": "code",
      "metadata": {
        "id": "SjDSJ5COnsae",
        "colab": {
          "base_uri": "https://localhost:8080/",
          "height": 358
        },
        "outputId": "36f3be3a-d88e-4327-f78a-5f9a5087b4b4"
      },
      "source": [
        "# csv is already imported as df above\n",
        "# select only the 3 suburbs, then only the \"Suburb\" and \"Price\" columns\n",
        "listSubs = [\"Reservoir\", \"Richmond\", \"Bentleigh East\"]\n",
        "threeSubs = df.loc[df[\"Suburb\"].isin(listSubs)][[\"Suburb\", \"Price\"]]\n",
        "\n",
        "# create boxplot\n",
        "bp = threeSubs.boxplot(by=\"Suburb\", column=[\"Price\"]) # 'by' is number of boxes/x\n",
        "bp.set_ylabel(\"Price (Millions)\") # default x label is already fine\n",
        "bp.set_title(\"\")\n",
        "\n"
      ],
      "execution_count": 51,
      "outputs": [
        {
          "output_type": "stream",
          "name": "stderr",
          "text": [
            "/usr/local/lib/python3.7/dist-packages/numpy/core/_asarray.py:83: VisibleDeprecationWarning: Creating an ndarray from ragged nested sequences (which is a list-or-tuple of lists-or-tuples-or ndarrays with different lengths or shapes) is deprecated. If you meant to do this, you must specify 'dtype=object' when creating the ndarray\n",
            "  return array(a, dtype, copy=False, order=order)\n"
          ]
        },
        {
          "output_type": "display_data",
          "data": {
            "image/png": "[encoded data removed]",
            "text/plain": [
              "<Figure size 432x288 with 1 Axes>"
            ]
          },
          "metadata": {}
        }
      ]
    },
    {
      "cell_type": "markdown",
      "metadata": {
        "id": "uSdrj5sgnsaf"
      },
      "source": [
        "## Question 4 - Rotation with Matrices\n",
        "\n",
        "Consider the vectors:\n",
        "  - $\\alpha$ which begins at (0,0) and ends at (1,1)\n",
        "  - $\\beta$ which begins at (1,1) and ends at (0,1)\n",
        "  \n",
        "Draw $\\alpha$ and $\\beta$ using a line graph using a different color for each vector.\n",
        "\n",
        "Now, using matrix multiplication rotate the vectors 45 degrees (clockwise or counter-clockwise, you choose!) and draw the result.  You must use numpy's [matmul](https://numpy.org/doc/stable/reference/generated/numpy.matmul.html) to accomplish the rotation. Numpy also has functions for `sin` and `cos`.  You should also get [pi](https://numpy.org/doc/stable/reference/constants.html?highlight=pi#numpy.pi) from the numpy package. "
      ]
    },
    {
      "cell_type": "code",
      "metadata": {
        "id": "SdGWtoJensaf",
        "colab": {
          "base_uri": "https://localhost:8080/",
          "height": 581
        },
        "outputId": "018e0ddd-6758-4034-99df-f2d0d53f1595"
      },
      "source": [
        "V = np.array([[ 1, 1],\n",
        "              [-1, 0]\n",
        "              ]) # arrow DIRECTION (NOT the coordinate)\n",
        "print(V)\n",
        "origin = np.array([[0, 1],\n",
        "                   [0, 1]\n",
        "                   ]) # arrow origins points (*unpacked)\n",
        "# scale_units = 'xy' mandatory to prevent incorrect autoscaling\n",
        "plt.quiver(*origin, V[:,0], V[:,1], color=['r','b','g'], angles='xy', scale_units='xy', scale=1)\n",
        "plt.show()\n",
        "\n",
        "# perform rotation, using R := known rotation matrix\n",
        "# positive degree of 45 will be CCW / leftward rotation\n",
        "# origin unaffected\n",
        "# default np.trig units: RADIANS ==> 45 deg === pi/4 rad\n",
        "rad = np.pi/4\n",
        "\n",
        "R = np.array([[np.cos(rad), -np.sin(rad)],\n",
        "              [np.sin(rad),  np.cos(rad)]\n",
        "              ])\n",
        "\n",
        "vr1 = np.matmul(R, V[0]) # np.matmul NOT associative! R must be first\n",
        "vr2 = np.matmul(R, V[1])\n",
        "Vrot = np.array([vr1, vr2])\n",
        "print(Vrot)\n",
        "plt.quiver(*origin, Vrot[:,0], Vrot[:,1], color=['r','b','g'], scale_units='xy', scale=1)\n",
        "plt.show()\n",
        "\n",
        "\n",
        "\n",
        "\n",
        "\n"
      ],
      "execution_count": 149,
      "outputs": [
        {
          "output_type": "stream",
          "name": "stdout",
          "text": [
            "[[ 1  1]\n",
            " [-1  0]]\n"
          ]
        },
        {
          "output_type": "display_data",
          "data": {
            "image/png": "[encoded data removed]",
            "text/plain": [
              "<Figure size 432x288 with 1 Axes>"
            ]
          },
          "metadata": {}
        },
        {
          "output_type": "stream",
          "name": "stdout",
          "text": [
            "[[ 1.11022302e-16  1.41421356e+00]\n",
            " [-7.07106781e-01 -7.07106781e-01]]\n"
          ]
        },
        {
          "output_type": "display_data",
          "data": {
            "image/png": "[encoded data removed]",
            "text/plain": [
              "<Figure size 432x288 with 1 Axes>"
            ]
          },
          "metadata": {}
        }
      ]
    },
    {
      "cell_type": "code",
      "metadata": {
        "id": "kJ25YnnGnsaf"
      },
      "source": [
        ""
      ],
      "execution_count": null,
      "outputs": []
    },
    {
      "cell_type": "markdown",
      "metadata": {
        "id": "Hq5QQiP8nsaf"
      },
      "source": [
        "## Question 5 - Solving Systems of Equations with Matrices\n",
        "\n",
        "Consider the following system of equations:\n",
        "  - $2x +  y + z = 5$\n",
        "  - $4x - 6y     = -2$\n",
        "  - $-2x + 7y + 2z = 9$\n",
        "  \n",
        "Convert the coefficients of the system of equations to a matrix, $A$, where the first column contains the $x$ coefficients, the second column contains the $y$ coefficients, and the third column contains the $z$ coefficients. \n",
        "Covert the values on the right hand side to a (3,1) vector, $b$, (make sure you keep all the numbers in order.  Now, solve for $(x,y,z)$ by inverting $A$ and multiplying by $b$, eg, $A^{-1} * b$. \n",
        "\n",
        "Use the numpy [linear algebra inverse function](https://numpy.org/doc/stable/reference/generated/numpy.linalg.inv.html) to find $A^{-1}$."
      ]
    },
    {
      "cell_type": "code",
      "metadata": {
        "id": "ZJtInbrLnsaf",
        "colab": {
          "base_uri": "https://localhost:8080/"
        },
        "outputId": "812bf4ad-2f11-45ea-9336-cd1d8e4383c3"
      },
      "source": [
        "col1 = [2, 1, 1]\n",
        "col2 = [4, -6, 0]\n",
        "col3 = [-2, 7, 2]\n",
        "A = np.asarray([col1, col2, col3]) # np.asarray() to form 3x3 matrix A\n",
        "b = [5, -2, 9]\n",
        "\n",
        "from numpy.linalg import inv\n",
        "ainv = inv(A)\n",
        "xyz = np.dot(ainv, b)\n",
        "print(\"x == \", int(xyz[0]))\n",
        "print(\"y == \", int(xyz[1]))\n",
        "print(\"z == \", int(xyz[2]))\n",
        "\n"
      ],
      "execution_count": 156,
      "outputs": [
        {
          "output_type": "stream",
          "name": "stdout",
          "text": [
            "x ==  1\n",
            "y ==  1\n",
            "z ==  2\n"
          ]
        }
      ]
    }
  ]
}