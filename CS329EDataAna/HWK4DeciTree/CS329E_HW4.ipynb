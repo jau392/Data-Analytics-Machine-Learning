{
  "nbformat": 4,
  "nbformat_minor": 0,
  "metadata": {
    "colab": {
      "name": "CS329E_HW4_url.ipynb",
      "provenance": [],
      "collapsed_sections": []
    },
    "kernelspec": {
      "display_name": "Python 3",
      "language": "python",
      "name": "python3"
    },
    "language_info": {
      "codemirror_mode": {
        "name": "ipython",
        "version": 3
      },
      "file_extension": ".py",
      "mimetype": "text/x-python",
      "name": "python",
      "nbconvert_exporter": "python",
      "pygments_lexer": "ipython3",
      "version": "3.8.8"
    }
  },
  "cells": [
    {
      "cell_type": "markdown",
      "metadata": {
        "id": "CsII0Mcormyn"
      },
      "source": [
        "### C S 329E HW 4\n",
        "\n",
        "## Pair Programming Group Number: #38\n",
        "## Members of Team: Jeremy Ulfohn\n",
        "\n",
        "## Decision Tree Classifier\n",
        "\n",
        "\n",
        "For this weeks homework we are going to explore ideas around decision tree implementation!  \n",
        "\n",
        "We will implement some helper functions that would be necessary for a home-grown tree:\n",
        "  - calc_entropy\n",
        "  - calc_gini\n",
        "  \n",
        "and them test them out at given data splits. \n",
        "  \n",
        "And finally, to perform predictive and descriptive analytics we use the [Decision Tree Classifier](https://scikit-learn.org/stable/modules/tree.html#classification) class in the scikit-learn package.\n",
        "\n",
        "  \n",
        "For this assignment, the stopping condition will be the depth of the tree. The impurity measure can be either `Entropy` or `Gini`.\n",
        "\n",
        "To test our tree built from the Decision Tree Classifier class, we will revisit our Melbourne housing data (that has been cleaned and pruned) and use the files:\n",
        "\n",
        "   - `melb_tree_train.csv` for training the decision tree (we'll also see what happens if we use the same data to test as we used to train the data in the last problem)\n",
        "   - `melb_tree_test.csv` for testing the decision tree\n",
        "\n",
        "There are 10 features in these dataframes that we can use to describe and predict the class label housing \"Type\", which is 'h' house, 'u' duplex, or 't' townhome. "
      ]
    },
    {
      "cell_type": "code",
      "metadata": {
        "id": "XW5qmE_qrmyp"
      },
      "source": [
        "# import the necessary libraries\n",
        "import pandas as pd\n",
        "import numpy as np\n",
        "import matplotlib.pyplot as plt\n",
        "from math import log2\n",
        "from sklearn import tree # you'll probably need to install this - look at Q6 for a link \n",
        "import graphviz # you'll probably need to install this - look at Q6 for a link "
      ],
      "execution_count": 169,
      "outputs": []
    },
    {
      "cell_type": "code",
      "metadata": {
        "colab": {
          "base_uri": "https://localhost:8080/",
          "height": 204
        },
        "id": "oHRp2EZkr9S2",
        "outputId": "87d6f731-6628-4854-c0be-5c71d52632a9"
      },
      "source": [
        "df_train = pd.read_csv('https://gist.githubusercontent.com/yanyanzheng96/f8ba57f8377dee0810271475c728fca8/raw/afa3fa4305b55e31135980835d40b27af31f288c/melb_tree_train.csv')\n",
        "df_train.head()"
      ],
      "execution_count": 170,
      "outputs": [
        {
          "output_type": "execute_result",
          "data": {
            "text/html": [
              "<div>\n",
              "<style scoped>\n",
              "    .dataframe tbody tr th:only-of-type {\n",
              "        vertical-align: middle;\n",
              "    }\n",
              "\n",
              "    .dataframe tbody tr th {\n",
              "        vertical-align: top;\n",
              "    }\n",
              "\n",
              "    .dataframe thead th {\n",
              "        text-align: right;\n",
              "    }\n",
              "</style>\n",
              "<table border=\"1\" class=\"dataframe\">\n",
              "  <thead>\n",
              "    <tr style=\"text-align: right;\">\n",
              "      <th></th>\n",
              "      <th>Rooms</th>\n",
              "      <th>Type</th>\n",
              "      <th>Price</th>\n",
              "      <th>Distance</th>\n",
              "      <th>Bedroom2</th>\n",
              "      <th>Bathroom</th>\n",
              "      <th>Car</th>\n",
              "      <th>Landsize</th>\n",
              "      <th>BuildingArea</th>\n",
              "      <th>YearBuilt</th>\n",
              "      <th>CouncilArea</th>\n",
              "    </tr>\n",
              "  </thead>\n",
              "  <tbody>\n",
              "    <tr>\n",
              "      <th>0</th>\n",
              "      <td>2</td>\n",
              "      <td>t</td>\n",
              "      <td>771000.0</td>\n",
              "      <td>13.8</td>\n",
              "      <td>2.0</td>\n",
              "      <td>1.0</td>\n",
              "      <td>1.0</td>\n",
              "      <td>0.0</td>\n",
              "      <td>99.0</td>\n",
              "      <td>1992.0</td>\n",
              "      <td>Bayside</td>\n",
              "    </tr>\n",
              "    <tr>\n",
              "      <th>1</th>\n",
              "      <td>3</td>\n",
              "      <td>t</td>\n",
              "      <td>700000.0</td>\n",
              "      <td>7.9</td>\n",
              "      <td>3.0</td>\n",
              "      <td>2.0</td>\n",
              "      <td>1.0</td>\n",
              "      <td>189.0</td>\n",
              "      <td>110.0</td>\n",
              "      <td>1990.0</td>\n",
              "      <td>Banyule</td>\n",
              "    </tr>\n",
              "    <tr>\n",
              "      <th>2</th>\n",
              "      <td>3</td>\n",
              "      <td>u</td>\n",
              "      <td>975000.0</td>\n",
              "      <td>12.1</td>\n",
              "      <td>3.0</td>\n",
              "      <td>2.0</td>\n",
              "      <td>1.0</td>\n",
              "      <td>277.0</td>\n",
              "      <td>109.0</td>\n",
              "      <td>1975.0</td>\n",
              "      <td>Glen Eira</td>\n",
              "    </tr>\n",
              "    <tr>\n",
              "      <th>3</th>\n",
              "      <td>3</td>\n",
              "      <td>h</td>\n",
              "      <td>1290000.0</td>\n",
              "      <td>8.0</td>\n",
              "      <td>3.0</td>\n",
              "      <td>1.0</td>\n",
              "      <td>1.0</td>\n",
              "      <td>618.0</td>\n",
              "      <td>132.0</td>\n",
              "      <td>1960.0</td>\n",
              "      <td>Moonee Valley</td>\n",
              "    </tr>\n",
              "    <tr>\n",
              "      <th>4</th>\n",
              "      <td>2</td>\n",
              "      <td>u</td>\n",
              "      <td>500000.0</td>\n",
              "      <td>4.2</td>\n",
              "      <td>2.0</td>\n",
              "      <td>1.0</td>\n",
              "      <td>1.0</td>\n",
              "      <td>0.0</td>\n",
              "      <td>86.0</td>\n",
              "      <td>2000.0</td>\n",
              "      <td>Melbourne</td>\n",
              "    </tr>\n",
              "  </tbody>\n",
              "</table>\n",
              "</div>"
            ],
            "text/plain": [
              "   Rooms Type      Price  ...  BuildingArea  YearBuilt    CouncilArea\n",
              "0      2    t   771000.0  ...          99.0     1992.0        Bayside\n",
              "1      3    t   700000.0  ...         110.0     1990.0        Banyule\n",
              "2      3    u   975000.0  ...         109.0     1975.0      Glen Eira\n",
              "3      3    h  1290000.0  ...         132.0     1960.0  Moonee Valley\n",
              "4      2    u   500000.0  ...          86.0     2000.0      Melbourne\n",
              "\n",
              "[5 rows x 11 columns]"
            ]
          },
          "metadata": {},
          "execution_count": 170
        }
      ]
    },
    {
      "cell_type": "code",
      "metadata": {
        "colab": {
          "base_uri": "https://localhost:8080/",
          "height": 204
        },
        "id": "YPFbglKfsFOv",
        "outputId": "bf586a02-a3ae-441b-f562-e9be72f88275"
      },
      "source": [
        "df_test = pd.read_csv('https://gist.githubusercontent.com/yanyanzheng96/ec66da011b165f0e282c0c1f8447010e/raw/d02c3829a7e9db2d156ba1ab9d5bb4d18ae57be8/melb_tree_test.csv')\n",
        "df_test.head()"
      ],
      "execution_count": 171,
      "outputs": [
        {
          "output_type": "execute_result",
          "data": {
            "text/html": [
              "<div>\n",
              "<style scoped>\n",
              "    .dataframe tbody tr th:only-of-type {\n",
              "        vertical-align: middle;\n",
              "    }\n",
              "\n",
              "    .dataframe tbody tr th {\n",
              "        vertical-align: top;\n",
              "    }\n",
              "\n",
              "    .dataframe thead th {\n",
              "        text-align: right;\n",
              "    }\n",
              "</style>\n",
              "<table border=\"1\" class=\"dataframe\">\n",
              "  <thead>\n",
              "    <tr style=\"text-align: right;\">\n",
              "      <th></th>\n",
              "      <th>Rooms</th>\n",
              "      <th>Type</th>\n",
              "      <th>Price</th>\n",
              "      <th>Distance</th>\n",
              "      <th>Bedroom2</th>\n",
              "      <th>Bathroom</th>\n",
              "      <th>Car</th>\n",
              "      <th>Landsize</th>\n",
              "      <th>BuildingArea</th>\n",
              "      <th>YearBuilt</th>\n",
              "      <th>CouncilArea</th>\n",
              "    </tr>\n",
              "  </thead>\n",
              "  <tbody>\n",
              "    <tr>\n",
              "      <th>0</th>\n",
              "      <td>2</td>\n",
              "      <td>t</td>\n",
              "      <td>930000.0</td>\n",
              "      <td>2.6</td>\n",
              "      <td>2.0</td>\n",
              "      <td>1.0</td>\n",
              "      <td>1.0</td>\n",
              "      <td>97.0</td>\n",
              "      <td>85.0</td>\n",
              "      <td>2004.0</td>\n",
              "      <td>Yarra</td>\n",
              "    </tr>\n",
              "    <tr>\n",
              "      <th>1</th>\n",
              "      <td>3</td>\n",
              "      <td>t</td>\n",
              "      <td>815000.0</td>\n",
              "      <td>11.0</td>\n",
              "      <td>3.0</td>\n",
              "      <td>2.0</td>\n",
              "      <td>2.0</td>\n",
              "      <td>159.0</td>\n",
              "      <td>130.0</td>\n",
              "      <td>2014.0</td>\n",
              "      <td>Hobsons Bay</td>\n",
              "    </tr>\n",
              "    <tr>\n",
              "      <th>2</th>\n",
              "      <td>4</td>\n",
              "      <td>h</td>\n",
              "      <td>638000.0</td>\n",
              "      <td>13.0</td>\n",
              "      <td>4.0</td>\n",
              "      <td>2.0</td>\n",
              "      <td>1.0</td>\n",
              "      <td>624.0</td>\n",
              "      <td>258.0</td>\n",
              "      <td>2005.0</td>\n",
              "      <td>Moreland</td>\n",
              "    </tr>\n",
              "    <tr>\n",
              "      <th>3</th>\n",
              "      <td>2</td>\n",
              "      <td>t</td>\n",
              "      <td>595000.0</td>\n",
              "      <td>11.2</td>\n",
              "      <td>2.0</td>\n",
              "      <td>2.0</td>\n",
              "      <td>1.0</td>\n",
              "      <td>201.0</td>\n",
              "      <td>111.0</td>\n",
              "      <td>2005.0</td>\n",
              "      <td>Moreland</td>\n",
              "    </tr>\n",
              "    <tr>\n",
              "      <th>4</th>\n",
              "      <td>3</td>\n",
              "      <td>t</td>\n",
              "      <td>620500.0</td>\n",
              "      <td>11.2</td>\n",
              "      <td>3.0</td>\n",
              "      <td>2.0</td>\n",
              "      <td>1.0</td>\n",
              "      <td>158.0</td>\n",
              "      <td>117.0</td>\n",
              "      <td>2011.0</td>\n",
              "      <td>Darebin</td>\n",
              "    </tr>\n",
              "  </tbody>\n",
              "</table>\n",
              "</div>"
            ],
            "text/plain": [
              "   Rooms Type     Price  ...  BuildingArea  YearBuilt  CouncilArea\n",
              "0      2    t  930000.0  ...          85.0     2004.0        Yarra\n",
              "1      3    t  815000.0  ...         130.0     2014.0  Hobsons Bay\n",
              "2      4    h  638000.0  ...         258.0     2005.0     Moreland\n",
              "3      2    t  595000.0  ...         111.0     2005.0     Moreland\n",
              "4      3    t  620500.0  ...         117.0     2011.0      Darebin\n",
              "\n",
              "[5 rows x 11 columns]"
            ]
          },
          "metadata": {},
          "execution_count": 171
        }
      ]
    },
    {
      "cell_type": "markdown",
      "metadata": {
        "id": "tSpic2Eurmyq"
      },
      "source": [
        "## Q1 Load the Data\n",
        "Load in the melb_tree_train.csv into a dataframe, and split that dataframe into `df_X`, which contains the features of the data set (everything but `Type`), and `s_y`, the series containing just the class label (just `Type`). The lengths of `df_X` and `s_y` should match."
      ]
    },
    {
      "cell_type": "code",
      "metadata": {
        "id": "FnNRRkhWrmyq",
        "colab": {
          "base_uri": "https://localhost:8080/"
        },
        "outputId": "aaa1ed4e-ce68-441a-ad20-b6dee959fb97"
      },
      "source": [
        "# already eists as df_train\n",
        "df_X = df_train.loc[:, df_train.columns != 'Type'] # loc[ all rows, all col except Type]\n",
        "df_Y = df_train['Type'] # this single column is a 'series' in Pandas\n",
        "# (2) do the same for df_test, for later use\n",
        "test_X = df_test.loc[:, df_train.columns != 'Type']\n",
        "test_Y = df_test['Type']\n",
        "\n",
        "df_Y.head()"
      ],
      "execution_count": 172,
      "outputs": [
        {
          "output_type": "execute_result",
          "data": {
            "text/plain": [
              "0    t\n",
              "1    t\n",
              "2    u\n",
              "3    h\n",
              "4    u\n",
              "Name: Type, dtype: object"
            ]
          },
          "metadata": {},
          "execution_count": 172
        }
      ]
    },
    {
      "cell_type": "markdown",
      "metadata": {
        "id": "OBhSoBUYrmyq"
      },
      "source": [
        "## Q2 Implement a function to calculate entropy \n",
        "Implement a function `calc_entropy` that takes the the class label series, `s_y`, as a parameter. Implement using the definition on p128 in the DM book and only use pandas and log2 libraries"
      ]
    },
    {
      "cell_type": "code",
      "metadata": {
        "id": "Yv5e5k0Lrmyr"
      },
      "source": [
        "# calc_entropy(s_y) definition\n",
        "# from math, all we have is 'log2' to work with\n",
        "def calc_entropy(s_y):\n",
        "  # NOTE: normalize=True converts the counts to relative probs instead\n",
        "  vc = s_y.value_counts(normalize=True, sort=False) # pandas lib\n",
        "  entropy = 0. # initialize as float\n",
        "  for row in vc:\n",
        "    entropy -= row * log2(row) # apply formula\n",
        "  return entropy\n",
        "\n",
        "\n"
      ],
      "execution_count": 173,
      "outputs": []
    },
    {
      "cell_type": "markdown",
      "metadata": {
        "id": "MLp2bn0Xrmyr"
      },
      "source": [
        "## Q3 Use the entropy function to\n",
        "  - (a) Calculate the entropy of the entire training set\n",
        "  - (b) Calculate the entropy of the three partitions formed from the following three intervals:\n",
        "\n",
        "(i) Landsize $\\in [0,200]$\n",
        "\n",
        "(ii) Landsize $\\in (200,450]$\n",
        "\n",
        "(iii) Landsize $\\in (450, \\infty)$"
      ]
    },
    {
      "cell_type": "code",
      "metadata": {
        "id": "VXttKnTirmyr",
        "colab": {
          "base_uri": "https://localhost:8080/"
        },
        "outputId": "8795069d-c16d-45a8-ef78-7c0e303806a2"
      },
      "source": [
        "# The entire data set\n",
        "calc_entropy(df_Y)"
      ],
      "execution_count": 174,
      "outputs": [
        {
          "output_type": "execute_result",
          "data": {
            "text/plain": [
              "1.5825333114261775"
            ]
          },
          "metadata": {},
          "execution_count": 174
        }
      ]
    },
    {
      "cell_type": "code",
      "metadata": {
        "id": "qEm2Nbuxrmys",
        "colab": {
          "base_uri": "https://localhost:8080/"
        },
        "outputId": "b5f89bda-0caf-42ba-df20-4e80acbcbd81"
      },
      "source": [
        "# Less than or equal to 200\n",
        "landsize1 = df_train[df_train['Landsize'] <= 200]['Type']\n",
        "calc_entropy(landsize1)\n"
      ],
      "execution_count": 175,
      "outputs": [
        {
          "output_type": "execute_result",
          "data": {
            "text/plain": [
              "1.3456432116206725"
            ]
          },
          "metadata": {},
          "execution_count": 175
        }
      ]
    },
    {
      "cell_type": "code",
      "metadata": {
        "id": "grNiOkRgrmys",
        "colab": {
          "base_uri": "https://localhost:8080/"
        },
        "outputId": "f9778c09-6f9a-40ae-f865-754fd5bf72eb"
      },
      "source": [
        "# Between 200 and 450.\n",
        "# use .between(inclusive=\"right\") parameter to modify default\n",
        "landsize2 = df_train[df_train['Landsize'].between(200, 450, inclusive=\"right\")]['Type']\n",
        "calc_entropy(landsize2)\n",
        "\n",
        "\n",
        "\n"
      ],
      "execution_count": 176,
      "outputs": [
        {
          "output_type": "execute_result",
          "data": {
            "text/plain": [
              "1.4613003850147297"
            ]
          },
          "metadata": {},
          "execution_count": 176
        }
      ]
    },
    {
      "cell_type": "code",
      "metadata": {
        "id": "hRHOSY7Brmys",
        "colab": {
          "base_uri": "https://localhost:8080/"
        },
        "outputId": "f08d49ff-29e2-473a-e5e5-9be3661ebc37"
      },
      "source": [
        "# greater than 450\n",
        "landsize3 = df_train[df_train['Landsize'] > 450]['Type']\n",
        "calc_entropy(landsize3)\n"
      ],
      "execution_count": 177,
      "outputs": [
        {
          "output_type": "execute_result",
          "data": {
            "text/plain": [
              "1.09954792005911"
            ]
          },
          "metadata": {},
          "execution_count": 177
        }
      ]
    },
    {
      "cell_type": "markdown",
      "metadata": {
        "id": "3STCrFxqrmys"
      },
      "source": [
        "## Q4 Implement a function to calculate the Gini Index\n",
        "Implement the function `calc_gini` that takes the class label series, `s_y`, as a parameter. Implement using the definition on p128 in the DM book and only use the pandas library."
      ]
    },
    {
      "cell_type": "code",
      "metadata": {
        "id": "9HWZHo9_rmyt"
      },
      "source": [
        "def calc_gini( s_y ):\n",
        "  # vc ~~ \"value counts\"\n",
        "  vc = s_y.value_counts(normalize=True, sort=False) # pandas lib\n",
        "  gini = 1. # initialize as float\n",
        "  for row in vc:\n",
        "    gini -= row**2 # apply formula\n",
        "  return gini\n"
      ],
      "execution_count": 178,
      "outputs": []
    },
    {
      "cell_type": "markdown",
      "metadata": {
        "id": "4oxrseZZrmyt"
      },
      "source": [
        "## Q5 Use the Gini Index function to\n",
        "  - (a) Calculate the Gini index of the entire training set\n",
        "  - (b) Calculate the Gini index of the three partitions formed from the following three intervals:\n",
        "\n",
        "(i) Landsize $\\in [0,200]$\n",
        "\n",
        "(ii) Landsize $\\in (200,450]$\n",
        "\n",
        "(iii) Landsize $\\in (450, \\infty)$"
      ]
    },
    {
      "cell_type": "code",
      "metadata": {
        "id": "hSc2RRtHrmyt",
        "colab": {
          "base_uri": "https://localhost:8080/"
        },
        "outputId": "64d2c236-840b-48ea-ca02-d729a287d7f7"
      },
      "source": [
        "# The entire data set\n",
        "calc_gini(df_Y)"
      ],
      "execution_count": 179,
      "outputs": [
        {
          "output_type": "execute_result",
          "data": {
            "text/plain": [
              "0.6655601280292637"
            ]
          },
          "metadata": {},
          "execution_count": 179
        }
      ]
    },
    {
      "cell_type": "code",
      "metadata": {
        "id": "M0fGwiMurmyt",
        "colab": {
          "base_uri": "https://localhost:8080/"
        },
        "outputId": "72c83392-903f-4211-d7a0-ee6a2657ac49"
      },
      "source": [
        "# Less than or equal to 200\n",
        "calc_gini(landsize1)"
      ],
      "execution_count": 180,
      "outputs": [
        {
          "output_type": "execute_result",
          "data": {
            "text/plain": [
              "0.5741211482422965"
            ]
          },
          "metadata": {},
          "execution_count": 180
        }
      ]
    },
    {
      "cell_type": "code",
      "metadata": {
        "id": "Fik-UAdErmyu",
        "colab": {
          "base_uri": "https://localhost:8080/"
        },
        "outputId": "f5505d28-a544-4e92-caf8-d9499bb32dd5"
      },
      "source": [
        "# Between 200 and 450\n",
        "# FIXME, why is this one higher?\n",
        "calc_gini(landsize2)"
      ],
      "execution_count": 181,
      "outputs": [
        {
          "output_type": "execute_result",
          "data": {
            "text/plain": [
              "0.6077339178346639"
            ]
          },
          "metadata": {},
          "execution_count": 181
        }
      ]
    },
    {
      "cell_type": "code",
      "metadata": {
        "id": "wFRETURErmyu",
        "colab": {
          "base_uri": "https://localhost:8080/"
        },
        "outputId": "4c6b7ded-7a0a-4e5a-aec4-c37bc5852f1f"
      },
      "source": [
        "# greater than 450\n",
        "calc_gini(landsize3)"
      ],
      "execution_count": 182,
      "outputs": [
        {
          "output_type": "execute_result",
          "data": {
            "text/plain": [
              "0.43819341715976323"
            ]
          },
          "metadata": {},
          "execution_count": 182
        }
      ]
    },
    {
      "cell_type": "markdown",
      "metadata": {
        "id": "-nM6TlZvrmyu"
      },
      "source": [
        "## Q6 Create a decision tree \n",
        "Using [scikit-learn](https://scikit-learn.org/stable/modules/tree.html#tree) create a multi class classifer for the data set using the Entropy impurity measure and a max depth of 3.\n",
        "\n",
        "Note that scikit-learn's algorithm doesn't handle categorical data, so that needs to be preprocessed using an one hot encoding.\n",
        "\n",
        "Display the tree using `export_text` from sklearn.tree, and use that information to write some descriptive analytics on the classification of houses.  For extra fun, use the export_graphviz to draw the graph (see documentation on the [scikit-learn webpage](https://scikit-learn.org/stable/modules/tree.html#classification)). "
      ]
    },
    {
      "cell_type": "code",
      "metadata": {
        "id": "IT9oxFhUrmyu"
      },
      "source": [
        "# Create multi-class classifier from entropy, w max depth == 3\n",
        "dec_tree = tree.DecisionTreeClassifier(criterion='entropy', max_depth=3)\n",
        "\n",
        "# df_X contains 'CouncilArea' which is categorical, so drop this one\n",
        "df_X = df_X.drop(columns=['CouncilArea'])\n",
        "test_X = test_X.drop(columns=['CouncilArea'])\n",
        "\n",
        "# pd.get_dummies(data=df_Y, columns=['Type'])\n",
        "# preprocess categorical data with one-hot encoding\n",
        "# pd.get_dummies(data=df_X, columns=['CouncilArea'])\n"
      ],
      "execution_count": 183,
      "outputs": []
    },
    {
      "cell_type": "code",
      "metadata": {
        "id": "ZeXj95cSrmyv",
        "colab": {
          "base_uri": "https://localhost:8080/"
        },
        "outputId": "ea97c7c1-bf0a-4eba-d4ee-b80600d471f8"
      },
      "source": [
        "# GOAL: Display text version of the tree, using export_text\n",
        "\n",
        "# get list of column names, for feature_names parameter\n",
        "features = list(df_X.columns)\n",
        "dec_tree = dec_tree.fit(df_X, df_Y)\n",
        "r = tree.export_text(dec_tree, feature_names=features)\n",
        "print(r)\n",
        "\n"
      ],
      "execution_count": 184,
      "outputs": [
        {
          "output_type": "stream",
          "name": "stdout",
          "text": [
            "|--- YearBuilt <= 1977.50\n",
            "|   |--- Rooms <= 2.50\n",
            "|   |   |--- Price <= 915000.00\n",
            "|   |   |   |--- class: u\n",
            "|   |   |--- Price >  915000.00\n",
            "|   |   |   |--- class: h\n",
            "|   |--- Rooms >  2.50\n",
            "|   |   |--- Landsize <= 429.00\n",
            "|   |   |   |--- class: h\n",
            "|   |   |--- Landsize >  429.00\n",
            "|   |   |   |--- class: h\n",
            "|--- YearBuilt >  1977.50\n",
            "|   |--- BuildingArea <= 104.31\n",
            "|   |   |--- Landsize <= 76.00\n",
            "|   |   |   |--- class: u\n",
            "|   |   |--- Landsize >  76.00\n",
            "|   |   |   |--- class: t\n",
            "|   |--- BuildingArea >  104.31\n",
            "|   |   |--- Landsize <= 391.00\n",
            "|   |   |   |--- class: t\n",
            "|   |   |--- Landsize >  391.00\n",
            "|   |   |   |--- class: h\n",
            "\n"
          ]
        }
      ]
    },
    {
      "cell_type": "code",
      "metadata": {
        "id": "XFaREA6Frmyv",
        "colab": {
          "base_uri": "https://localhost:8080/",
          "height": 618
        },
        "outputId": "d725fec6-c332-4898-bd31-c7e99bd77206"
      },
      "source": [
        "# Display graphviz version of the tree\n",
        "clf = tree.DecisionTreeClassifier(criterion='entropy', max_depth=3)\n",
        "clf = clf.fit(df_X, df_Y)\n",
        "\n",
        "import graphviz\n",
        "\n",
        "# make use of .export_graphviz() parameters for better visualization\n",
        "houses_data = tree.export_graphviz(clf, feature_names=features,\n",
        "                                   class_names=[\"House\", \"Townhouse\", \"Unit/Duplex\"],\n",
        "                                   filled=True, rounded=True, special_characters=True)\n",
        "graph = graphviz.Source(houses_data)\n",
        "graph # display graphiz version\n"
      ],
      "execution_count": 185,
      "outputs": [
        {
          "output_type": "execute_result",
          "data": {
            "text/plain": [
              "<graphviz.files.Source at 0x7f48c60d7f90>"
            ],
            "image/svg+xml": "<?xml version=\"1.0\" encoding=\"UTF-8\" standalone=\"no\"?>\n<!DOCTYPE svg PUBLIC \"-//W3C//DTD SVG 1.1//EN\"\n \"http://www.w3.org/Graphics/SVG/1.1/DTD/svg11.dtd\">\n<!-- Generated by graphviz version 2.40.1 (20161225.0304)\n -->\n<!-- Title: Tree Pages: 1 -->\n<svg width=\"1232pt\" height=\"433pt\"\n viewBox=\"0.00 0.00 1232.00 433.00\" xmlns=\"http://www.w3.org/2000/svg\" xmlns:xlink=\"http://www.w3.org/1999/xlink\">\n<g id=\"graph0\" class=\"graph\" transform=\"scale(1 1) rotate(0) translate(4 429)\">\n<title>Tree</title>\n<polygon fill=\"#ffffff\" stroke=\"transparent\" points=\"-4,4 -4,-429 1228,-429 1228,4 -4,4\"/>\n<!-- 0 -->\n<g id=\"node1\" class=\"node\">\n<title>0</title>\n<path fill=\"#ffffff\" stroke=\"#000000\" d=\"M658.5,-425C658.5,-425 518.5,-425 518.5,-425 512.5,-425 506.5,-419 506.5,-413 506.5,-413 506.5,-354 506.5,-354 506.5,-348 512.5,-342 518.5,-342 518.5,-342 658.5,-342 658.5,-342 664.5,-342 670.5,-348 670.5,-354 670.5,-354 670.5,-413 670.5,-413 670.5,-419 664.5,-425 658.5,-425\"/>\n<text text-anchor=\"start\" x=\"529.5\" y=\"-409.8\" font-family=\"Helvetica,sans-Serif\" font-size=\"14.00\" fill=\"#000000\">YearBuilt ≤ 1977.5</text>\n<text text-anchor=\"start\" x=\"537.5\" y=\"-394.8\" font-family=\"Helvetica,sans-Serif\" font-size=\"14.00\" fill=\"#000000\">entropy = 1.583</text>\n<text text-anchor=\"start\" x=\"540.5\" y=\"-379.8\" font-family=\"Helvetica,sans-Serif\" font-size=\"14.00\" fill=\"#000000\">samples = 810</text>\n<text text-anchor=\"start\" x=\"514.5\" y=\"-364.8\" font-family=\"Helvetica,sans-Serif\" font-size=\"14.00\" fill=\"#000000\">value = [248, 281, 281]</text>\n<text text-anchor=\"start\" x=\"526\" y=\"-349.8\" font-family=\"Helvetica,sans-Serif\" font-size=\"14.00\" fill=\"#000000\">class = Townhouse</text>\n</g>\n<!-- 1 -->\n<g id=\"node2\" class=\"node\">\n<title>1</title>\n<path fill=\"#fae7da\" stroke=\"#000000\" d=\"M508.5,-306C508.5,-306 376.5,-306 376.5,-306 370.5,-306 364.5,-300 364.5,-294 364.5,-294 364.5,-235 364.5,-235 364.5,-229 370.5,-223 376.5,-223 376.5,-223 508.5,-223 508.5,-223 514.5,-223 520.5,-229 520.5,-235 520.5,-235 520.5,-294 520.5,-294 520.5,-300 514.5,-306 508.5,-306\"/>\n<text text-anchor=\"start\" x=\"401.5\" y=\"-290.8\" font-family=\"Helvetica,sans-Serif\" font-size=\"14.00\" fill=\"#000000\">Rooms ≤ 2.5</text>\n<text text-anchor=\"start\" x=\"391.5\" y=\"-275.8\" font-family=\"Helvetica,sans-Serif\" font-size=\"14.00\" fill=\"#000000\">entropy = 1.264</text>\n<text text-anchor=\"start\" x=\"394.5\" y=\"-260.8\" font-family=\"Helvetica,sans-Serif\" font-size=\"14.00\" fill=\"#000000\">samples = 370</text>\n<text text-anchor=\"start\" x=\"372.5\" y=\"-245.8\" font-family=\"Helvetica,sans-Serif\" font-size=\"14.00\" fill=\"#000000\">value = [194, 23, 153]</text>\n<text text-anchor=\"start\" x=\"396\" y=\"-230.8\" font-family=\"Helvetica,sans-Serif\" font-size=\"14.00\" fill=\"#000000\">class = House</text>\n</g>\n<!-- 0&#45;&gt;1 -->\n<g id=\"edge1\" class=\"edge\">\n<title>0&#45;&gt;1</title>\n<path fill=\"none\" stroke=\"#000000\" d=\"M537.4363,-341.8796C525.9445,-332.513 513.6532,-322.4948 501.855,-312.8784\"/>\n<polygon fill=\"#000000\" stroke=\"#000000\" points=\"503.7444,-309.903 493.7817,-306.2981 499.3218,-315.329 503.7444,-309.903\"/>\n<text text-anchor=\"middle\" x=\"496.3157\" y=\"-327.4693\" font-family=\"Helvetica,sans-Serif\" font-size=\"14.00\" fill=\"#000000\">True</text>\n</g>\n<!-- 8 -->\n<g id=\"node9\" class=\"node\">\n<title>8</title>\n<path fill=\"#adf4ca\" stroke=\"#000000\" d=\"M829,-306C829,-306 686,-306 686,-306 680,-306 674,-300 674,-294 674,-294 674,-235 674,-235 674,-229 680,-223 686,-223 686,-223 829,-223 829,-223 835,-223 841,-229 841,-235 841,-235 841,-294 841,-294 841,-300 835,-306 829,-306\"/>\n<text text-anchor=\"start\" x=\"682\" y=\"-290.8\" font-family=\"Helvetica,sans-Serif\" font-size=\"14.00\" fill=\"#000000\">BuildingArea ≤ 104.315</text>\n<text text-anchor=\"start\" x=\"706.5\" y=\"-275.8\" font-family=\"Helvetica,sans-Serif\" font-size=\"14.00\" fill=\"#000000\">entropy = 1.341</text>\n<text text-anchor=\"start\" x=\"709.5\" y=\"-260.8\" font-family=\"Helvetica,sans-Serif\" font-size=\"14.00\" fill=\"#000000\">samples = 440</text>\n<text text-anchor=\"start\" x=\"687.5\" y=\"-245.8\" font-family=\"Helvetica,sans-Serif\" font-size=\"14.00\" fill=\"#000000\">value = [54, 258, 128]</text>\n<text text-anchor=\"start\" x=\"695\" y=\"-230.8\" font-family=\"Helvetica,sans-Serif\" font-size=\"14.00\" fill=\"#000000\">class = Townhouse</text>\n</g>\n<!-- 0&#45;&gt;8 -->\n<g id=\"edge8\" class=\"edge\">\n<title>0&#45;&gt;8</title>\n<path fill=\"none\" stroke=\"#000000\" d=\"M647.608,-341.8796C661.3734,-332.1868 676.1299,-321.7961 690.2193,-311.8752\"/>\n<polygon fill=\"#000000\" stroke=\"#000000\" points=\"692.2641,-314.716 698.4254,-306.0969 688.2339,-308.9926 692.2641,-314.716\"/>\n<text text-anchor=\"middle\" x=\"694.1491\" y=\"-327.0285\" font-family=\"Helvetica,sans-Serif\" font-size=\"14.00\" fill=\"#000000\">False</text>\n</g>\n<!-- 2 -->\n<g id=\"node3\" class=\"node\">\n<title>2</title>\n<path fill=\"#a572ed\" stroke=\"#000000\" d=\"M282.5,-187C282.5,-187 158.5,-187 158.5,-187 152.5,-187 146.5,-181 146.5,-175 146.5,-175 146.5,-116 146.5,-116 146.5,-110 152.5,-104 158.5,-104 158.5,-104 282.5,-104 282.5,-104 288.5,-104 294.5,-110 294.5,-116 294.5,-116 294.5,-175 294.5,-175 294.5,-181 288.5,-187 282.5,-187\"/>\n<text text-anchor=\"start\" x=\"165.5\" y=\"-171.8\" font-family=\"Helvetica,sans-Serif\" font-size=\"14.00\" fill=\"#000000\">Price ≤ 915000.0</text>\n<text text-anchor=\"start\" x=\"169.5\" y=\"-156.8\" font-family=\"Helvetica,sans-Serif\" font-size=\"14.00\" fill=\"#000000\">entropy = 0.974</text>\n<text text-anchor=\"start\" x=\"172.5\" y=\"-141.8\" font-family=\"Helvetica,sans-Serif\" font-size=\"14.00\" fill=\"#000000\">samples = 182</text>\n<text text-anchor=\"start\" x=\"154.5\" y=\"-126.8\" font-family=\"Helvetica,sans-Serif\" font-size=\"14.00\" fill=\"#000000\">value = [33, 10, 139]</text>\n<text text-anchor=\"start\" x=\"158\" y=\"-111.8\" font-family=\"Helvetica,sans-Serif\" font-size=\"14.00\" fill=\"#000000\">class = Unit/Duplex</text>\n</g>\n<!-- 1&#45;&gt;2 -->\n<g id=\"edge2\" class=\"edge\">\n<title>1&#45;&gt;2</title>\n<path fill=\"none\" stroke=\"#000000\" d=\"M364.8552,-222.8796C345.0321,-212.2537 323.6444,-200.7891 303.5617,-190.0241\"/>\n<polygon fill=\"#000000\" stroke=\"#000000\" points=\"305.2083,-186.9356 294.7411,-185.2959 301.9011,-193.1051 305.2083,-186.9356\"/>\n</g>\n<!-- 5 -->\n<g id=\"node6\" class=\"node\">\n<title>5</title>\n<path fill=\"#e99558\" stroke=\"#000000\" d=\"M504.5,-187C504.5,-187 380.5,-187 380.5,-187 374.5,-187 368.5,-181 368.5,-175 368.5,-175 368.5,-116 368.5,-116 368.5,-110 374.5,-104 380.5,-104 380.5,-104 504.5,-104 504.5,-104 510.5,-104 516.5,-110 516.5,-116 516.5,-116 516.5,-175 516.5,-175 516.5,-181 510.5,-187 504.5,-187\"/>\n<text text-anchor=\"start\" x=\"386.5\" y=\"-171.8\" font-family=\"Helvetica,sans-Serif\" font-size=\"14.00\" fill=\"#000000\">Landsize ≤ 429.0</text>\n<text text-anchor=\"start\" x=\"391.5\" y=\"-156.8\" font-family=\"Helvetica,sans-Serif\" font-size=\"14.00\" fill=\"#000000\">entropy = 0.737</text>\n<text text-anchor=\"start\" x=\"394.5\" y=\"-141.8\" font-family=\"Helvetica,sans-Serif\" font-size=\"14.00\" fill=\"#000000\">samples = 188</text>\n<text text-anchor=\"start\" x=\"376.5\" y=\"-126.8\" font-family=\"Helvetica,sans-Serif\" font-size=\"14.00\" fill=\"#000000\">value = [161, 13, 14]</text>\n<text text-anchor=\"start\" x=\"396\" y=\"-111.8\" font-family=\"Helvetica,sans-Serif\" font-size=\"14.00\" fill=\"#000000\">class = House</text>\n</g>\n<!-- 1&#45;&gt;5 -->\n<g id=\"edge5\" class=\"edge\">\n<title>1&#45;&gt;5</title>\n<path fill=\"none\" stroke=\"#000000\" d=\"M442.5,-222.8796C442.5,-214.6838 442.5,-205.9891 442.5,-197.5013\"/>\n<polygon fill=\"#000000\" stroke=\"#000000\" points=\"446.0001,-197.298 442.5,-187.2981 439.0001,-197.2981 446.0001,-197.298\"/>\n</g>\n<!-- 3 -->\n<g id=\"node4\" class=\"node\">\n<title>3</title>\n<path fill=\"#8f4fe8\" stroke=\"#000000\" d=\"M129,-68C129,-68 12,-68 12,-68 6,-68 0,-62 0,-56 0,-56 0,-12 0,-12 0,-6 6,0 12,0 12,0 129,0 129,0 135,0 141,-6 141,-12 141,-12 141,-56 141,-56 141,-62 135,-68 129,-68\"/>\n<text text-anchor=\"start\" x=\"19.5\" y=\"-52.8\" font-family=\"Helvetica,sans-Serif\" font-size=\"14.00\" fill=\"#000000\">entropy = 0.595</text>\n<text text-anchor=\"start\" x=\"22.5\" y=\"-37.8\" font-family=\"Helvetica,sans-Serif\" font-size=\"14.00\" fill=\"#000000\">samples = 150</text>\n<text text-anchor=\"start\" x=\"13\" y=\"-22.8\" font-family=\"Helvetica,sans-Serif\" font-size=\"14.00\" fill=\"#000000\">value = [9, 7, 134]</text>\n<text text-anchor=\"start\" x=\"8\" y=\"-7.8\" font-family=\"Helvetica,sans-Serif\" font-size=\"14.00\" fill=\"#000000\">class = Unit/Duplex</text>\n</g>\n<!-- 2&#45;&gt;3 -->\n<g id=\"edge3\" class=\"edge\">\n<title>2&#45;&gt;3</title>\n<path fill=\"none\" stroke=\"#000000\" d=\"M164.6455,-103.9815C151.6632,-94.3313 137.8606,-84.0714 124.9403,-74.4673\"/>\n<polygon fill=\"#000000\" stroke=\"#000000\" points=\"126.7083,-71.4204 116.5946,-68.2637 122.5322,-77.0384 126.7083,-71.4204\"/>\n</g>\n<!-- 4 -->\n<g id=\"node5\" class=\"node\">\n<title>4</title>\n<path fill=\"#eda674\" stroke=\"#000000\" d=\"M270,-68C270,-68 171,-68 171,-68 165,-68 159,-62 159,-56 159,-56 159,-12 159,-12 159,-6 165,0 171,0 171,0 270,0 270,0 276,0 282,-6 282,-12 282,-12 282,-56 282,-56 282,-62 276,-68 270,-68\"/>\n<text text-anchor=\"start\" x=\"173.5\" y=\"-52.8\" font-family=\"Helvetica,sans-Serif\" font-size=\"14.00\" fill=\"#000000\">entropy = 1.05</text>\n<text text-anchor=\"start\" x=\"176.5\" y=\"-37.8\" font-family=\"Helvetica,sans-Serif\" font-size=\"14.00\" fill=\"#000000\">samples = 32</text>\n<text text-anchor=\"start\" x=\"167\" y=\"-22.8\" font-family=\"Helvetica,sans-Serif\" font-size=\"14.00\" fill=\"#000000\">value = [24, 3, 5]</text>\n<text text-anchor=\"start\" x=\"174\" y=\"-7.8\" font-family=\"Helvetica,sans-Serif\" font-size=\"14.00\" fill=\"#000000\">class = House</text>\n</g>\n<!-- 2&#45;&gt;4 -->\n<g id=\"edge4\" class=\"edge\">\n<title>2&#45;&gt;4</title>\n<path fill=\"none\" stroke=\"#000000\" d=\"M220.5,-103.9815C220.5,-95.618 220.5,-86.7965 220.5,-78.3409\"/>\n<polygon fill=\"#000000\" stroke=\"#000000\" points=\"224.0001,-78.2636 220.5,-68.2637 217.0001,-78.2637 224.0001,-78.2636\"/>\n</g>\n<!-- 6 -->\n<g id=\"node7\" class=\"node\">\n<title>6</title>\n<path fill=\"#efb285\" stroke=\"#000000\" d=\"M428.5,-68C428.5,-68 312.5,-68 312.5,-68 306.5,-68 300.5,-62 300.5,-56 300.5,-56 300.5,-12 300.5,-12 300.5,-6 306.5,0 312.5,0 312.5,0 428.5,0 428.5,0 434.5,0 440.5,-6 440.5,-12 440.5,-12 440.5,-56 440.5,-56 440.5,-62 434.5,-68 428.5,-68\"/>\n<text text-anchor=\"start\" x=\"323.5\" y=\"-52.8\" font-family=\"Helvetica,sans-Serif\" font-size=\"14.00\" fill=\"#000000\">entropy = 1.22</text>\n<text text-anchor=\"start\" x=\"326.5\" y=\"-37.8\" font-family=\"Helvetica,sans-Serif\" font-size=\"14.00\" fill=\"#000000\">samples = 69</text>\n<text text-anchor=\"start\" x=\"308.5\" y=\"-22.8\" font-family=\"Helvetica,sans-Serif\" font-size=\"14.00\" fill=\"#000000\">value = [47, 10, 12]</text>\n<text text-anchor=\"start\" x=\"324\" y=\"-7.8\" font-family=\"Helvetica,sans-Serif\" font-size=\"14.00\" fill=\"#000000\">class = House</text>\n</g>\n<!-- 5&#45;&gt;6 -->\n<g id=\"edge6\" class=\"edge\">\n<title>5&#45;&gt;6</title>\n<path fill=\"none\" stroke=\"#000000\" d=\"M415.6899,-103.9815C409.9331,-95.0666 403.8404,-85.6313 398.0559,-76.6734\"/>\n<polygon fill=\"#000000\" stroke=\"#000000\" points=\"400.9904,-74.7658 392.6254,-68.2637 395.1099,-78.5631 400.9904,-74.7658\"/>\n</g>\n<!-- 7 -->\n<g id=\"node8\" class=\"node\">\n<title>7</title>\n<path fill=\"#e68642\" stroke=\"#000000\" d=\"M578,-68C578,-68 471,-68 471,-68 465,-68 459,-62 459,-56 459,-56 459,-12 459,-12 459,-6 465,0 471,0 471,0 578,0 578,0 584,0 590,-6 590,-12 590,-12 590,-56 590,-56 590,-62 584,-68 578,-68\"/>\n<text text-anchor=\"start\" x=\"473.5\" y=\"-52.8\" font-family=\"Helvetica,sans-Serif\" font-size=\"14.00\" fill=\"#000000\">entropy = 0.292</text>\n<text text-anchor=\"start\" x=\"476.5\" y=\"-37.8\" font-family=\"Helvetica,sans-Serif\" font-size=\"14.00\" fill=\"#000000\">samples = 119</text>\n<text text-anchor=\"start\" x=\"467\" y=\"-22.8\" font-family=\"Helvetica,sans-Serif\" font-size=\"14.00\" fill=\"#000000\">value = [114, 3, 2]</text>\n<text text-anchor=\"start\" x=\"478\" y=\"-7.8\" font-family=\"Helvetica,sans-Serif\" font-size=\"14.00\" fill=\"#000000\">class = House</text>\n</g>\n<!-- 5&#45;&gt;7 -->\n<g id=\"edge7\" class=\"edge\">\n<title>5&#45;&gt;7</title>\n<path fill=\"none\" stroke=\"#000000\" d=\"M473.0338,-103.9815C479.6576,-94.9747 486.6721,-85.4367 493.3205,-76.3965\"/>\n<polygon fill=\"#000000\" stroke=\"#000000\" points=\"496.1966,-78.3933 499.3016,-68.2637 490.5574,-74.2461 496.1966,-78.3933\"/>\n</g>\n<!-- 9 -->\n<g id=\"node10\" class=\"node\">\n<title>9</title>\n<path fill=\"#c8a8f4\" stroke=\"#000000\" d=\"M816,-187C816,-187 699,-187 699,-187 693,-187 687,-181 687,-175 687,-175 687,-116 687,-116 687,-110 693,-104 699,-104 699,-104 816,-104 816,-104 822,-104 828,-110 828,-116 828,-116 828,-175 828,-175 828,-181 822,-187 816,-187\"/>\n<text text-anchor=\"start\" x=\"706\" y=\"-171.8\" font-family=\"Helvetica,sans-Serif\" font-size=\"14.00\" fill=\"#000000\">Landsize ≤ 76.0</text>\n<text text-anchor=\"start\" x=\"706.5\" y=\"-156.8\" font-family=\"Helvetica,sans-Serif\" font-size=\"14.00\" fill=\"#000000\">entropy = 1.118</text>\n<text text-anchor=\"start\" x=\"709.5\" y=\"-141.8\" font-family=\"Helvetica,sans-Serif\" font-size=\"14.00\" fill=\"#000000\">samples = 145</text>\n<text text-anchor=\"start\" x=\"700\" y=\"-126.8\" font-family=\"Helvetica,sans-Serif\" font-size=\"14.00\" fill=\"#000000\">value = [5, 49, 91]</text>\n<text text-anchor=\"start\" x=\"695\" y=\"-111.8\" font-family=\"Helvetica,sans-Serif\" font-size=\"14.00\" fill=\"#000000\">class = Unit/Duplex</text>\n</g>\n<!-- 8&#45;&gt;9 -->\n<g id=\"edge9\" class=\"edge\">\n<title>8&#45;&gt;9</title>\n<path fill=\"none\" stroke=\"#000000\" d=\"M757.5,-222.8796C757.5,-214.6838 757.5,-205.9891 757.5,-197.5013\"/>\n<polygon fill=\"#000000\" stroke=\"#000000\" points=\"761.0001,-197.298 757.5,-187.2981 754.0001,-197.2981 761.0001,-197.298\"/>\n</g>\n<!-- 12 -->\n<g id=\"node13\" class=\"node\">\n<title>12</title>\n<path fill=\"#7eeead\" stroke=\"#000000\" d=\"M1062.5,-187C1062.5,-187 938.5,-187 938.5,-187 932.5,-187 926.5,-181 926.5,-175 926.5,-175 926.5,-116 926.5,-116 926.5,-110 932.5,-104 938.5,-104 938.5,-104 1062.5,-104 1062.5,-104 1068.5,-104 1074.5,-110 1074.5,-116 1074.5,-116 1074.5,-175 1074.5,-175 1074.5,-181 1068.5,-187 1062.5,-187\"/>\n<text text-anchor=\"start\" x=\"944.5\" y=\"-171.8\" font-family=\"Helvetica,sans-Serif\" font-size=\"14.00\" fill=\"#000000\">Landsize ≤ 391.0</text>\n<text text-anchor=\"start\" x=\"949.5\" y=\"-156.8\" font-family=\"Helvetica,sans-Serif\" font-size=\"14.00\" fill=\"#000000\">entropy = 1.158</text>\n<text text-anchor=\"start\" x=\"952.5\" y=\"-141.8\" font-family=\"Helvetica,sans-Serif\" font-size=\"14.00\" fill=\"#000000\">samples = 295</text>\n<text text-anchor=\"start\" x=\"934.5\" y=\"-126.8\" font-family=\"Helvetica,sans-Serif\" font-size=\"14.00\" fill=\"#000000\">value = [49, 209, 37]</text>\n<text text-anchor=\"start\" x=\"938\" y=\"-111.8\" font-family=\"Helvetica,sans-Serif\" font-size=\"14.00\" fill=\"#000000\">class = Townhouse</text>\n</g>\n<!-- 8&#45;&gt;12 -->\n<g id=\"edge12\" class=\"edge\">\n<title>8&#45;&gt;12</title>\n<path fill=\"none\" stroke=\"#000000\" d=\"M841.1268,-223.547C865.7174,-211.5047 892.6077,-198.3362 917.1791,-186.3033\"/>\n<polygon fill=\"#000000\" stroke=\"#000000\" points=\"919.0315,-189.2933 926.4731,-181.7518 915.9529,-183.0066 919.0315,-189.2933\"/>\n</g>\n<!-- 10 -->\n<g id=\"node11\" class=\"node\">\n<title>10</title>\n<path fill=\"#9253e8\" stroke=\"#000000\" d=\"M737,-68C737,-68 620,-68 620,-68 614,-68 608,-62 608,-56 608,-56 608,-12 608,-12 608,-6 614,0 620,0 620,0 737,0 737,0 743,0 749,-6 749,-12 749,-12 749,-56 749,-56 749,-62 743,-68 737,-68\"/>\n<text text-anchor=\"start\" x=\"627.5\" y=\"-52.8\" font-family=\"Helvetica,sans-Serif\" font-size=\"14.00\" fill=\"#000000\">entropy = 0.523</text>\n<text text-anchor=\"start\" x=\"634.5\" y=\"-37.8\" font-family=\"Helvetica,sans-Serif\" font-size=\"14.00\" fill=\"#000000\">samples = 68</text>\n<text text-anchor=\"start\" x=\"625\" y=\"-22.8\" font-family=\"Helvetica,sans-Serif\" font-size=\"14.00\" fill=\"#000000\">value = [0, 8, 60]</text>\n<text text-anchor=\"start\" x=\"616\" y=\"-7.8\" font-family=\"Helvetica,sans-Serif\" font-size=\"14.00\" fill=\"#000000\">class = Unit/Duplex</text>\n</g>\n<!-- 9&#45;&gt;10 -->\n<g id=\"edge10\" class=\"edge\">\n<title>9&#45;&gt;10</title>\n<path fill=\"none\" stroke=\"#000000\" d=\"M728.0833,-103.9815C721.7669,-95.0666 715.0818,-85.6313 708.7349,-76.6734\"/>\n<polygon fill=\"#000000\" stroke=\"#000000\" points=\"711.4136,-74.3998 702.7765,-68.2637 705.7019,-78.4466 711.4136,-74.3998\"/>\n</g>\n<!-- 11 -->\n<g id=\"node12\" class=\"node\">\n<title>11</title>\n<path fill=\"#d4f9e4\" stroke=\"#000000\" d=\"M896,-68C896,-68 779,-68 779,-68 773,-68 767,-62 767,-56 767,-56 767,-12 767,-12 767,-6 773,0 779,0 779,0 896,0 896,0 902,0 908,-6 908,-12 908,-12 908,-56 908,-56 908,-62 902,-68 896,-68\"/>\n<text text-anchor=\"start\" x=\"786.5\" y=\"-52.8\" font-family=\"Helvetica,sans-Serif\" font-size=\"14.00\" fill=\"#000000\">entropy = 1.269</text>\n<text text-anchor=\"start\" x=\"793.5\" y=\"-37.8\" font-family=\"Helvetica,sans-Serif\" font-size=\"14.00\" fill=\"#000000\">samples = 77</text>\n<text text-anchor=\"start\" x=\"780\" y=\"-22.8\" font-family=\"Helvetica,sans-Serif\" font-size=\"14.00\" fill=\"#000000\">value = [5, 41, 31]</text>\n<text text-anchor=\"start\" x=\"775\" y=\"-7.8\" font-family=\"Helvetica,sans-Serif\" font-size=\"14.00\" fill=\"#000000\">class = Townhouse</text>\n</g>\n<!-- 9&#45;&gt;11 -->\n<g id=\"edge11\" class=\"edge\">\n<title>9&#45;&gt;11</title>\n<path fill=\"none\" stroke=\"#000000\" d=\"M787.289,-103.9815C793.7514,-94.9747 800.5948,-85.4367 807.081,-76.3965\"/>\n<polygon fill=\"#000000\" stroke=\"#000000\" points=\"809.9303,-78.4291 812.9162,-68.2637 804.2428,-74.3483 809.9303,-78.4291\"/>\n</g>\n<!-- 13 -->\n<g id=\"node14\" class=\"node\">\n<title>13</title>\n<path fill=\"#69eb9f\" stroke=\"#000000\" d=\"M1062.5,-68C1062.5,-68 938.5,-68 938.5,-68 932.5,-68 926.5,-62 926.5,-56 926.5,-56 926.5,-12 926.5,-12 926.5,-6 932.5,0 938.5,0 938.5,0 1062.5,0 1062.5,0 1068.5,0 1074.5,-6 1074.5,-12 1074.5,-12 1074.5,-56 1074.5,-56 1074.5,-62 1068.5,-68 1062.5,-68\"/>\n<text text-anchor=\"start\" x=\"949.5\" y=\"-52.8\" font-family=\"Helvetica,sans-Serif\" font-size=\"14.00\" fill=\"#000000\">entropy = 0.933</text>\n<text text-anchor=\"start\" x=\"952.5\" y=\"-37.8\" font-family=\"Helvetica,sans-Serif\" font-size=\"14.00\" fill=\"#000000\">samples = 245</text>\n<text text-anchor=\"start\" x=\"934.5\" y=\"-22.8\" font-family=\"Helvetica,sans-Serif\" font-size=\"14.00\" fill=\"#000000\">value = [18, 194, 33]</text>\n<text text-anchor=\"start\" x=\"938\" y=\"-7.8\" font-family=\"Helvetica,sans-Serif\" font-size=\"14.00\" fill=\"#000000\">class = Townhouse</text>\n</g>\n<!-- 12&#45;&gt;13 -->\n<g id=\"edge13\" class=\"edge\">\n<title>12&#45;&gt;13</title>\n<path fill=\"none\" stroke=\"#000000\" d=\"M1000.5,-103.9815C1000.5,-95.618 1000.5,-86.7965 1000.5,-78.3409\"/>\n<polygon fill=\"#000000\" stroke=\"#000000\" points=\"1004.0001,-78.2636 1000.5,-68.2637 997.0001,-78.2637 1004.0001,-78.2636\"/>\n</g>\n<!-- 14 -->\n<g id=\"node15\" class=\"node\">\n<title>14</title>\n<path fill=\"#f3c5a4\" stroke=\"#000000\" d=\"M1212,-68C1212,-68 1105,-68 1105,-68 1099,-68 1093,-62 1093,-56 1093,-56 1093,-12 1093,-12 1093,-6 1099,0 1105,0 1105,0 1212,0 1212,0 1218,0 1224,-6 1224,-12 1224,-12 1224,-56 1224,-56 1224,-62 1218,-68 1212,-68\"/>\n<text text-anchor=\"start\" x=\"1111.5\" y=\"-52.8\" font-family=\"Helvetica,sans-Serif\" font-size=\"14.00\" fill=\"#000000\">entropy = 1.24</text>\n<text text-anchor=\"start\" x=\"1114.5\" y=\"-37.8\" font-family=\"Helvetica,sans-Serif\" font-size=\"14.00\" fill=\"#000000\">samples = 50</text>\n<text text-anchor=\"start\" x=\"1101\" y=\"-22.8\" font-family=\"Helvetica,sans-Serif\" font-size=\"14.00\" fill=\"#000000\">value = [31, 15, 4]</text>\n<text text-anchor=\"start\" x=\"1112\" y=\"-7.8\" font-family=\"Helvetica,sans-Serif\" font-size=\"14.00\" fill=\"#000000\">class = House</text>\n</g>\n<!-- 12&#45;&gt;14 -->\n<g id=\"edge14\" class=\"edge\">\n<title>12&#45;&gt;14</title>\n<path fill=\"none\" stroke=\"#000000\" d=\"M1059.3334,-103.9815C1073.211,-94.1881 1087.9784,-83.7668 1101.7614,-74.0402\"/>\n<polygon fill=\"#000000\" stroke=\"#000000\" points=\"1104.0469,-76.7111 1110.1993,-68.0856 1100.0108,-70.9918 1104.0469,-76.7111\"/>\n</g>\n</g>\n</svg>\n"
          },
          "metadata": {},
          "execution_count": 185
        }
      ]
    },
    {
      "cell_type": "markdown",
      "metadata": {
        "id": "UtkL3I7Irmyv"
      },
      "source": [
        "➡️ Descriptive Analytics: ⬅️ \\\n",
        "In general, older residences and those with larger lot sizes/rooms are likely to be houses. \\\n",
        "Among newer buildings, those with larger interior square footages and land sizes are more likely to be townhouses, but \\\n",
        "land size is the more important of the two (obviously, since no apartment has a lot size). Of newer residences, \\\n",
        "only very high lot sizes are predicted to be houses. Entropy is the lowest for old, large-lotted buildings, which are \\\n",
        "almost all houses (n = 119). It's the highest (at the 3rd/bottom node depth) for new buildings of intermediate land size, \\\n",
        "which are predicted by only a small margin (41 vs 31 vs 5) to be townhouses.\n"
      ]
    },
    {
      "cell_type": "markdown",
      "metadata": {
        "id": "jw32op9grmyv"
      },
      "source": [
        "## Q7 Calculate the Accuracy and Display Learning Curve\n",
        "Load in the test data from melb_tree_test.csv.\n",
        "\n",
        "Use the scikit-learn library to create many decision trees, each one with a different configuration (aka Hyperparameters).  You will create 28 different trees by:\n",
        "\n",
        "    - Varying the max depth from 2 to 15 with the Gini Index as the impurity measure\n",
        "    - Varying the max depth from 2 to 15 with the Entropy as the impurity measure\n",
        "\n",
        "Implementation tip: you can create an array of numbers from 2 to 15 by using the numpy function [arange](https://numpy.org/doc/stable/reference/generated/numpy.arange.html).\n",
        "\n",
        "For each of the 28 decistion trees, calculate the error rate by using the data in the: \n",
        "  - Training set, and\n",
        "  - Test set.\n",
        "\n",
        "Display the results graphicaly, and offer an analysis of the trend (or if no trend present, offer a hypotheisis of why).  The max depth should be on the x-axis, and the error rate should be on the y-axis (see figure 3.23 in your DM textbook for a similar style of graph that uses leaf nodes instead of depth for the x-axis). Your plot will include 4 series of data\n",
        "   - Test error (entropy)\n",
        "   - Test error (gini index)\n",
        "   - Training error (entropy)\n",
        "   - Training error (gini index)"
      ]
    },
    {
      "cell_type": "code",
      "metadata": {
        "id": "6Y7YProxrmyw"
      },
      "source": [
        "# Load in the test data (already done, called df_test)\n",
        "df_test.head()\n",
        "# see above (Q1) for test_X and test_Y\n",
        "# ~~~~~~~~~~~~~~~~~~~~~~~~~~~~~~~~~~~~~~~~~~~~~~~~~~~~~~~~~~~~~~~\n",
        "# import required module from sklearn\n",
        "from sklearn.metrics import accuracy_score\n",
        "\n",
        "\n",
        "\n",
        "  \n",
        "\n",
        "\n",
        "\n",
        "\n",
        "\n"
      ],
      "execution_count": 186,
      "outputs": []
    },
    {
      "cell_type": "code",
      "metadata": {
        "id": "Mn7Ocq2zrmyw"
      },
      "source": [
        "# Build the trees using the training data\n",
        "# 1) BUILD 14+14 TREES\n",
        "# build NumPy array [2, 15] using numpy.arange (pretty much a shortcut for normal Python loop for this)\n",
        "depths = np.arange(2, 16)\n",
        "\n",
        "# lists to contain 14 trees each\n",
        "trees_entropy = []\n",
        "trees_gini = []\n",
        "\n",
        "for d in depths: # loop through array, and for each one create a new tree\n",
        "  trees_gini.append(tree.DecisionTreeClassifier(criterion='gini', max_depth=d).fit(df_X, df_Y)) # ex. of hyperparameters\n",
        "  trees_entropy.append(tree.DecisionTreeClassifier(criterion='entropy', max_depth=d).fit(df_X, df_Y)) # classifier method, then fit method for full tree\n",
        "\n",
        "# 2) CALCULATE ERROR RATES\n",
        "from sklearn.metrics import accuracy_score # import accuracy_score module from SKL\n",
        "\n",
        "# for each tree in trees_entropy, trees_gini, calculated error rate (1 - accuracy score)\n",
        "# create the 4 arrays (ent/gini vs train/test)\n",
        "entropy_errors = [] # TRAIN\n",
        "gini_errors = [] # TRAIN\n",
        "test_entropy_errors = []\n",
        "test_gini_errors = []\n",
        "\n",
        "for clf in trees_entropy: # populate the ENTROPY errors lists\n",
        "  y_predict = clf.predict(df_X)\n",
        "  testY_predict = clf.predict(test_X)\n",
        "  entropy_errors.append(1 - accuracy_score(df_Y, y_predict)) # append the error rate to the errors []\n",
        "  test_entropy_errors.append(1 - accuracy_score(test_Y, testY_predict))\n",
        "\n",
        "for clf in trees_gini: # populate the GINI errors lists\n",
        "  y_predict = clf.predict(df_X)\n",
        "  testY_predict = clf.predict(test_X)\n",
        "  gini_errors.append(1 - accuracy_score(df_Y, y_predict)) # append the error rate to the errors []\n",
        "  test_gini_errors.append(1 - accuracy_score(test_Y, testY_predict))"
      ],
      "execution_count": 187,
      "outputs": []
    },
    {
      "cell_type": "code",
      "metadata": {
        "id": "E-z2Clf2rmyw",
        "colab": {
          "base_uri": "https://localhost:8080/",
          "height": 312
        },
        "outputId": "01628ef9-3d9d-4f9e-d1c4-b4147121e8f2"
      },
      "source": [
        "# 3) GRAPH/PLOT the 4 learning curves\n",
        "# x axis -- depth\n",
        "# y axis -- error\n",
        "plt.plot(depths, entropy_errors, label=\"Train Entropy\")\n",
        "plt.plot(depths, gini_errors, label=\"Train GINI\")\n",
        "plt.plot(depths, test_entropy_errors, label=\"Test Entropy\")\n",
        "plt.plot(depths, test_gini_errors, label=\"Test GINI\")\n",
        "\n",
        "plt.legend() # default legend() method makes use of labels\n",
        "plt.xlabel(\"Decision Tree Depth\")\n",
        "plt.ylabel(\"Error Rate\")\n",
        "plt.title(\"Train and Test Data by Hyperparameter Accuracy Graph\")"
      ],
      "execution_count": 188,
      "outputs": [
        {
          "output_type": "execute_result",
          "data": {
            "text/plain": [
              "Text(0.5, 1.0, 'Train and Test Data by Hyperparameter Accuracy Graph')"
            ]
          },
          "metadata": {},
          "execution_count": 188
        },
        {
          "output_type": "display_data",
          "data": {
            "image/png": "[encoded data removed]",
            "text/plain": [
              "<Figure size 432x288 with 1 Axes>"
            ]
          },
          "metadata": {
            "needs_background": "light"
          }
        }
      ]
    },
    {
      "cell_type": "markdown",
      "metadata": {
        "id": "sTT774qwrmyw"
      },
      "source": [
        "➡️ Answer containing your analysis of the trend (or if no trend present, offer a hypotheisis of why) here ⬅️ \\\n",
        "For all 4 tree hyperparameter and dataframe combinations, the model is more likely to be accurate as DT depth goes from 1 to 3. After the 3-4 range, it becomes LESS accurate (on average) to increase tree depth for the training data (regardless of whether Entropy or GINI was used as the criterion up until a depth of 12, where it resumed the \"beneficial\" trend from the far left. For the test data, it was beneficial to increase the depth, and this was the also the case regardless of hyperparameter, illustrating that hyperparameter actually didn't make much of a difference in this case.\\\n",
        "\\\n",
        "It seems that the stark difference between train and test after the depth of 3-4 is due to the fact that the test data were the datapoints upon which the tree was created, and that since there aren't THAT many parameters, overspecifying puts nodes with very small sample sizes on the tree that increase in entropy with depth. This is the exact definition of overfitting, making this graph a great illustration of this notion.\n"
      ]
    }
  ]
}