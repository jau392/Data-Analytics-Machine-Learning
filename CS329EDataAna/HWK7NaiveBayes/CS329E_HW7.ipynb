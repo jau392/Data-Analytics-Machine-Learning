{
  "nbformat": 4,
  "nbformat_minor": 0,
  "metadata": {
    "kernelspec": {
      "display_name": "Python 3",
      "language": "python",
      "name": "python3"
    },
    "language_info": {
      "codemirror_mode": {
        "name": "ipython",
        "version": 3
      },
      "file_extension": ".py",
      "mimetype": "text/x-python",
      "name": "python",
      "nbconvert_exporter": "python",
      "pygments_lexer": "ipython3",
      "version": "3.8.8"
    },
    "colab": {
      "name": "CS329E_HW7.ipynb",
      "provenance": [],
      "collapsed_sections": []
    }
  },
  "cells": [
    {
      "cell_type": "markdown",
      "metadata": {
        "id": "jhAh8QuYNyvC"
      },
      "source": [
        "## C S 329E HW 7\n",
        "\n",
        "# Naive Bayes \n",
        "\n",
        "## Jeremy Ulfohn, Pair 32\n",
        "\n",
        "For this week's homework we are going explore one new classification technique:\n",
        "\n",
        "  - Naive Bayes\n",
        "\n",
        "We are reusing the version of the Melbourne housing data set from HW6, to predict the housing type as one of three possible categories:\n",
        "\n",
        "  - 'h' house\n",
        "  - 'u' duplex\n",
        "  - 't' townhouse\n",
        "\n",
        "In addition to building our own Naive Bayes classifier, we are going to compare the performace of our classifier to the [Gaussian Naive Bayes Classifier](https://scikit-learn.org/stable/modules/naive_bayes.html#gaussian-naive-bayes) available in the scikit-learn library. "
      ]
    },
    {
      "cell_type": "code",
      "metadata": {
        "id": "bYOUxn0PNyvH"
      },
      "source": [
        "# These are the libraries you will use for this assignment\n",
        "import pandas as pd\n",
        "import numpy as np\n",
        "import matplotlib.pyplot as plt\n",
        "import time\n",
        "import calendar\n",
        "from sklearn.naive_bayes import GaussianNB # The only thing in scikit-learn you can use this assignment\n",
        "\n",
        "# Starting off loading a training set and setting a variable for the target column, \"Type\"\n",
        "df_melb = pd.read_csv('https://gist.githubusercontent.com/yanyanzheng96/81b236aecee57f6cf65e60afd865d2bb/raw/56ddb53aa90c26ab1bdbfd0b8d8229c8d08ce45a/melb_data_train.csv')\n",
        "target_col = 'Type'\n",
        "\n",
        "\n",
        "# function for Q1\n",
        "# INPUT: year, month = y, m\n",
        "# OUTPUT: days in that month\n",
        "def getDays(y, m):\n",
        "    month_arr = calendar.monthcalendar(y, m)\n",
        "    month = []\n",
        "    for week in month_arr:\n",
        "        new = list(filter(lambda a: a != 0, week))\n",
        "        month.extend(new)\n",
        "    return len(month)"
      ],
      "execution_count": 1,
      "outputs": []
    },
    {
      "cell_type": "markdown",
      "metadata": {
        "id": "qhhHQx00NyvJ"
      },
      "source": [
        "## Q1 - Fix a column of data to be numeric\n",
        "If we inspect our dataframe, `df_melb` using the `dtypes` method, we see that the column \"Date\" is an object.  However, we think this column might contain useful information so we want to convert it to [seconds since epoch](https://en.wikipedia.org/wiki/Unix_time). Use only the exiting imported libraries to create a new column \"unixtime\". Be careful, the date strings in the file might have some non-uniform formating that you have to fix first.  Print out the min and max epoch time to check your work.  Drop the original \"Date\" column. \n",
        "\n",
        "THESE ARE THE EXACT SAME INSTRUCTIONS FROM HW6! Please take this opportunity to reuse your code (if you got it right last time). "
      ]
    },
    {
      "cell_type": "code",
      "metadata": {
        "id": "9-tnbONSNyvJ"
      },
      "source": [
        "# normalize date accepts the date string as shown in the df_melb 'Date' column,\n",
        "# and returns a data in a standarized format\n",
        "def standardize_date(d):\n",
        "    # get current time\n",
        "    ticks = time.time()\n",
        "\n",
        "    datelist = d.split(\"/\") # split on dashes\n",
        "    total_days = int(datelist[0]) + getDays(int(datelist[2]), int(datelist[1]))\n",
        "    # subtract time SINCE d from current time\n",
        "    fixed_time = ticks - total_days * 3600 * 24\n",
        "    return fixed_time\n"
      ],
      "execution_count": 2,
      "outputs": []
    },
    {
      "cell_type": "code",
      "metadata": {
        "id": "sjzf85skNyvK"
      },
      "source": [
        "#df_melb['Date'] = df_melb['Date'].apply( standardize_date )\n",
        "#df_melb['unixtime'] = # your code here\n",
        "#df_melb = df_melb.drop(columns=\"Date\")\n",
        "\n",
        "# version from HWK6 that does the same thing:\n",
        "df_melb['Date'] = df_melb['Date'].apply( lambda x : standardize_date(x))\n",
        "df_melb = df_melb.rename(columns={'Date': 'unixtime'}) # effectively drop 'Date' col\n"
      ],
      "execution_count": 3,
      "outputs": []
    },
    {
      "cell_type": "markdown",
      "metadata": {
        "id": "1uZLAeawNyvK"
      },
      "source": [
        "## Q2 Calculating the prior probabilities\n",
        "Calculate the prior probabilities for each possible \"Type\" in `df_melb` and populate a dictionary, `dict_priors`, where the key is the possible \"Type\" values and the value is the prior probabilities. Show the dictionary. Do not hardcode the possible values of \"Type\".  Don't forget about [value counts](https://pandas.pydata.org/docs/reference/api/pandas.Series.value_counts.html). "
      ]
    },
    {
      "cell_type": "code",
      "metadata": {
        "colab": {
          "base_uri": "https://localhost:8080/"
        },
        "id": "nazEfSPTNyvL",
        "outputId": "b8b9d041-6491-4889-91e6-149a90bf4c1d"
      },
      "source": [
        "# create dict of prior probabilities for the 3 'type' values\n",
        "dict_priors = df_melb.groupby('Type').size().div(len(df_melb)).to_dict()\n",
        "\n",
        "# show dict\n",
        "dict_priors"
      ],
      "execution_count": 4,
      "outputs": [
        {
          "output_type": "execute_result",
          "data": {
            "text/plain": [
              "{'h': 0.452, 't': 0.13, 'u': 0.418}"
            ]
          },
          "metadata": {},
          "execution_count": 4
        }
      ]
    },
    {
      "cell_type": "markdown",
      "metadata": {
        "id": "chfcY9xiNyvM"
      },
      "source": [
        "## Q3 Create a model for the distribution of all of the numeric attributes\n",
        "For each class, and for each attribute calculate the sample mean and sample standard deviation.  You should store the model in a nested dictionary, `dict_nb_model`, such that `dict_nb_model['h']['Rooms']` is a tuple containing the mean and standard deviation for the target Type 'h' and the attribute 'Rooms'.  Show the model using the `display` function. You should ignore entries that are `NaN` in the mean and [standard deviation](https://pandas.pydata.org/docs/reference/api/pandas.Series.std.html) calculation. "
      ]
    },
    {
      "cell_type": "code",
      "metadata": {
        "colab": {
          "base_uri": "https://localhost:8080/",
          "height": 34
        },
        "id": "ieYtRAJ5NyvN",
        "outputId": "3d33668f-fb1f-4765-a68d-46873693c45d"
      },
      "source": [
        "dict_nb_model = dict() # dict to which to append result\n",
        "\n",
        "subset_h = df_melb[df_melb['Type'] == 'h'].drop(['Type'], axis=1)\n",
        "subset_t = df_melb[df_melb['Type'] == 't'].drop(['Type'], axis=1)\n",
        "subset_u = df_melb[df_melb['Type'] == 'u'].drop(['Type'], axis=1)\n",
        "\n",
        "inner_dict_h = dict()\n",
        "inner_dict_t = dict()\n",
        "inner_dict_u = dict()\n",
        "\n",
        "for target in dict_priors.keys():\n",
        "    if target == 'h':\n",
        "        for col in subset_h:\n",
        "            # NOTE: mean() and std() for pd.Series objects skip NaN by default\n",
        "            inner_dict_h[col] = (subset_h[col].mean(), subset_h[col].std())\n",
        "            dict_nb_model[target] = inner_dict_h\n",
        "\n",
        "    elif target == 't':\n",
        "        for col in subset_t:\n",
        "            inner_dict_t[col] = (subset_t[col].mean(), subset_t[col].std())\n",
        "            dict_nb_model[target] = inner_dict_t\n",
        "\n",
        "    else:\n",
        "        for col in subset_u:\n",
        "            inner_dict_u[col] = (subset_u[col].mean(), subset_u[col].std())\n",
        "            dict_nb_model[target] = inner_dict_u\n",
        "\n",
        "display(inner_dict_t['BuildingArea'])\n"
      ],
      "execution_count": 5,
      "outputs": [
        {
          "output_type": "display_data",
          "data": {
            "text/plain": [
              "(138.66666666666666, 53.498637054290135)"
            ]
          },
          "metadata": {}
        }
      ]
    },
    {
      "cell_type": "code",
      "metadata": {
        "colab": {
          "base_uri": "https://localhost:8080/",
          "height": 527
        },
        "id": "wgPCV-_VNyvO",
        "outputId": "4ed9939b-1e41-4b53-cb99-90e8d166cfc9"
      },
      "source": [
        "display(dict_nb_model)"
      ],
      "execution_count": 6,
      "outputs": [
        {
          "output_type": "display_data",
          "data": {
            "text/plain": [
              "{'h': {'Bathroom': (1.5619469026548674, 0.6720871086493075),\n",
              "  'BuildingArea': (156.24339622641511, 54.62662837301434),\n",
              "  'Car': (1.7777777777777777, 0.932759177140425),\n",
              "  'Distance': (12.086725663716809, 7.397501132737295),\n",
              "  'Landsize': (932.9646017699115, 3830.7934157687164),\n",
              "  'Postcode': (3103.8982300884954, 98.35750345419703),\n",
              "  'Price': (1189022.3451327435, 586296.5794417895),\n",
              "  'Rooms': (3.269911504424779, 0.7258264201127756),\n",
              "  'YearBuilt': (1954.900826446281, 32.461876347154686),\n",
              "  'unixtime': (1630525969.6574244, 718336.6498583388)},\n",
              " 't': {'Bathroom': (1.8461538461538463, 0.565430401076506),\n",
              "  'BuildingArea': (138.66666666666666, 53.498637054290135),\n",
              "  'Car': (1.6923076923076923, 0.5280588545286915),\n",
              "  'Distance': (10.766153846153845, 4.870455475462387),\n",
              "  'Landsize': (268.18461538461537, 276.57700624711265),\n",
              "  'Postcode': (3121.6153846153848, 100.01588816090862),\n",
              "  'Price': (1000169.2307692308, 421822.5363389935),\n",
              "  'Rooms': (2.9076923076923076, 0.6052653582075831),\n",
              "  'YearBuilt': (1997.0227272727273, 16.99177453038181),\n",
              "  'unixtime': (1630474711.9301195, 697197.0603261838)},\n",
              " 'u': {'Bathroom': (1.1818181818181819, 0.42228151548662185),\n",
              "  'BuildingArea': (83.85585585585585, 45.959438015166604),\n",
              "  'Car': (1.1483253588516746, 0.47231993860296956),\n",
              "  'Distance': (8.760287081339715, 5.609778714430755),\n",
              "  'Landsize': (436.23444976076553, 1394.3403794653254),\n",
              "  'Postcode': (3120.4545454545455, 87.18475679946482),\n",
              "  'Price': (634207.1770334928, 217947.32866736987),\n",
              "  'Rooms': (2.0430622009569377, 0.5908453859944267),\n",
              "  'YearBuilt': (1976.451388888889, 24.557291330642666),\n",
              "  'unixtime': (1630608493.6015894, 727996.2243735654)}}"
            ]
          },
          "metadata": {}
        }
      ]
    },
    {
      "cell_type": "markdown",
      "metadata": {
        "id": "sB0w3AxZNyvO"
      },
      "source": [
        "## Q4 Write a function that calculates the probability of a Gaussian\n",
        "Given the mean ($\\mu$), standard deviation ($\\sigma$), and a observed point, `x`, return the probability.  \n",
        "Use the formula $p(x) = \\frac{1}{\\sigma \\sqrt{2 \\pi}} e^{-\\frac{1}{2}(\\frac{x-\\mu}{\\sigma})^2}$ ([wiki](https://en.wikipedia.org/wiki/Normal_distribution)).  You should use [numpy's exp](https://numpy.org/doc/stable/reference/generated/numpy.exp.html) function in your solution. "
      ]
    },
    {
      "cell_type": "code",
      "metadata": {
        "id": "G06G3vVLNyvO"
      },
      "source": [
        "#(1 / (sigma * np.sqrt(2*np.pi)))\n",
        "def get_p( mu, sigma, x):\n",
        "    return np.exp(-0.5 * (((x - mu)/sigma)) ** 2) / (sigma * np.sqrt(2*np.pi))"
      ],
      "execution_count": 7,
      "outputs": []
    },
    {
      "cell_type": "code",
      "metadata": {
        "colab": {
          "base_uri": "https://localhost:8080/"
        },
        "id": "RhSCiSHyNyvP",
        "outputId": "d195980e-9db7-4437-bf75-3f8e30510d40"
      },
      "source": [
        "# Test it\n",
        "p = get_p( 0, 2, 0.5)\n",
        "p"
      ],
      "execution_count": 46,
      "outputs": [
        {
          "output_type": "execute_result",
          "data": {
            "text/plain": [
              "0.19333405840142465"
            ]
          },
          "metadata": {},
          "execution_count": 46
        }
      ]
    },
    {
      "cell_type": "markdown",
      "metadata": {
        "id": "5C7RMICONyvP"
      },
      "source": [
        "## Q5 Write the Naive Bayes classifier function\n",
        "The Naive Bayes classifier function, `nb_class`, should take as a parameter the prior probability dictionary. `dict_priors`, the dictionary containing all of the gaussian distribution information for each attribue, `dict_nb_model`, and a single observation row (a series generated from iterrows) of the test dataframe. It should return a single target classification. For this problem, all of our attributes are numeric and modeled as Gaussians, so we don't worry about categorical data. Make sure to skip attributes that do not have a value in the observation.  Do not hardcode the possible classification types. "
      ]
    },
    {
      "cell_type": "code",
      "metadata": {
        "id": "yMb_s8YANyvP"
      },
      "source": [
        "def nb_class( dict_priors, dict_nb_model, observation):\n",
        "    # for X in observation, calculate P(h|X), P(t|X), P(u|X) and go with the maximum\n",
        "    # naïve assumption ex: P(X | h) = P(price | h) * ... * P(yearBuilt | h)\n",
        "    # to not hardcode: create a dict with the values given classes = h, t, u\n",
        "    # initialize all to 1\n",
        "    dict_class_results = dict_priors\n",
        "    for key in dict_class_results.keys():\n",
        "        dict_class_results[key] = 1 # these values will eventually be our P(C|X) for C = {h, t, u}\n",
        "\n",
        "    # example: dict_nb_model['h']['Rooms'] = (mu, std)\n",
        "\n",
        "    obs_nan = observation.isna()\n",
        "\n",
        "    for idx, value in observation.items():\n",
        "        if obs_nan[idx]: # if this item's NaN == True, go to next item (attribute/col)\n",
        "            continue\n",
        "\n",
        "        for type in dict_class_results.keys(): # do this for each type (3 times)\n",
        "            mu = dict_nb_model[type][idx][0] # (mean, std) tuples\n",
        "            sigma = dict_nb_model[type][idx][1]\n",
        "            dict_class_results[type] *= get_p(mu, sigma, value)\n",
        "\n",
        "\n",
        "    for type in dict_class_results.keys(): # multiply the current P(X|C)'s by P(C)\n",
        "        dict_class_results[type] *= dict_priors[type]\n",
        "\n",
        "    # dict_class_results now contains the overall pvals, of which we need the key of max\n",
        "\n",
        "    prediction = max(dict_class_results, key=dict_class_results.get)\n",
        "    return prediction\n",
        "\n",
        "\n",
        "    \n",
        "\n",
        "    "
      ],
      "execution_count": 47,
      "outputs": []
    },
    {
      "cell_type": "markdown",
      "metadata": {
        "id": "SY1HDY7PNyvQ"
      },
      "source": [
        "## Q6 Calculate the accuracy using Naive Bayes classifier function on the test set\n",
        "Load the test set from file, convert date to unix time and drop the date column, classify each row using your `nb_class`, and then show the accuracy on the test set. "
      ]
    },
    {
      "cell_type": "code",
      "metadata": {
        "id": "jRvSPXjqNyvQ"
      },
      "source": [
        "df_test = pd.read_csv('https://gist.githubusercontent.com/yanyanzheng96/c3d53303cebbd986b166591d19254bac/raw/94eb3b2d500d5f7bbc0441a8419cd855349d5d8e/melb_data_test.csv')\n",
        "#df_test['Date'] = df_test['Date'].apply( standardize_date )\n",
        "#df_test['unixtime'] = # your code here\n",
        "#df_test = df_test.drop(columns=\"Date\")\n",
        "\n",
        "df_test['Date'] = df_test['Date'].apply( lambda x : standardize_date(x))\n",
        "df_test = df_test.rename(columns={'Date': 'unixtime'}) # effectively drop 'Date' col, as above/in HWK6\n",
        "# create y_Test, then remove 'Type' from df_test\n",
        "\n",
        "y_test = df_test[target_col]\n",
        "df_test = df_test.drop(columns=[target_col]) # or use inplace=True\n",
        "X_test = df_test # for later use\n"
      ],
      "execution_count": 10,
      "outputs": []
    },
    {
      "cell_type": "code",
      "metadata": {
        "id": "E6YppeXiNyvQ"
      },
      "source": [
        "predictions = []\n",
        "\n",
        "for (indx,row) in df_test.iterrows(): # iterate through observations (single rows)\n",
        "    predictions.append(nb_class(dict_priors, dict_nb_model, row))\n",
        "    "
      ],
      "execution_count": 48,
      "outputs": []
    },
    {
      "cell_type": "code",
      "metadata": {
        "id": "fTwYOGSrNyvR"
      },
      "source": [
        "# OBJECT: compare predictions to y_test\n",
        "correct = 0\n",
        "total = len(predictions)\n",
        "\n",
        "# increment 'correct'\n",
        "for idx, value in y_test.items():\n",
        "    if value == predictions[idx]:\n",
        "        correct += 1\n",
        "\n",
        "acc = correct / total"
      ],
      "execution_count": 53,
      "outputs": []
    },
    {
      "cell_type": "code",
      "metadata": {
        "colab": {
          "base_uri": "https://localhost:8080/"
        },
        "id": "C86nB_toNyvR",
        "outputId": "695dd0aa-1349-47b8-849d-6a4b2f288931"
      },
      "source": [
        "print('Accuracy is {:.2f}%'.format(acc*100))"
      ],
      "execution_count": 54,
      "outputs": [
        {
          "output_type": "stream",
          "name": "stdout",
          "text": [
            "Accuracy is 48.00%\n"
          ]
        }
      ]
    },
    {
      "cell_type": "markdown",
      "metadata": {
        "id": "s7oj-CVeNyvR"
      },
      "source": [
        "## Use scikit-learn to do the same thing!\n",
        "\n",
        "Now we understand the inner workings of the Naive Bayes algorithm, let's compare our results to [scikit-learn's Naive Bayes](https://scikit-learn.org/stable/modules/naive_bayes.html) implementation. Use the [GaussianNB](https://scikit-learn.org/stable/modules/naive_bayes.html#gaussian-naive-bayes) to train using the `df_melb`dataframe and test using the `df_test` dataframe. Remember to split `df_melb` into a `df_X` with the numerical attributes, and a `s_y` with the target column. On the `df_melb` frame you will have to fill the empty attributes via imputation since the scikit-learn library can not handle missing values.  Use the same method you used in the last homework (filling the training data with the mean of the non-nan values). \n",
        "\n",
        "Answer the following in a markdown cell: do you think imputation hurt or helped the classifier?"
      ]
    },
    {
      "cell_type": "code",
      "metadata": {
        "id": "khoo57CVqS8r"
      },
      "source": [
        "# fill in df_melb missing values with HW6 imputation\n",
        "# ... since scikit-learn cannot handle missing values\n",
        "\n",
        "# Imputation training: create and populate dict\n",
        "dict_imputation = dict()\n",
        "for col in list(df_melb.columns):\n",
        "    if col == 'Type':\n",
        "        continue\n",
        "    else:\n",
        "        dict_imputation[col] = df_melb[col].mean()\n",
        "\n",
        "    # in same loop, fill in NaN with calculated mean (using .fillna() )\n",
        "    df_melb = df_melb.fillna({col:dict_imputation[col]})\n"
      ],
      "execution_count": 16,
      "outputs": []
    },
    {
      "cell_type": "code",
      "metadata": {
        "id": "g9LsiYluNyvR"
      },
      "source": [
        "# Seperate the attributes from the target_col\n",
        "# split df_melb (TRAIN) into df_X and s_y. this is already done for test (X_test, y_test)\n",
        "s_y = df_melb[target_col]\n",
        "df_X = df_melb.drop(columns=[target_col])\n",
        "    \n",
        "# Imputation - now apply it on the test data (called X_test)\n",
        "# we use the means from the TRAIN data for the test imputation, avoiding data spillage\n",
        "for col in list(X_test.columns):\n",
        "    X_test = X_test.fillna({col:dict_imputation[col]})"
      ],
      "execution_count": 17,
      "outputs": []
    },
    {
      "cell_type": "code",
      "metadata": {
        "id": "t6x4uX4yNyvS"
      },
      "source": [
        "gnb = GaussianNB()\n",
        "y_pred = gnb.fit(df_X, s_y).predict(X_test) # fit w train, predict X_test"
      ],
      "execution_count": 18,
      "outputs": []
    },
    {
      "cell_type": "code",
      "metadata": {
        "colab": {
          "base_uri": "https://localhost:8080/"
        },
        "id": "MZd8RmCJNyvS",
        "outputId": "b934d6f7-8423-4cbb-fe0b-d5bfbc643085"
      },
      "source": [
        "acc = (y_test != y_pred).sum()/X_test.shape[0]\n",
        "print('Accuracy is {:.2f}%'.format(acc*100))"
      ],
      "execution_count": 19,
      "outputs": [
        {
          "output_type": "stream",
          "name": "stdout",
          "text": [
            "Accuracy is 55.00%\n"
          ]
        }
      ]
    },
    {
      "cell_type": "markdown",
      "metadata": {
        "id": "x5HzsU0WNyvS"
      },
      "source": [
        "## Imputation changed the accuracy to 55% from an original 48%. This 7% is significant when dealing with a large amount of individual residental structures (in the df_Melb case), in which case lack of imputation could result in hundreds of misclassifications. Therefore, I would say that it helped rather than hurt."
      ]
    }
  ]
}