{
  "nbformat": 4,
  "nbformat_minor": 0,
  "metadata": {
    "kernelspec": {
      "display_name": "Python 3",
      "language": "python",
      "name": "python3"
    },
    "language_info": {
      "codemirror_mode": {
        "name": "ipython",
        "version": 3
      },
      "file_extension": ".py",
      "mimetype": "text/x-python",
      "name": "python",
      "nbconvert_exporter": "python",
      "pygments_lexer": "ipython3",
      "version": "3.8.3"
    },
    "colab": {
      "name": "CS329E_HW8.ipynb",
      "provenance": [],
      "collapsed_sections": []
    }
  },
  "cells": [
    {
      "cell_type": "markdown",
      "metadata": {
        "id": "Pc0-tdC10va6"
      },
      "source": [
        "## C S 329E HW7\n",
        "\n",
        "# Ensemble Methods and Skewed Data\n",
        "\n",
        "## Jeremy Ulfoh, HWK8 Pair 48\n",
        "\n",
        "For this week's homework we are going explore two ensemble methods:\n",
        "\n",
        "  - AdaBoost, and\n",
        "  - Random Forests\n",
        "  \n",
        "Along with applying different KPIs (key performance indicators) that are more appropriate to highly skewed data sets. \n",
        "\n",
        "The dataset contains transactions made by credit cards in September 2013 by european cardholders.\n",
        "This dataset presents transactions that occurred in two days, where we have 237 frauds out of 142,167 transactions. The dataset is highly unbalanced, the positive class (frauds) account for 0.17% of all transactions.\n",
        "\n",
        "It contains only numerical input variables which are the result of a [PCA transformation](https://en.wikipedia.org/wiki/Principal_component_analysis). Unfortunately, due to confidentiality issues, they cannot provide the original features and more background information about the data. Features V1, V2, … V28 are the principal components obtained with PCA, the only features which have not been transformed with PCA are 'Time' and 'Amount'. Feature 'Time' contains the seconds elapsed between each transaction and the first transaction in the dataset. The feature 'Amount' is the transaction Amount in Euros. Feature 'Class' is the response variable and it takes value 1 in case of fraud and 0 otherwise.\n",
        "\n",
        "At the end of this homework, I expect you to understand how to train and use ensemble classifiers, how to characterize model performance with ROC curves, and be familiar with the difference between accuracy, true positive rate, and positive predictive value. "
      ]
    },
    {
      "cell_type": "code",
      "metadata": {
        "id": "AIIG_Qv30va_",
        "colab": {
          "base_uri": "https://localhost:8080/",
          "height": 439
        },
        "outputId": "8f39c810-58ce-4692-d33f-9967fba583f1"
      },
      "source": [
        "# These are the libraries you will use for this assignment, you may not import anything else\n",
        "import pandas as pd\n",
        "import numpy as np\n",
        "import matplotlib.pyplot as plt\n",
        "from sklearn.ensemble import AdaBoostClassifier\n",
        "from sklearn.ensemble import RandomForestClassifier\n",
        "from sklearn.model_selection import StratifiedKFold\n",
        "from sklearn.metrics import plot_roc_curve\n",
        "\n",
        "# This is the credit card data provided, we'll use sklearn methods to do cross validation\n",
        "# to estimate error\n",
        "df_cc = pd.read_csv('https://www.cs.utexas.edu/~chaney/cc.csv')\n",
        "df_cc"
      ],
      "execution_count": 1,
      "outputs": [
        {
          "output_type": "execute_result",
          "data": {
            "text/html": [
              "<div>\n",
              "<style scoped>\n",
              "    .dataframe tbody tr th:only-of-type {\n",
              "        vertical-align: middle;\n",
              "    }\n",
              "\n",
              "    .dataframe tbody tr th {\n",
              "        vertical-align: top;\n",
              "    }\n",
              "\n",
              "    .dataframe thead th {\n",
              "        text-align: right;\n",
              "    }\n",
              "</style>\n",
              "<table border=\"1\" class=\"dataframe\">\n",
              "  <thead>\n",
              "    <tr style=\"text-align: right;\">\n",
              "      <th></th>\n",
              "      <th>Time</th>\n",
              "      <th>V1</th>\n",
              "      <th>V2</th>\n",
              "      <th>V3</th>\n",
              "      <th>V4</th>\n",
              "      <th>V5</th>\n",
              "      <th>V6</th>\n",
              "      <th>V7</th>\n",
              "      <th>V8</th>\n",
              "      <th>V9</th>\n",
              "      <th>V10</th>\n",
              "      <th>V11</th>\n",
              "      <th>V12</th>\n",
              "      <th>V13</th>\n",
              "      <th>V14</th>\n",
              "      <th>V15</th>\n",
              "      <th>V16</th>\n",
              "      <th>V17</th>\n",
              "      <th>V18</th>\n",
              "      <th>V19</th>\n",
              "      <th>V20</th>\n",
              "      <th>V21</th>\n",
              "      <th>V22</th>\n",
              "      <th>V23</th>\n",
              "      <th>V24</th>\n",
              "      <th>V25</th>\n",
              "      <th>V26</th>\n",
              "      <th>V27</th>\n",
              "      <th>V28</th>\n",
              "      <th>Amount</th>\n",
              "      <th>Class</th>\n",
              "    </tr>\n",
              "  </thead>\n",
              "  <tbody>\n",
              "    <tr>\n",
              "      <th>0</th>\n",
              "      <td>72222.0</td>\n",
              "      <td>1.190580</td>\n",
              "      <td>-0.188208</td>\n",
              "      <td>0.323583</td>\n",
              "      <td>-0.017402</td>\n",
              "      <td>-0.758874</td>\n",
              "      <td>-1.132340</td>\n",
              "      <td>-0.021169</td>\n",
              "      <td>-0.201165</td>\n",
              "      <td>0.364626</td>\n",
              "      <td>-0.200848</td>\n",
              "      <td>-0.326533</td>\n",
              "      <td>-0.134792</td>\n",
              "      <td>-0.548154</td>\n",
              "      <td>0.366426</td>\n",
              "      <td>1.236691</td>\n",
              "      <td>0.322176</td>\n",
              "      <td>-0.274107</td>\n",
              "      <td>-0.408767</td>\n",
              "      <td>0.058785</td>\n",
              "      <td>-0.000226</td>\n",
              "      <td>-0.103901</td>\n",
              "      <td>-0.442050</td>\n",
              "      <td>0.024706</td>\n",
              "      <td>0.438578</td>\n",
              "      <td>0.164461</td>\n",
              "      <td>0.930956</td>\n",
              "      <td>-0.096429</td>\n",
              "      <td>0.012989</td>\n",
              "      <td>57.00</td>\n",
              "      <td>0</td>\n",
              "    </tr>\n",
              "    <tr>\n",
              "      <th>1</th>\n",
              "      <td>65707.0</td>\n",
              "      <td>1.282559</td>\n",
              "      <td>0.270023</td>\n",
              "      <td>0.134166</td>\n",
              "      <td>0.618716</td>\n",
              "      <td>-0.291346</td>\n",
              "      <td>-0.893310</td>\n",
              "      <td>0.005146</td>\n",
              "      <td>-0.119655</td>\n",
              "      <td>0.219620</td>\n",
              "      <td>-0.250229</td>\n",
              "      <td>-0.570597</td>\n",
              "      <td>-0.454065</td>\n",
              "      <td>-0.783670</td>\n",
              "      <td>-0.095856</td>\n",
              "      <td>1.237788</td>\n",
              "      <td>0.633575</td>\n",
              "      <td>-0.074729</td>\n",
              "      <td>-0.050494</td>\n",
              "      <td>-0.055363</td>\n",
              "      <td>-0.139638</td>\n",
              "      <td>-0.324119</td>\n",
              "      <td>-0.983490</td>\n",
              "      <td>0.098567</td>\n",
              "      <td>-0.044337</td>\n",
              "      <td>0.228126</td>\n",
              "      <td>0.120401</td>\n",
              "      <td>-0.030385</td>\n",
              "      <td>0.024717</td>\n",
              "      <td>0.89</td>\n",
              "      <td>0</td>\n",
              "    </tr>\n",
              "    <tr>\n",
              "      <th>2</th>\n",
              "      <td>47048.0</td>\n",
              "      <td>-0.777343</td>\n",
              "      <td>0.081844</td>\n",
              "      <td>1.910231</td>\n",
              "      <td>1.194221</td>\n",
              "      <td>1.018604</td>\n",
              "      <td>0.438980</td>\n",
              "      <td>0.183102</td>\n",
              "      <td>0.017511</td>\n",
              "      <td>-0.193956</td>\n",
              "      <td>-0.113724</td>\n",
              "      <td>-1.065628</td>\n",
              "      <td>0.071294</td>\n",
              "      <td>0.805047</td>\n",
              "      <td>-0.414963</td>\n",
              "      <td>1.000568</td>\n",
              "      <td>-0.615389</td>\n",
              "      <td>-0.070159</td>\n",
              "      <td>-0.081410</td>\n",
              "      <td>0.802250</td>\n",
              "      <td>0.408923</td>\n",
              "      <td>0.072843</td>\n",
              "      <td>0.361164</td>\n",
              "      <td>-0.159239</td>\n",
              "      <td>-0.743651</td>\n",
              "      <td>0.092543</td>\n",
              "      <td>-0.165719</td>\n",
              "      <td>-0.022370</td>\n",
              "      <td>-0.093903</td>\n",
              "      <td>40.00</td>\n",
              "      <td>0</td>\n",
              "    </tr>\n",
              "    <tr>\n",
              "      <th>3</th>\n",
              "      <td>127379.0</td>\n",
              "      <td>-0.887548</td>\n",
              "      <td>1.417217</td>\n",
              "      <td>0.753405</td>\n",
              "      <td>2.257167</td>\n",
              "      <td>1.392043</td>\n",
              "      <td>0.680374</td>\n",
              "      <td>0.531104</td>\n",
              "      <td>0.609270</td>\n",
              "      <td>-1.725432</td>\n",
              "      <td>0.171688</td>\n",
              "      <td>-2.098903</td>\n",
              "      <td>0.012050</td>\n",
              "      <td>0.933386</td>\n",
              "      <td>0.043490</td>\n",
              "      <td>-1.665975</td>\n",
              "      <td>1.420907</td>\n",
              "      <td>-1.168533</td>\n",
              "      <td>-0.678544</td>\n",
              "      <td>-1.753987</td>\n",
              "      <td>-0.220606</td>\n",
              "      <td>-0.345603</td>\n",
              "      <td>-1.323231</td>\n",
              "      <td>0.219222</td>\n",
              "      <td>-0.080944</td>\n",
              "      <td>-0.791587</td>\n",
              "      <td>-0.773272</td>\n",
              "      <td>0.040113</td>\n",
              "      <td>0.099547</td>\n",
              "      <td>9.08</td>\n",
              "      <td>0</td>\n",
              "    </tr>\n",
              "    <tr>\n",
              "      <th>4</th>\n",
              "      <td>151137.0</td>\n",
              "      <td>1.819262</td>\n",
              "      <td>-0.445540</td>\n",
              "      <td>-0.186929</td>\n",
              "      <td>1.268411</td>\n",
              "      <td>-0.483948</td>\n",
              "      <td>0.164878</td>\n",
              "      <td>-0.572012</td>\n",
              "      <td>0.022557</td>\n",
              "      <td>1.071776</td>\n",
              "      <td>0.080959</td>\n",
              "      <td>-1.495187</td>\n",
              "      <td>0.655539</td>\n",
              "      <td>1.289259</td>\n",
              "      <td>-0.446869</td>\n",
              "      <td>0.594820</td>\n",
              "      <td>0.747682</td>\n",
              "      <td>-1.097668</td>\n",
              "      <td>0.398488</td>\n",
              "      <td>-0.419079</td>\n",
              "      <td>0.010713</td>\n",
              "      <td>0.065024</td>\n",
              "      <td>0.222817</td>\n",
              "      <td>0.099592</td>\n",
              "      <td>-0.728832</td>\n",
              "      <td>-0.236169</td>\n",
              "      <td>-0.722497</td>\n",
              "      <td>0.068185</td>\n",
              "      <td>-0.010816</td>\n",
              "      <td>90.00</td>\n",
              "      <td>0</td>\n",
              "    </tr>\n",
              "    <tr>\n",
              "      <th>...</th>\n",
              "      <td>...</td>\n",
              "      <td>...</td>\n",
              "      <td>...</td>\n",
              "      <td>...</td>\n",
              "      <td>...</td>\n",
              "      <td>...</td>\n",
              "      <td>...</td>\n",
              "      <td>...</td>\n",
              "      <td>...</td>\n",
              "      <td>...</td>\n",
              "      <td>...</td>\n",
              "      <td>...</td>\n",
              "      <td>...</td>\n",
              "      <td>...</td>\n",
              "      <td>...</td>\n",
              "      <td>...</td>\n",
              "      <td>...</td>\n",
              "      <td>...</td>\n",
              "      <td>...</td>\n",
              "      <td>...</td>\n",
              "      <td>...</td>\n",
              "      <td>...</td>\n",
              "      <td>...</td>\n",
              "      <td>...</td>\n",
              "      <td>...</td>\n",
              "      <td>...</td>\n",
              "      <td>...</td>\n",
              "      <td>...</td>\n",
              "      <td>...</td>\n",
              "      <td>...</td>\n",
              "      <td>...</td>\n",
              "    </tr>\n",
              "    <tr>\n",
              "      <th>142399</th>\n",
              "      <td>65324.0</td>\n",
              "      <td>-0.559946</td>\n",
              "      <td>0.103121</td>\n",
              "      <td>0.319922</td>\n",
              "      <td>-0.973168</td>\n",
              "      <td>1.226528</td>\n",
              "      <td>-1.277010</td>\n",
              "      <td>1.106265</td>\n",
              "      <td>-0.394966</td>\n",
              "      <td>-0.566084</td>\n",
              "      <td>0.005685</td>\n",
              "      <td>1.116510</td>\n",
              "      <td>1.062179</td>\n",
              "      <td>0.976886</td>\n",
              "      <td>0.115738</td>\n",
              "      <td>-0.779190</td>\n",
              "      <td>0.193623</td>\n",
              "      <td>-1.007429</td>\n",
              "      <td>-0.110548</td>\n",
              "      <td>-0.113036</td>\n",
              "      <td>0.401564</td>\n",
              "      <td>0.160310</td>\n",
              "      <td>0.518538</td>\n",
              "      <td>0.152764</td>\n",
              "      <td>0.102517</td>\n",
              "      <td>-0.821350</td>\n",
              "      <td>0.710368</td>\n",
              "      <td>0.148434</td>\n",
              "      <td>0.049325</td>\n",
              "      <td>57.81</td>\n",
              "      <td>0</td>\n",
              "    </tr>\n",
              "    <tr>\n",
              "      <th>142400</th>\n",
              "      <td>135695.0</td>\n",
              "      <td>1.833353</td>\n",
              "      <td>-0.450252</td>\n",
              "      <td>-0.469224</td>\n",
              "      <td>0.831620</td>\n",
              "      <td>0.415326</td>\n",
              "      <td>2.161855</td>\n",
              "      <td>-1.088867</td>\n",
              "      <td>0.775843</td>\n",
              "      <td>0.984546</td>\n",
              "      <td>0.209707</td>\n",
              "      <td>0.577856</td>\n",
              "      <td>0.580523</td>\n",
              "      <td>-0.757169</td>\n",
              "      <td>0.248946</td>\n",
              "      <td>0.816436</td>\n",
              "      <td>0.085613</td>\n",
              "      <td>-0.378879</td>\n",
              "      <td>-0.369835</td>\n",
              "      <td>-1.088055</td>\n",
              "      <td>-0.349295</td>\n",
              "      <td>0.037067</td>\n",
              "      <td>0.266594</td>\n",
              "      <td>0.349396</td>\n",
              "      <td>-1.025944</td>\n",
              "      <td>-0.514426</td>\n",
              "      <td>-0.739087</td>\n",
              "      <td>0.106196</td>\n",
              "      <td>-0.045159</td>\n",
              "      <td>1.00</td>\n",
              "      <td>0</td>\n",
              "    </tr>\n",
              "    <tr>\n",
              "      <th>142401</th>\n",
              "      <td>62620.0</td>\n",
              "      <td>-3.324328</td>\n",
              "      <td>-2.771390</td>\n",
              "      <td>1.883730</td>\n",
              "      <td>0.154892</td>\n",
              "      <td>0.142827</td>\n",
              "      <td>-1.327852</td>\n",
              "      <td>-1.089896</td>\n",
              "      <td>0.762312</td>\n",
              "      <td>-1.578990</td>\n",
              "      <td>-0.142556</td>\n",
              "      <td>0.753325</td>\n",
              "      <td>0.337625</td>\n",
              "      <td>-0.212576</td>\n",
              "      <td>0.568935</td>\n",
              "      <td>0.074572</td>\n",
              "      <td>-0.462957</td>\n",
              "      <td>-0.545557</td>\n",
              "      <td>2.316477</td>\n",
              "      <td>-1.695341</td>\n",
              "      <td>0.561959</td>\n",
              "      <td>0.165352</td>\n",
              "      <td>-0.626969</td>\n",
              "      <td>0.314974</td>\n",
              "      <td>0.442229</td>\n",
              "      <td>0.227412</td>\n",
              "      <td>-0.591151</td>\n",
              "      <td>-0.054984</td>\n",
              "      <td>-0.393804</td>\n",
              "      <td>205.77</td>\n",
              "      <td>0</td>\n",
              "    </tr>\n",
              "    <tr>\n",
              "      <th>142402</th>\n",
              "      <td>39607.0</td>\n",
              "      <td>-2.457284</td>\n",
              "      <td>-6.208370</td>\n",
              "      <td>-1.997703</td>\n",
              "      <td>1.251932</td>\n",
              "      <td>-2.132900</td>\n",
              "      <td>0.456995</td>\n",
              "      <td>2.335032</td>\n",
              "      <td>-0.384962</td>\n",
              "      <td>-0.115378</td>\n",
              "      <td>-0.937444</td>\n",
              "      <td>1.290069</td>\n",
              "      <td>0.478227</td>\n",
              "      <td>-0.592763</td>\n",
              "      <td>1.100487</td>\n",
              "      <td>0.968833</td>\n",
              "      <td>0.508974</td>\n",
              "      <td>-0.243683</td>\n",
              "      <td>-0.000920</td>\n",
              "      <td>-0.382683</td>\n",
              "      <td>3.750285</td>\n",
              "      <td>0.974168</td>\n",
              "      <td>-1.585880</td>\n",
              "      <td>-1.585928</td>\n",
              "      <td>-0.181570</td>\n",
              "      <td>-0.622555</td>\n",
              "      <td>0.678623</td>\n",
              "      <td>-0.442699</td>\n",
              "      <td>0.318217</td>\n",
              "      <td>1915.01</td>\n",
              "      <td>0</td>\n",
              "    </tr>\n",
              "    <tr>\n",
              "      <th>142403</th>\n",
              "      <td>147608.0</td>\n",
              "      <td>1.871051</td>\n",
              "      <td>0.221899</td>\n",
              "      <td>-0.042586</td>\n",
              "      <td>3.531304</td>\n",
              "      <td>0.248165</td>\n",
              "      <td>1.285607</td>\n",
              "      <td>-0.675794</td>\n",
              "      <td>0.367247</td>\n",
              "      <td>-0.541569</td>\n",
              "      <td>1.525110</td>\n",
              "      <td>-0.138568</td>\n",
              "      <td>0.450716</td>\n",
              "      <td>0.433085</td>\n",
              "      <td>-0.184543</td>\n",
              "      <td>-1.237141</td>\n",
              "      <td>1.558755</td>\n",
              "      <td>-1.402399</td>\n",
              "      <td>0.701761</td>\n",
              "      <td>-1.241460</td>\n",
              "      <td>-0.204570</td>\n",
              "      <td>0.186848</td>\n",
              "      <td>0.601374</td>\n",
              "      <td>0.142002</td>\n",
              "      <td>0.178048</td>\n",
              "      <td>-0.165776</td>\n",
              "      <td>0.006957</td>\n",
              "      <td>0.009314</td>\n",
              "      <td>-0.038850</td>\n",
              "      <td>4.95</td>\n",
              "      <td>0</td>\n",
              "    </tr>\n",
              "  </tbody>\n",
              "</table>\n",
              "<p>142404 rows × 31 columns</p>\n",
              "</div>"
            ],
            "text/plain": [
              "            Time        V1        V2  ...       V28   Amount  Class\n",
              "0        72222.0  1.190580 -0.188208  ...  0.012989    57.00      0\n",
              "1        65707.0  1.282559  0.270023  ...  0.024717     0.89      0\n",
              "2        47048.0 -0.777343  0.081844  ... -0.093903    40.00      0\n",
              "3       127379.0 -0.887548  1.417217  ...  0.099547     9.08      0\n",
              "4       151137.0  1.819262 -0.445540  ... -0.010816    90.00      0\n",
              "...          ...       ...       ...  ...       ...      ...    ...\n",
              "142399   65324.0 -0.559946  0.103121  ...  0.049325    57.81      0\n",
              "142400  135695.0  1.833353 -0.450252  ... -0.045159     1.00      0\n",
              "142401   62620.0 -3.324328 -2.771390  ... -0.393804   205.77      0\n",
              "142402   39607.0 -2.457284 -6.208370  ...  0.318217  1915.01      0\n",
              "142403  147608.0  1.871051  0.221899  ... -0.038850     4.95      0\n",
              "\n",
              "[142404 rows x 31 columns]"
            ]
          },
          "metadata": {},
          "execution_count": 1
        }
      ]
    },
    {
      "cell_type": "markdown",
      "metadata": {
        "id": "sV8Lw-Xc0vbA"
      },
      "source": [
        "## Q1 Parition the data for cross validation\n",
        "\n",
        "Load the data, and split the data set into $X$ (the feature dataframe, `df_X`) and $y$ (the target series `s_y`). Define our partitions.  \n",
        "\n",
        "We know this is a _super_ skewed data set, so we worry about our target class being underrepresented in a random k-fold selection. With this in mind, we use a [stratifed k-fold](https://scikit-learn.org/stable/modules/generated/sklearn.model_selection.StratifiedKFold.html), since it will preserve our class balance in our experiements. Use $k=3$, . Instantiate an instance of the `StratifiedKFold` class, and use the generator `split` to populate the following dictonaries:\n",
        "   - `d_train_df_X` : where the key is the fold number, and the value is the attribute training dataframe at that fold\n",
        "   - `d_test_df_X`  : where the key is the fold number, and the value is the attribute test dataframe at that fold\n",
        "   - `d_train_s_y`  : where the key is the fold number, and the value is the target training series at that fold\n",
        "   - `d_train_s_y`  : where the key is the fold number, and the value is the target test series at that fold"
      ]
    },
    {
      "cell_type": "code",
      "metadata": {
        "id": "3sHfNAci0vbA"
      },
      "source": [
        "df_X = df_cc.drop(columns=['Class'])\n",
        "s_y = df_cc['Class']"
      ],
      "execution_count": 2,
      "outputs": []
    },
    {
      "cell_type": "code",
      "metadata": {
        "id": "p8K4LLES0vbB"
      },
      "source": [
        "# instantiate a SKFold\n",
        "skf = StratifiedKFold(n_splits=3,shuffle=True,random_state=23)"
      ],
      "execution_count": 3,
      "outputs": []
    },
    {
      "cell_type": "code",
      "metadata": {
        "id": "wNpoy7YeNSUt"
      },
      "source": [
        ""
      ],
      "execution_count": 3,
      "outputs": []
    },
    {
      "cell_type": "code",
      "metadata": {
        "id": "xQYF1qLc0vbB"
      },
      "source": [
        "d_train_df_X = dict()\n",
        "d_test_df_X = dict()\n",
        "d_train_s_y = dict()\n",
        "d_test_s_y = dict()\n",
        "\n",
        "\n",
        "# WANT: key = fold number, value = dataframe at that fold\n",
        "# for each (train_index, test_index), get dataframe/series then put it into dict\n",
        "fold = 1\n",
        "for train_index, test_index in skf.split(df_X, s_y):\n",
        "    # populate the 4 dicts at this current fold\n",
        "    d_train_df_X[fold], d_train_s_y[fold] = df_X.iloc[train_index], s_y[train_index]\n",
        "    d_test_df_X[fold], d_test_s_y[fold] = df_X.iloc[test_index], s_y[test_index]\n",
        "    # increment fold\n",
        "    fold += 1\n"
      ],
      "execution_count": 4,
      "outputs": []
    },
    {
      "cell_type": "code",
      "metadata": {
        "scrolled": true,
        "id": "WKyVrDi30vbC",
        "colab": {
          "base_uri": "https://localhost:8080/"
        },
        "outputId": "c7c41b72-d2be-4fe2-e9f6-7aacd61d9f95"
      },
      "source": [
        "# Look at the test data and verify that the target training is equally distributed as possible\n",
        "# COME BACK TO THIS\n",
        "for key in d_test_s_y.keys():\n",
        "    print(d_test_s_y[key].value_counts())"
      ],
      "execution_count": 5,
      "outputs": [
        {
          "output_type": "stream",
          "name": "stdout",
          "text": [
            "0    47389\n",
            "1       79\n",
            "Name: Class, dtype: int64\n",
            "0    47389\n",
            "1       79\n",
            "Name: Class, dtype: int64\n",
            "0    47389\n",
            "1       79\n",
            "Name: Class, dtype: int64\n"
          ]
        }
      ]
    },
    {
      "cell_type": "markdown",
      "metadata": {
        "id": "RgKTCPZn0vbC"
      },
      "source": [
        "## Section 1 - AdaBoost"
      ]
    },
    {
      "cell_type": "markdown",
      "metadata": {
        "id": "aBiszvo40vbD"
      },
      "source": [
        "# Q2 Test the Performance of AdaBoost\n",
        "\n",
        "When we talked about AdaBoost in class, we used a collection of \"Decision Stumps\". In this assignment, we will use the implementation of [AdaBoost in Scikit-learn](https://scikit-learn.org/stable/modules/generated/sklearn.ensemble.AdaBoostClassifier.html).  As you browse the documentation, you will notice that the default base esimator in this implentation is a `DecisionTreeClassifier(max_depth=1)` (our friend the decision stump). \n",
        "\n",
        "After you fit an AdaBoost model, you can call the method `predict` to get a class prediction, or you can call `predict_proba` to get the probability of being in the class `0` or the class `1`. These probabilities are used when creating ROC curves. \n",
        "\n",
        "Loop over the $k$ folds using the dictionaries from the first problem, and for each fold calculate the accuracy, TPR, the PPV, and the FPR (feel free to create helper functions to calcuate these metrics - do not use a library function to compute these metrics).  Plot the ROC curve for each fold. You may use the [plot roc curve](https://scikit-learn.org/stable/modules/generated/sklearn.metrics.plot_roc_curve.html) from Scikit-learn.  There is a great example in the documentation [on plotting ROC curves in cross validation](https://scikit-learn.org/stable/auto_examples/model_selection/plot_roc_crossval.html) that is helpful.  \n",
        "\n",
        "When creating your AdaBoost classifier, please use the following parameters: \n",
        "`AdaBoostClassifier(n_estimators=25, random_state=23)`\n",
        "\n",
        "Save the predictions from the 3rd fold into a variable called `y_hat_ab` for use in a future problem.\n"
      ]
    },
    {
      "cell_type": "code",
      "metadata": {
        "id": "1CH_Ec9G0vbD"
      },
      "source": [
        "k = 3\n",
        "# arrays filled with zeros, with 'k' rows\n",
        "acc_ab = np.zeros(k)\n",
        "tpr_ab = np.zeros(k)\n",
        "ppv_ab = np.zeros(k) # positive predictive values = ppv = proportion of true positives among all positives\n",
        "fpr_ab = np.zeros(k)"
      ],
      "execution_count": 60,
      "outputs": []
    },
    {
      "cell_type": "code",
      "metadata": {
        "id": "jNUpy5g5cjTl"
      },
      "source": [
        "# HELPER FUNCTION for ROC curve parameters\n",
        "# INPUT: predicted, actual (from a given fold)\n",
        "# OUTPUT: tpr, which is TP/(TP + FN). then ppv, which is TP/(TP + FP)\n",
        "# then fpr, which is FP/(FP + TN)\n",
        "\n",
        "def get_ppv_tpr_fpr(dataframe, classifier, s_y):\n",
        "    # reset series indices\n",
        "    actual = s_y.reset_index(drop=True)\n",
        "\n",
        "    # get dataframe predictions, in list []\n",
        "    # clf.predict(dataframe) returns an array with predictions\n",
        "    predictions = classifier.predict(dataframe)\n",
        "    # get total positives, then true positives\n",
        "    total_positives = 0\n",
        "    true_positives = 0\n",
        "    false_positives = 0\n",
        "    # same for negatives\n",
        "    total_negatives = 0\n",
        "    true_negatives = 0\n",
        "    false_negatives = 0\n",
        "\n",
        "    for index, item in enumerate(predictions):\n",
        "        if item == 1: # if prediction == True\n",
        "            total_positives += 1 # total_positives in PREDICTION :== TP + FP\n",
        "            if item == actual[index]:\n",
        "                true_positives += 1\n",
        "            else:\n",
        "                false_positives += 1\n",
        "        # find FN in same loop; predictions[] == 0 !== actual[] == 1\n",
        "        # for true positive rate\n",
        "        elif item == 0:\n",
        "            total_negatives += 1 # again, this is of PREDICTED negatives\n",
        "            if item == actual[index]:\n",
        "                true_negatives += 1\n",
        "            else:\n",
        "                false_negatives += 1\n",
        "        \n",
        "\n",
        "    ppv =  true_positives / total_positives # positive predictive value\n",
        "    tpr = true_positives / (true_positives + false_negatives)\n",
        "    fpr = false_positives / (false_positives + true_negatives)\n",
        "\n",
        "    # return tuple, remember, order = (positive pred value, true positive rate)\n",
        "    return (ppv, tpr, fpr)\n",
        "\n",
        "    \n"
      ],
      "execution_count": 45,
      "outputs": []
    },
    {
      "cell_type": "code",
      "metadata": {
        "colab": {
          "base_uri": "https://localhost:8080/"
        },
        "id": "G4ZhugN8htXg",
        "outputId": "808b6bed-3849-4e4f-e7f9-41d1b9c9e7b7"
      },
      "source": [
        "# your code here\n",
        "# instantiate AdaBoost object w given parameters\n",
        "# clf = AdaBoostClassifier(n_estimators=25, random_state=23)\n",
        "# clf.fit(df_X, s_y)"
      ],
      "execution_count": 23,
      "outputs": [
        {
          "output_type": "execute_result",
          "data": {
            "text/plain": [
              "AdaBoostClassifier(algorithm='SAMME.R', base_estimator=None, learning_rate=1.0,\n",
              "                   n_estimators=25, random_state=23)"
            ]
          },
          "metadata": {},
          "execution_count": 23
        }
      ]
    },
    {
      "cell_type": "code",
      "metadata": {
        "id": "3pE-HrIv0vbE",
        "colab": {
          "base_uri": "https://localhost:8080/",
          "height": 803
        },
        "outputId": "6fe0c693-c049-4a96-bcd0-760513455cfc"
      },
      "source": [
        "# loop over the k folds of our 4 dictionaries\n",
        "# start with train X\n",
        "\n",
        "for key in d_train_df_X.keys(): # keys 1, 2, 3\n",
        "    # create AdaBoostClassifier object instance for this TRAIN fold\n",
        "    clf = AdaBoostClassifier(n_estimators=25, random_state=23)\n",
        "    clf.fit(d_train_df_X[key], d_train_s_y[key])\n",
        "\n",
        "    # get accuracy for this fold = acc\n",
        "    # FIXME...? this seems too high, but data also skewed to 0 so\n",
        "    acc = clf.score(d_test_df_X[key], d_test_s_y[key])\n",
        "    # get (PPV, TPR and FPR) for this fold\n",
        "    ppv, tpr, fpr = get_ppv_tpr_fpr(d_test_df_X[key], clf, d_test_s_y[key])\n",
        "\n",
        "    # update each ndarray with the corresponding calculated values\n",
        "    acc_ab[key - 1] = acc\n",
        "    ppv_ab[key - 1] = ppv\n",
        "    tpr_ab[key - 1] = tpr\n",
        "    fpr_ab[key - 1] = fpr\n",
        "\n",
        "    # FINALLY: plot the ROC curve for each fold\n",
        "    plot_roc_curve(clf, d_test_df_X[key], d_test_s_y[key])\n",
        "    plt.show()\n",
        "\n",
        "\n"
      ],
      "execution_count": 83,
      "outputs": [
        {
          "output_type": "display_data",
          "data": {
            "image/png": "[encoded data removed]",
            "text/plain": [
              "<Figure size 432x288 with 1 Axes>"
            ]
          },
          "metadata": {
            "needs_background": "light"
          }
        },
        {
          "output_type": "display_data",
          "data": {
            "image/png": "[encoded data removed]",
            "text/plain": [
              "<Figure size 432x288 with 1 Axes>"
            ]
          },
          "metadata": {
            "needs_background": "light"
          }
        },
        {
          "output_type": "display_data",
          "data": {
            "image/png": "[encoded data removed]",
            "text/plain": [
              "<Figure size 432x288 with 1 Axes>"
            ]
          },
          "metadata": {
            "needs_background": "light"
          }
        }
      ]
    },
    {
      "cell_type": "code",
      "metadata": {
        "id": "U1HaoCbWqD8E"
      },
      "source": [
        "# save predictions from fold 3 into y_hat_ab for future use\n",
        "y_hat_ab = clf.predict(d_test_df_X[3])"
      ],
      "execution_count": 84,
      "outputs": []
    },
    {
      "cell_type": "code",
      "metadata": {
        "id": "TbQKtc_K0vbE",
        "colab": {
          "base_uri": "https://localhost:8080/"
        },
        "outputId": "e0897553-cf73-4a73-f03a-b5dbc52cb1c9"
      },
      "source": [
        "print('The min, mean, and max TPR are: {:.2f}, {:.2f}, and {:.2f}'.format(tpr_ab.min(), tpr_ab.mean(), tpr_ab.max()))\n",
        "print('The min, mean, and max PPV are: {:.2f}, {:.2f}, and {:.2f}'.format(ppv_ab.min(), ppv_ab.mean(), ppv_ab.max()))\n",
        "print('The min, mean, and max ACC are: {:.2f}, {:.2f}, and {:.2f}'.format(acc_ab.min(), acc_ab.mean(), acc_ab.max()))"
      ],
      "execution_count": 68,
      "outputs": [
        {
          "output_type": "stream",
          "name": "stdout",
          "text": [
            "The min, mean, and max TPR are: 0.62, 0.65, and 0.71\n",
            "The min, mean, and max PPV are: 0.75, 0.79, and 0.82\n",
            "The min, mean, and max ACC are: 1.00, 1.00, and 1.00\n"
          ]
        }
      ]
    },
    {
      "cell_type": "markdown",
      "metadata": {
        "id": "6B3UIBCC0vbE"
      },
      "source": [
        "## Q3 Test the Performance of Random Forests\n",
        "\n",
        "Now, let's try another ensemble method: Random Forests, again using the [Scikit-learn implementation](https://scikit-learn.org/stable/modules/generated/sklearn.ensemble.RandomForestClassifier.html). \n",
        "\n",
        "Following our book, we will build complete trees, with no pruning.  That means every leaf in the tree will be completelely pure, and if you exam an individual Decision Tree it would be overtrained to our training set.  While building the decision trees, at every internal node, we select $p$ attributes at random, and then find the best split that minimizes impurtity.  The value, $p$, is a hyperparamter of the Random Forest and corresponds to the `max_features` parameter in the Random Forest Class. \n",
        "\n",
        "After you fit an RandomForest model, you can call the method `predict` to get a class prediction, or you can call `predict_proba` to get the probability of being in the class `0` or the class `1`. These probabilities are used when creating ROC curves. \n",
        "\n",
        "Loop over the $k$ folds using the dictionaries from the first problem, and for each fold calculate the accuracy, TPR, the PPV, and the FPR (feel free to reuse the functions that you already wrote to calculate these values - do not use a library function to compute these metrics).  Plot the ROC curve for each fold. You may use the [plot roc curve](https://scikit-learn.org/stable/modules/generated/sklearn.metrics.plot_roc_curve.html) from Scikit-learn. There is a great example in the documentation [on plotting ROC curves in cross validation](https://scikit-learn.org/stable/auto_examples/model_selection/plot_roc_crossval.html) that is helpful.  \n",
        "\n",
        "When creating your Random Forest classifier, please use the following parameters: \n",
        "`RandomForestClassifier(criterion=\"entropy\", max_features=\"sqrt\", random_state=23)`\n",
        "\n",
        "Save the predictions from the 3rd fold into a variable called `y_hat_rf` for use in a future problem."
      ]
    },
    {
      "cell_type": "code",
      "metadata": {
        "id": "knZax5_10vbE"
      },
      "source": [
        "k = 3\n",
        "acc_rf = np.zeros(k)\n",
        "tpr_rf = np.zeros(k)\n",
        "ppv_rf = np.zeros(k)\n",
        "fpr_rf = np.zeros(k)"
      ],
      "execution_count": 74,
      "outputs": []
    },
    {
      "cell_type": "code",
      "metadata": {
        "id": "SL-uXnC10vbF",
        "colab": {
          "base_uri": "https://localhost:8080/",
          "height": 803
        },
        "outputId": "83207d26-7390-476f-e163-ae3480f7de6e"
      },
      "source": [
        "# loop over the k folds of our 4 dictionaries\n",
        "# start with train X\n",
        "\n",
        "for key in d_train_df_X.keys(): # keys 1, 2, 3\n",
        "    # create AdaBoostClassifier object instance for this TRAIN fold\n",
        "    clf = RandomForestClassifier(criterion=\"entropy\", max_features=\"sqrt\", random_state=23)\n",
        "    clf.fit(d_train_df_X[key], d_train_s_y[key])\n",
        "\n",
        "    # get accuracy for this fold = acc\n",
        "    # FIXME...? this seems too high, but data also skewed to 0 so\n",
        "    acc = clf.score(d_test_df_X[key], d_test_s_y[key])\n",
        "    # get (PPV, TPR and FPR) for this fold\n",
        "    ppv, tpr, fpr = get_ppv_tpr_fpr(d_test_df_X[key], clf, d_test_s_y[key])\n",
        "\n",
        "    # update each ndarray with the corresponding calculated values\n",
        "    acc_rf[key - 1] = acc\n",
        "    ppv_rf[key - 1] = ppv\n",
        "    tpr_rf[key - 1] = tpr\n",
        "    fpr_rf[key - 1] = fpr\n",
        "\n",
        "    # FINALLY: plot the ROC curve for each fold\n",
        "    plot_roc_curve(clf, d_test_df_X[key], d_test_s_y[key])\n",
        "    plt.show()"
      ],
      "execution_count": 75,
      "outputs": [
        {
          "output_type": "display_data",
          "data": {
            "image/png": "[encoded data removed]",
            "text/plain": [
              "<Figure size 432x288 with 1 Axes>"
            ]
          },
          "metadata": {
            "needs_background": "light"
          }
        },
        {
          "output_type": "display_data",
          "data": {
            "image/png": "[encoded data removed]",
            "text/plain": [
              "<Figure size 432x288 with 1 Axes>"
            ]
          },
          "metadata": {
            "needs_background": "light"
          }
        },
        {
          "output_type": "display_data",
          "data": {
            "image/png": "[encoded data removed]",
            "text/plain": [
              "<Figure size 432x288 with 1 Axes>"
            ]
          },
          "metadata": {
            "needs_background": "light"
          }
        }
      ]
    },
    {
      "cell_type": "code",
      "metadata": {
        "id": "Y51l024CKmTz"
      },
      "source": [
        "y_hat_rf = clf.predict(d_test_df_X[3])"
      ],
      "execution_count": 81,
      "outputs": []
    },
    {
      "cell_type": "code",
      "metadata": {
        "id": "d5Drp2A20vbF",
        "colab": {
          "base_uri": "https://localhost:8080/"
        },
        "outputId": "a34fee42-b049-43fd-ac79-62a33760da4a"
      },
      "source": [
        "print('The min, mean, and max TPR are: {:.2f}, {:.2f}, and {:.2f}'.format(tpr_rf.min(), tpr_rf.mean(), tpr_rf.max()))\n",
        "print('The min, mean, and max PPV are: {:.2f}, {:.2f}, and {:.2f}'.format(ppv_rf.min(), ppv_rf.mean(), ppv_rf.max()))\n",
        "print('The min, mean, and max ACC are: {:.2f}, {:.2f}, and {:.2f}'.format(acc_rf.min(), acc_rf.mean(), acc_rf.max()))"
      ],
      "execution_count": 80,
      "outputs": [
        {
          "output_type": "stream",
          "name": "stdout",
          "text": [
            "The min, mean, and max TPR are: 0.75, 0.78, and 0.80\n",
            "The min, mean, and max PPV are: 0.92, 0.93, and 0.95\n",
            "The min, mean, and max ACC are: 1.00, 1.00, and 1.00\n"
          ]
        }
      ]
    },
    {
      "cell_type": "markdown",
      "metadata": {
        "id": "1XU70_Mf0vbF"
      },
      "source": [
        "# Q4 Calculate the Cost of Fraud \n",
        "\n",
        "In the above problems, we saved the predictions of the 3rd fold into the variables `y_hat_ab` and `y_hat_rf` for the AdaBoost and RandomForest models respectively. \n",
        "\n",
        "Now, Mr. Bank Man wants you to tell him how much money he is going to save if he deploys either of these fraud algorithms to the real-time payment processing system.  Assume that there is not a currently deployed fraud detection algorithm.  \n",
        "\n",
        "For every fraudulent transaction that is not predicted as fraudulent the bank looses twice the value of the transaction.  So, if a fradulent charge for €10 is undectected, it costs the bank €20.  Also, if a charge is predicted as fradulent, but wasn't, it costs the bank a flat fee of €3 in customer service support to communicate with the customer, and mark the possible fraud as a normal transaction. \n",
        "\n",
        "Using the 3rd fold test sample, calculate how much money Mr Bank Man will save by deploying each algorithm, and make a recommendation of which algorithm to deploy to production.  To calculate savings to the bank, you must first calculate the cost of the status quo, which is having no algorithm deployed. "
      ]
    },
    {
      "cell_type": "code",
      "metadata": {
        "colab": {
          "base_uri": "https://localhost:8080/"
        },
        "id": "_I7f90wjQc3-",
        "outputId": "a6537929-2d52-41c9-81d5-65c87a7e7e51"
      },
      "source": [
        "# pd.Series of 'Amount' column from 3rd fold df_X\n",
        "# initialize as global variables\n",
        "costs = d_test_df_X[3]['Amount'].to_numpy()\n",
        "actual_data = d_test_s_y[3].reset_index(drop=True).to_numpy()\n",
        "\n",
        "# ~~~ FIND CURRENT COST TO BANK ~~~\n",
        "cost_to_bank = 0\n",
        "for index, value in enumerate(actual_data):\n",
        "    if value == 1:\n",
        "        cost_to_bank += 2 * costs[index]"
      ],
      "execution_count": 143,
      "outputs": [
        {
          "output_type": "execute_result",
          "data": {
            "text/plain": [
              "22484.739999999994"
            ]
          },
          "metadata": {},
          "execution_count": 143
        }
      ]
    },
    {
      "cell_type": "code",
      "metadata": {
        "id": "i5hYCvdK0vbF",
        "colab": {
          "base_uri": "https://localhost:8080/"
        },
        "outputId": "4271b336-3d6f-4c4a-fda7-c22a907ae438"
      },
      "source": [
        "# positive == fraud == 1\n",
        "# false negative: -2 * Amount\n",
        "# false positive: -3\n",
        "\n",
        "# dataframe has column 'Amount' which is the value of the transaction\n",
        "# build function for cost of fraud, based on function for ROC vals above\n",
        "# all should have length 47468\n",
        "\n",
        "# want: status quo + savings from algo == savings to bank\n",
        "def get_savings_from_algo(y_hat):\n",
        "    savings_from_algo = 0\n",
        "    for index, prediction in enumerate(y_hat):\n",
        "        # calculate savings from CORRECT fraud call, and costs from false positive\n",
        "        if prediction == 1:\n",
        "            if actual_data[index] == 1:\n",
        "                savings_from_algo += 2 * costs[index]\n",
        "            else: # false positive\n",
        "                savings_from_algo -= 3\n",
        "    return savings_from_algo\n",
        "\n",
        "\n",
        "alg_savings_ab = get_savings_from_algo(y_hat_ab)\n",
        "alg_savings_rf = get_savings_from_algo(y_hat_rf)\n",
        "print(\"AB Algorithm Savings: € {:.2f}\".format(alg_savings_ab))\n",
        "print(\"RF Algorithm Savings: € {:.2f}\".format(alg_savings_rf))\n",
        "print()\n",
        "print(\"AB Overall Cost to Bank: € {:.2f}\".format(cost_to_bank - alg_savings_ab))\n",
        "print(\"RF Overall Cost to Bank: € {:.2f}\".format(cost_to_bank - alg_savings_rf))\n",
        "\n",
        "\n",
        "\n"
      ],
      "execution_count": 151,
      "outputs": [
        {
          "output_type": "stream",
          "name": "stdout",
          "text": [
            "AB Algorithm Savings: € 13946.42\n",
            "RF Algorithm Savings: € 18121.36\n",
            "\n",
            "AB Overall Cost to Bank: € 8538.32\n",
            "RF Overall Cost to Bank: € 4363.38\n"
          ]
        }
      ]
    },
    {
      "cell_type": "markdown",
      "metadata": {
        "id": "6x_Zz5Hs0vbF"
      },
      "source": [
        "➡️ YOUR ANSWER HERE Mr Bank man will \\[save|lose\\] money, if we deploy the ___ algorithm! YOUR ANSWER HERE ⬅️"
      ]
    },
    {
      "cell_type": "markdown",
      "metadata": {
        "id": "vg6ySBQqakaw"
      },
      "source": [
        "As we calculate above, the status-quo cost of fraud to the bank is €22484.74. If Mr. Bank Man implements the AB algorithm, he will save €13946.42. On the other hand, if he implements the RF algorithm, he will save €18121.36. Since RF has the greater savings amount, it follows that he should go with this one.\n",
        "\n",
        "\n",
        "Finally, we also see above that the **overall** costs to bank (the status quo cost less the savings from each algorithm) for AB and RF are €8538.32 and €4363.38, respectively."
      ]
    }
  ]
}