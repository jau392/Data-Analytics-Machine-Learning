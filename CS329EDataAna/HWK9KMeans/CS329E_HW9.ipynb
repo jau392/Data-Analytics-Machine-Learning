{
  "nbformat": 4,
  "nbformat_minor": 0,
  "metadata": {
    "kernelspec": {
      "display_name": "Python 3 (ipykernel)",
      "language": "python",
      "name": "python3"
    },
    "language_info": {
      "codemirror_mode": {
        "name": "ipython",
        "version": 3
      },
      "file_extension": ".py",
      "mimetype": "text/x-python",
      "name": "python",
      "nbconvert_exporter": "python",
      "pygments_lexer": "ipython3",
      "version": "3.9.7"
    },
    "colab": {
      "name": "CS329E_HW9.ipynb",
      "provenance": []
    }
  },
  "cells": [
    {
      "cell_type": "markdown",
      "metadata": {
        "id": "6wZ4L1xE-lRI"
      },
      "source": [
        "## C S 329E HW 9\n",
        "\n",
        "# Clustering with K-means \n",
        "\n",
        "## Jeremy Ulfohn, Pair 42\n",
        "\n",
        "For this week's homework we are going explore our first clustering method:\n",
        "\n",
        "  - K-Means\n",
        "  \n",
        "As we discussed in lecture, k-means creates clusters based on a distance measure.  Using a small example data set, we will implement the algorithm and visualize the results.\n",
        "\n",
        "Even though the example data is small and 2 dimensional, write your helper functions to not assume a 2-D data set.  Your plotting code can reference the `x` and `y` column names from the sample data directly. \n",
        "\n",
        "Note that I have added a one or two lines of code to the questions to test your implementation. "
      ]
    },
    {
      "cell_type": "code",
      "metadata": {
        "id": "kM7yx4kV-lRP"
      },
      "source": [
        "# Do not import anything else\n",
        "import pandas as pd\n",
        "import matplotlib.pyplot as plt\n",
        "import numpy as np\n"
      ],
      "execution_count": 103,
      "outputs": []
    },
    {
      "cell_type": "markdown",
      "metadata": {
        "id": "Gbd4qz51-lRR"
      },
      "source": [
        "# K-Means\n",
        "\n",
        "We will implement the Algorithm 7.1 \"Basic K-means\", and apply that algorithm to a small data set provided with the assignment in the `data_kmeans.csv` file. We will build up some helper functions along the way, test them, and put it all together to apply to our small example data set. "
      ]
    },
    {
      "cell_type": "code",
      "metadata": {
        "colab": {
          "base_uri": "https://localhost:8080/",
          "height": 204
        },
        "id": "6oeGeZy5-lRR",
        "outputId": "b203661f-a382-4cd4-fa82-22db9a629be4"
      },
      "source": [
        "# loading in our toy data\n",
        "df_kmeans = pd.read_csv(\"https://gist.githubusercontent.com/TieJean/ff4dbd0022ab5e292db73d8b4910f551/raw/624db21e20faa92b79e5289ce4d9002e863b0d68/data_kmeans.csv\")\n",
        "df_kmeans.head() # 450 rows, 2 col"
      ],
      "execution_count": 104,
      "outputs": [
        {
          "output_type": "execute_result",
          "data": {
            "text/html": [
              "<div>\n",
              "<style scoped>\n",
              "    .dataframe tbody tr th:only-of-type {\n",
              "        vertical-align: middle;\n",
              "    }\n",
              "\n",
              "    .dataframe tbody tr th {\n",
              "        vertical-align: top;\n",
              "    }\n",
              "\n",
              "    .dataframe thead th {\n",
              "        text-align: right;\n",
              "    }\n",
              "</style>\n",
              "<table border=\"1\" class=\"dataframe\">\n",
              "  <thead>\n",
              "    <tr style=\"text-align: right;\">\n",
              "      <th></th>\n",
              "      <th>x</th>\n",
              "      <th>y</th>\n",
              "    </tr>\n",
              "  </thead>\n",
              "  <tbody>\n",
              "    <tr>\n",
              "      <th>0</th>\n",
              "      <td>-0.731698</td>\n",
              "      <td>-0.874311</td>\n",
              "    </tr>\n",
              "    <tr>\n",
              "      <th>1</th>\n",
              "      <td>-0.547702</td>\n",
              "      <td>-0.580320</td>\n",
              "    </tr>\n",
              "    <tr>\n",
              "      <th>2</th>\n",
              "      <td>-0.762840</td>\n",
              "      <td>-0.885572</td>\n",
              "    </tr>\n",
              "    <tr>\n",
              "      <th>3</th>\n",
              "      <td>-0.340946</td>\n",
              "      <td>-0.810411</td>\n",
              "    </tr>\n",
              "    <tr>\n",
              "      <th>4</th>\n",
              "      <td>-0.749065</td>\n",
              "      <td>-0.399218</td>\n",
              "    </tr>\n",
              "  </tbody>\n",
              "</table>\n",
              "</div>"
            ],
            "text/plain": [
              "          x         y\n",
              "0 -0.731698 -0.874311\n",
              "1 -0.547702 -0.580320\n",
              "2 -0.762840 -0.885572\n",
              "3 -0.340946 -0.810411\n",
              "4 -0.749065 -0.399218"
            ]
          },
          "metadata": {},
          "execution_count": 104
        }
      ]
    },
    {
      "cell_type": "markdown",
      "metadata": {
        "id": "V3W5fsPy-lRS"
      },
      "source": [
        "## Q1 - Write a function that returns `k` random rows from a data frame\n",
        "\n",
        "To initialize the centroids, we pick `k` random points from a data frame.  Write a function `init_centroids( df_data, k )` that accepts two parameters: a data frame `df_data`, and an integer `k`, and returns the initial centroids for our k-means algorithm.  Note, we want the indices of the returned data frame to range from 0 - (k-1) so that we can use these as the centroid labels.  Use [pandas sample](https://pandas.pydata.org/pandas-docs/stable/reference/api/pandas.DataFrame.sample.html) method, and pass it the value of $42$ for `random_state`. "
      ]
    },
    {
      "cell_type": "code",
      "metadata": {
        "id": "kwdfRoTq-lRS"
      },
      "source": [
        "def init_centroids( df_data, k ):\n",
        "    # get k random rows from df_data.iterrows()\n",
        "    # indices range from [0, k-1], so use .reset_index(drop=True)\n",
        "    return df_data.sample(n=k, random_state=42, axis=0).reset_index(drop=True)\n",
        "\n"
      ],
      "execution_count": 105,
      "outputs": []
    },
    {
      "cell_type": "code",
      "metadata": {
        "colab": {
          "base_uri": "https://localhost:8080/",
          "height": 266
        },
        "id": "KC91cPxt-lRT",
        "outputId": "e682df94-acff-4dce-e23b-6558511b4c35"
      },
      "source": [
        "# Testing our init centroid function\n",
        "df_centroids = init_centroids( df_kmeans, 7 )\n",
        "df_centroids"
      ],
      "execution_count": 106,
      "outputs": [
        {
          "output_type": "execute_result",
          "data": {
            "text/html": [
              "<div>\n",
              "<style scoped>\n",
              "    .dataframe tbody tr th:only-of-type {\n",
              "        vertical-align: middle;\n",
              "    }\n",
              "\n",
              "    .dataframe tbody tr th {\n",
              "        vertical-align: top;\n",
              "    }\n",
              "\n",
              "    .dataframe thead th {\n",
              "        text-align: right;\n",
              "    }\n",
              "</style>\n",
              "<table border=\"1\" class=\"dataframe\">\n",
              "  <thead>\n",
              "    <tr style=\"text-align: right;\">\n",
              "      <th></th>\n",
              "      <th>x</th>\n",
              "      <th>y</th>\n",
              "    </tr>\n",
              "  </thead>\n",
              "  <tbody>\n",
              "    <tr>\n",
              "      <th>0</th>\n",
              "      <td>-0.633437</td>\n",
              "      <td>0.488756</td>\n",
              "    </tr>\n",
              "    <tr>\n",
              "      <th>1</th>\n",
              "      <td>-0.597736</td>\n",
              "      <td>0.632194</td>\n",
              "    </tr>\n",
              "    <tr>\n",
              "      <th>2</th>\n",
              "      <td>-0.635867</td>\n",
              "      <td>0.166613</td>\n",
              "    </tr>\n",
              "    <tr>\n",
              "      <th>3</th>\n",
              "      <td>-0.539351</td>\n",
              "      <td>-0.875532</td>\n",
              "    </tr>\n",
              "    <tr>\n",
              "      <th>4</th>\n",
              "      <td>-0.588597</td>\n",
              "      <td>0.293062</td>\n",
              "    </tr>\n",
              "    <tr>\n",
              "      <th>5</th>\n",
              "      <td>-0.127985</td>\n",
              "      <td>-0.136639</td>\n",
              "    </tr>\n",
              "    <tr>\n",
              "      <th>6</th>\n",
              "      <td>0.342579</td>\n",
              "      <td>0.211717</td>\n",
              "    </tr>\n",
              "  </tbody>\n",
              "</table>\n",
              "</div>"
            ],
            "text/plain": [
              "          x         y\n",
              "0 -0.633437  0.488756\n",
              "1 -0.597736  0.632194\n",
              "2 -0.635867  0.166613\n",
              "3 -0.539351 -0.875532\n",
              "4 -0.588597  0.293062\n",
              "5 -0.127985 -0.136639\n",
              "6  0.342579  0.211717"
            ]
          },
          "metadata": {},
          "execution_count": 106
        }
      ]
    },
    {
      "cell_type": "markdown",
      "metadata": {
        "id": "1eWcSr6R-lRU"
      },
      "source": [
        "## Q2 - Write a function to assign every row in a data frame to a centroid \n",
        "\n",
        "Write a function, `assign_to_centroid`, that accepts two parameters: a data frame, `df_data`, that represents our data to be clustered, and the data frame, `df_centroids`, which is of length `k` and contains the current centroids for our clusters.  The functions returns a series of the same length of `df_data` that contains the index of the closest centroid in `df_centroid`.  Use Euclidean distance as your distance measure. \n",
        "\n",
        "For example, if a row of data contained the data point $(100,123)$ and the three centroids were in a data frame that had the following information:\n",
        "\n",
        "  - Index 0 : (34,34)\n",
        "  - Index 1 : (0,1)\n",
        "  - Index 2 : (83,99)\n",
        "\n",
        "The `assign_to_centroid` function would assign the index $2$ to that row of data. "
      ]
    },
    {
      "cell_type": "code",
      "metadata": {
        "id": "rhWNGSqY-lRU"
      },
      "source": [
        "# OUTPUT: pd.Series of same length as df_data that contains...\n",
        "# ...indices of closest centroid in df_centroids\n",
        "def assign_to_centroid( df_data, df_centroids ):\n",
        "    # nested helper function to handle each row of df_data\n",
        "    def get_closest_centroid_index(data_row):\n",
        "        dist_tuples = [] # list of (ind, dist) of which to find minimum\n",
        "\n",
        "        # FIXME: this loop is fucked up\n",
        "        for index, row in df_centroids.iterrows():\n",
        "            a = np.array(data_row)\n",
        "            b = np.array(row)\n",
        "            euclidean = np.linalg.norm(a - b)\n",
        "            dist_tuples.append((index, euclidean))\n",
        "        \n",
        "        # now find and return minimum INDEX OF EUCLIDEAN DIST of dist_tuples\n",
        "        return min(dist_tuples, key = lambda t: t[1])[0]\n",
        "\n",
        "    closest_centroids = [] # initialize output\n",
        "\n",
        "    # get euclidean_dist between each point and centroid\n",
        "    # find minimum (closest centroid) and get index thereof\n",
        "    for index, row in df_data.iterrows():\n",
        "        closest_centroids.append(get_closest_centroid_index(row))\n",
        "    \n",
        "    return pd.Series(closest_centroids) # return pd.Series version\n",
        "    "
      ],
      "execution_count": 107,
      "outputs": []
    },
    {
      "cell_type": "code",
      "metadata": {
        "colab": {
          "base_uri": "https://localhost:8080/"
        },
        "id": "hrFlhsLL-lRV",
        "outputId": "a615ae7e-ac8a-46d3-be42-30a924b88835"
      },
      "source": [
        "# Check how many data points were assigned to each centroid\n",
        "# checked: len == df_data_len == 450\n",
        "s_centroid_assignment = assign_to_centroid( df_kmeans, df_centroids )\n",
        "s_centroid_assignment.value_counts()"
      ],
      "execution_count": 154,
      "outputs": [
        {
          "output_type": "execute_result",
          "data": {
            "text/plain": [
              "6    126\n",
              "1     94\n",
              "3     71\n",
              "5     58\n",
              "0     53\n",
              "2     26\n",
              "4     22\n",
              "dtype: int64"
            ]
          },
          "metadata": {},
          "execution_count": 154
        }
      ]
    },
    {
      "cell_type": "markdown",
      "metadata": {
        "id": "V2lCaiFG-lRW"
      },
      "source": [
        "## Q3 - Write a function that recomputes the centroids\n",
        "\n",
        "Write a function `compute_centroids` that takes two parameters: the data frame, `df_data` containing the data being clustered, and a series of the same length that contains the label of the assigned centroid for every row in df_data, `s_centroid_assignment`. The function will return the a data frame containing the centroids (mean) value for each unique centroid. \n",
        "\n",
        "Note that the indices in the returned data frame should correspond to the unique values in `s_centroid_assignment`.  For example, if I found the mean value of df_data using the slice corresponding to `s_centroid_assigment == 2`, then the centroid should be in the returned data frame at `.iloc[2]`. \n"
      ]
    },
    {
      "cell_type": "code",
      "metadata": {
        "id": "5oek9HDHOfMF"
      },
      "source": [
        "# Helper function; takes pd.Series and value for occurence indices\n",
        "def get_indices_where(series, test_k):\n",
        "    indices = []\n",
        "    for index, value in series.items():\n",
        "        if value == test_k:\n",
        "            indices.append(index)\n",
        "    return indices\n",
        "    "
      ],
      "execution_count": 109,
      "outputs": []
    },
    {
      "cell_type": "code",
      "metadata": {
        "id": "Iu_m-szE-lRW"
      },
      "source": [
        "# INPUT: df_data, s_centroid_assignment: pd.Series containing centroid label\n",
        "# OUTPUT: pd.Dataframe containing mean df_data value FOR each centroid\n",
        "# i.e. it will have index [0, 6, ++] and col 'x' and 'y'\n",
        "def compute_centroids( df_data, s_centroid_assignment ):\n",
        "    null_dict = dict() # keys 0 through 6\n",
        "\n",
        "    # (1) slice df_data where s_centroid_assignment == 0, ==1, etc.\n",
        "    # FIXME: this always uses k :== 7!!!\n",
        "    for current_k in range(s_centroid_assignment.max()+1): # df_centroids is same as kval\n",
        "        # get indices in s_centroid_assignment where k == current_k\n",
        "        indices = get_indices_where(s_centroid_assignment, current_k)\n",
        "        \n",
        "        # now get 'x' and 'y' averages from df_data AT these indices (slices)\n",
        "        null_dict[current_k] = []\n",
        "        for col in df_data:\n",
        "            # add dict entry at this k\n",
        "            null_dict[current_k].append(df_data.iloc[indices][col].mean())\n",
        "\n",
        "    # finally, convert null_dict to df\n",
        "    return pd.DataFrame.from_dict(null_dict, orient='index', columns=['x', 'y'])\n",
        "    "
      ],
      "execution_count": 151,
      "outputs": []
    },
    {
      "cell_type": "code",
      "metadata": {
        "colab": {
          "base_uri": "https://localhost:8080/",
          "height": 266
        },
        "id": "vnD44EJz-lRX",
        "outputId": "35eb0b69-e5d3-4cca-f0fd-a8a81491d60e"
      },
      "source": [
        "# Test it out\n",
        "df_new_centroids = compute_centroids( df_kmeans, s_centroid_assignment)\n",
        "df_new_centroids"
      ],
      "execution_count": 111,
      "outputs": [
        {
          "output_type": "execute_result",
          "data": {
            "text/html": [
              "<div>\n",
              "<style scoped>\n",
              "    .dataframe tbody tr th:only-of-type {\n",
              "        vertical-align: middle;\n",
              "    }\n",
              "\n",
              "    .dataframe tbody tr th {\n",
              "        vertical-align: top;\n",
              "    }\n",
              "\n",
              "    .dataframe thead th {\n",
              "        text-align: right;\n",
              "    }\n",
              "</style>\n",
              "<table border=\"1\" class=\"dataframe\">\n",
              "  <thead>\n",
              "    <tr style=\"text-align: right;\">\n",
              "      <th></th>\n",
              "      <th>x</th>\n",
              "      <th>y</th>\n",
              "    </tr>\n",
              "  </thead>\n",
              "  <tbody>\n",
              "    <tr>\n",
              "      <th>0</th>\n",
              "      <td>-0.715983</td>\n",
              "      <td>0.500552</td>\n",
              "    </tr>\n",
              "    <tr>\n",
              "      <th>1</th>\n",
              "      <td>-0.721574</td>\n",
              "      <td>0.708343</td>\n",
              "    </tr>\n",
              "    <tr>\n",
              "      <th>2</th>\n",
              "      <td>-0.738268</td>\n",
              "      <td>-0.113830</td>\n",
              "    </tr>\n",
              "    <tr>\n",
              "      <th>3</th>\n",
              "      <td>-0.696694</td>\n",
              "      <td>-0.699028</td>\n",
              "    </tr>\n",
              "    <tr>\n",
              "      <th>4</th>\n",
              "      <td>-0.546913</td>\n",
              "      <td>0.321364</td>\n",
              "    </tr>\n",
              "    <tr>\n",
              "      <th>5</th>\n",
              "      <td>-0.102365</td>\n",
              "      <td>-0.188876</td>\n",
              "    </tr>\n",
              "    <tr>\n",
              "      <th>6</th>\n",
              "      <td>0.523364</td>\n",
              "      <td>0.238569</td>\n",
              "    </tr>\n",
              "  </tbody>\n",
              "</table>\n",
              "</div>"
            ],
            "text/plain": [
              "          x         y\n",
              "0 -0.715983  0.500552\n",
              "1 -0.721574  0.708343\n",
              "2 -0.738268 -0.113830\n",
              "3 -0.696694 -0.699028\n",
              "4 -0.546913  0.321364\n",
              "5 -0.102365 -0.188876\n",
              "6  0.523364  0.238569"
            ]
          },
          "metadata": {},
          "execution_count": 111
        }
      ]
    },
    {
      "cell_type": "markdown",
      "metadata": {
        "id": "pTZ37e-Y-lRX"
      },
      "source": [
        "## Q4 - Write a function that compares two centroid data frames\n",
        "\n",
        "The stopping criterion for k-means is when our centroids have not moved since the last iteration.  Write a function `compare_centroids` that is given 2 centroid data frames, `df_centroid_a`, and `df_centroid_b` as parameters and returns `True` or `False` indicating if the centroids at each unique index in the data frame are equal. Use the [equals](https://pandas.pydata.org/pandas-docs/stable/reference/api/pandas.Series.equals.html) method to compare equality of pandas Series objects. "
      ]
    },
    {
      "cell_type": "code",
      "metadata": {
        "id": "9Y4tJkKN-lRY"
      },
      "source": [
        "def compare_centroids( df_centroid_a, df_centroid_b ):\n",
        "    return df_centroid_a.equals(df_centroid_b) # pd..equals() can be on df or s"
      ],
      "execution_count": 112,
      "outputs": []
    },
    {
      "cell_type": "code",
      "metadata": {
        "colab": {
          "base_uri": "https://localhost:8080/"
        },
        "id": "uqyg3T0C-lRY",
        "outputId": "65e3449b-2f2a-4948-efb7-6cdf1c5bb71d"
      },
      "source": [
        "# Test it out, should print True followed by False\n",
        "print(compare_centroids( df_new_centroids, df_new_centroids ))\n",
        "print(compare_centroids( df_new_centroids, df_centroids ))"
      ],
      "execution_count": 113,
      "outputs": [
        {
          "output_type": "stream",
          "name": "stdout",
          "text": [
            "True\n",
            "False\n"
          ]
        }
      ]
    },
    {
      "cell_type": "markdown",
      "metadata": {
        "id": "ZyVxrWg1-lRY"
      },
      "source": [
        "## Q5 - Write a function that implements k-means\n",
        "\n",
        "Write a function, `k_means`, that takes in as parameters 2 values, a data frame with values to cluster, `df_data`, and the number of clusters to form, `k`.  The function should return a series of data of the same length as `df_data` that contains the cluster assignment (an integer from 0 to (k-1)) for each row of data.  Use the helper functions defined in the prior questions. "
      ]
    },
    {
      "cell_type": "code",
      "metadata": {
        "id": "JT3mD8UB-lRZ"
      },
      "source": [
        "# OUTPUT: pd.Series (homomagnitudinal) \n",
        "def k_means( df_data, k ):\n",
        "    # 1) choose k random points as centroids_0, and assign first cluster set\n",
        "    df_centroids = init_centroids( df_data, k )\n",
        "\n",
        "    # begin loop after null case\n",
        "    # FIXME: this is where it's implied that k == 7. check assign_to_centroid()\n",
        "    new_s_centroid_assignment = assign_to_centroid( df_data, df_centroids )\n",
        "\n",
        "    # 2) update centroid of each cluster based on mean\n",
        "    df_new_centroids = compute_centroids(df_data, new_s_centroid_assignment)\n",
        "\n",
        "    # LOOP: 3) recluster points by closest centroid\n",
        "    #       4) repeat steps until compare_centroids = True, True\n",
        "    while not compare_centroids(df_centroids, df_new_centroids):\n",
        "        df_centroids = df_new_centroids\n",
        "        new_s_centroid_assignment = assign_to_centroid( df_data, df_centroids )\n",
        "        df_new_centroids = compute_centroids(df_data, new_s_centroid_assignment)\n",
        "\n",
        "    # s_centroid_assignment (df of cluster assignments) is now finalized\n",
        "    return new_s_centroid_assignment\n",
        "\n",
        "\n",
        "\n",
        "\n",
        "\n",
        "\n"
      ],
      "execution_count": 114,
      "outputs": []
    },
    {
      "cell_type": "code",
      "metadata": {
        "colab": {
          "base_uri": "https://localhost:8080/"
        },
        "id": "n2l64Hex-lRZ",
        "outputId": "9f710472-7511-4647-ab8c-1f7b85da622c"
      },
      "source": [
        "# Call k_means with k = 5 to test\n",
        "new_s_cluster_assignment = k_means( df_kmeans, 5)\n",
        "new_s_cluster_assignment.value_counts()"
      ],
      "execution_count": 149,
      "outputs": [
        {
          "output_type": "execute_result",
          "data": {
            "text/plain": [
              "0    178\n",
              "3     89\n",
              "2     74\n",
              "4     63\n",
              "1     46\n",
              "dtype: int64"
            ]
          },
          "metadata": {},
          "execution_count": 149
        }
      ]
    },
    {
      "cell_type": "markdown",
      "metadata": {
        "id": "ZaijgYDo-lRZ"
      },
      "source": [
        "## Q6 - Plot the results\n",
        "\n",
        "Plot the points in the `df_kmeans` data frame using a 2-D scatter plot, with a different color for each cluster.  Use the cluster assignments from the previous problem (`s_cluster_assignments`).  Label your axes, and give the plot a title. "
      ]
    },
    {
      "cell_type": "code",
      "metadata": {
        "colab": {
          "base_uri": "https://localhost:8080/",
          "height": 312
        },
        "id": "8HMImFNk-lRZ",
        "outputId": "395260e5-b52d-4291-9a76-1d85f81d95ff"
      },
      "source": [
        "# GOAL: Plot each cluster\n",
        "\n",
        "# concatenate new_s_cluster_assignment onto df_means\n",
        "df_to_plot = pd.concat([df_kmeans, new_s_cluster_assignment], axis=1)\n",
        "df_to_plot.columns.values[2] = \"cluster, int 0-4\" # rename col by index with .values[]\n",
        "\n",
        "# use matplotlib.pyplot :== plt\n",
        "fig, ax = plt.subplots()\n",
        "cmap = plt.get_cmap('jet', 5)\n",
        "df_to_plot.plot(kind='scatter', x='x', y='y', s=10, c='cluster, int 0-4', colormap=cmap, ax=ax)\n",
        "# title and axis labels\n",
        "plt.title(\"K-Means Cluster Assignments\")\n",
        "plt.xlabel(\"X Value\")\n",
        "plt.ylabel(\"Y Value\")\n",
        "\n",
        " "
      ],
      "execution_count": 148,
      "outputs": [
        {
          "output_type": "execute_result",
          "data": {
            "text/plain": [
              "Text(0, 0.5, 'Y Value')"
            ]
          },
          "metadata": {},
          "execution_count": 148
        },
        {
          "output_type": "display_data",
          "data": {
            "image/png": "[encoded data removed]",
            "text/plain": [
              "<Figure size 432x288 with 2 Axes>"
            ]
          },
          "metadata": {
            "needs_background": "light"
          }
        }
      ]
    }
  ]
}